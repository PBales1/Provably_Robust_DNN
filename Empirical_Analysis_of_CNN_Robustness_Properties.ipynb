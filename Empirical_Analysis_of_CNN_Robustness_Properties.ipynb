{
 "cells": [
  {
   "cell_type": "code",
   "execution_count": 2,
   "id": "661cde4e",
   "metadata": {},
   "outputs": [
    {
     "name": "stdout",
     "output_type": "stream",
     "text": [
      "Defaulting to user installation because normal site-packages is not writeable\n",
      "Requirement already satisfied: torch in /home/zero/.local/lib/python3.10/site-packages (2.0.0)\n",
      "Requirement already satisfied: triton==2.0.0 in /home/zero/.local/lib/python3.10/site-packages (from torch) (2.0.0)\n",
      "Requirement already satisfied: networkx in /home/zero/.local/lib/python3.10/site-packages (from torch) (3.1)\n",
      "Requirement already satisfied: nvidia-cudnn-cu11==8.5.0.96 in /home/zero/.local/lib/python3.10/site-packages (from torch) (8.5.0.96)\n",
      "Requirement already satisfied: nvidia-nccl-cu11==2.14.3 in /home/zero/.local/lib/python3.10/site-packages (from torch) (2.14.3)\n",
      "Requirement already satisfied: nvidia-cuda-nvrtc-cu11==11.7.99 in /home/zero/.local/lib/python3.10/site-packages (from torch) (11.7.99)\n",
      "Requirement already satisfied: nvidia-nvtx-cu11==11.7.91 in /home/zero/.local/lib/python3.10/site-packages (from torch) (11.7.91)\n",
      "Requirement already satisfied: sympy in /home/zero/.local/lib/python3.10/site-packages (from torch) (1.11.1)\n",
      "Requirement already satisfied: nvidia-curand-cu11==10.2.10.91 in /home/zero/.local/lib/python3.10/site-packages (from torch) (10.2.10.91)\n",
      "Requirement already satisfied: typing-extensions in /home/zero/.local/lib/python3.10/site-packages (from torch) (4.5.0)\n",
      "Requirement already satisfied: filelock in /home/zero/.local/lib/python3.10/site-packages (from torch) (3.12.0)\n",
      "Requirement already satisfied: nvidia-cusolver-cu11==11.4.0.1 in /home/zero/.local/lib/python3.10/site-packages (from torch) (11.4.0.1)\n",
      "Requirement already satisfied: nvidia-cusparse-cu11==11.7.4.91 in /home/zero/.local/lib/python3.10/site-packages (from torch) (11.7.4.91)\n",
      "Requirement already satisfied: nvidia-cublas-cu11==11.10.3.66 in /home/zero/.local/lib/python3.10/site-packages (from torch) (11.10.3.66)\n",
      "Requirement already satisfied: nvidia-cuda-runtime-cu11==11.7.99 in /home/zero/.local/lib/python3.10/site-packages (from torch) (11.7.99)\n",
      "Requirement already satisfied: jinja2 in /usr/lib/python3/dist-packages (from torch) (3.0.3)\n",
      "Requirement already satisfied: nvidia-cufft-cu11==10.9.0.58 in /home/zero/.local/lib/python3.10/site-packages (from torch) (10.9.0.58)\n",
      "Requirement already satisfied: nvidia-cuda-cupti-cu11==11.7.101 in /home/zero/.local/lib/python3.10/site-packages (from torch) (11.7.101)\n",
      "Requirement already satisfied: setuptools in /home/zero/.local/lib/python3.10/site-packages (from nvidia-cublas-cu11==11.10.3.66->torch) (67.6.1)\n",
      "Requirement already satisfied: wheel in /usr/lib/python3/dist-packages (from nvidia-cublas-cu11==11.10.3.66->torch) (0.37.1)\n",
      "Requirement already satisfied: cmake in /home/zero/.local/lib/python3.10/site-packages (from triton==2.0.0->torch) (3.26.3)\n",
      "Requirement already satisfied: lit in /home/zero/.local/lib/python3.10/site-packages (from triton==2.0.0->torch) (16.0.2)\n",
      "Requirement already satisfied: mpmath>=0.19 in /home/zero/.local/lib/python3.10/site-packages (from sympy->torch) (1.3.0)\n",
      "\n",
      "\u001b[1m[\u001b[0m\u001b[34;49mnotice\u001b[0m\u001b[1;39;49m]\u001b[0m\u001b[39;49m A new release of pip is available: \u001b[0m\u001b[31;49m23.0.1\u001b[0m\u001b[39;49m -> \u001b[0m\u001b[32;49m23.1.2\u001b[0m\n",
      "\u001b[1m[\u001b[0m\u001b[34;49mnotice\u001b[0m\u001b[1;39;49m]\u001b[0m\u001b[39;49m To update, run: \u001b[0m\u001b[32;49mpip install --upgrade pip\u001b[0m\n",
      "Defaulting to user installation because normal site-packages is not writeable\n",
      "Requirement already satisfied: torchvision in /home/zero/.local/lib/python3.10/site-packages (0.15.1)\n",
      "Requirement already satisfied: pillow!=8.3.*,>=5.3.0 in /usr/lib/python3/dist-packages (from torchvision) (9.0.1)\n",
      "Requirement already satisfied: torch==2.0.0 in /home/zero/.local/lib/python3.10/site-packages (from torchvision) (2.0.0)\n",
      "Requirement already satisfied: numpy in /usr/lib/python3/dist-packages (from torchvision) (1.21.5)\n",
      "Requirement already satisfied: requests in /usr/lib/python3/dist-packages (from torchvision) (2.25.1)\n",
      "Requirement already satisfied: nvidia-cudnn-cu11==8.5.0.96 in /home/zero/.local/lib/python3.10/site-packages (from torch==2.0.0->torchvision) (8.5.0.96)\n",
      "Requirement already satisfied: nvidia-nccl-cu11==2.14.3 in /home/zero/.local/lib/python3.10/site-packages (from torch==2.0.0->torchvision) (2.14.3)\n",
      "Requirement already satisfied: networkx in /home/zero/.local/lib/python3.10/site-packages (from torch==2.0.0->torchvision) (3.1)\n",
      "Requirement already satisfied: nvidia-curand-cu11==10.2.10.91 in /home/zero/.local/lib/python3.10/site-packages (from torch==2.0.0->torchvision) (10.2.10.91)\n",
      "Requirement already satisfied: sympy in /home/zero/.local/lib/python3.10/site-packages (from torch==2.0.0->torchvision) (1.11.1)\n",
      "Requirement already satisfied: nvidia-cuda-nvrtc-cu11==11.7.99 in /home/zero/.local/lib/python3.10/site-packages (from torch==2.0.0->torchvision) (11.7.99)\n",
      "Requirement already satisfied: nvidia-cusparse-cu11==11.7.4.91 in /home/zero/.local/lib/python3.10/site-packages (from torch==2.0.0->torchvision) (11.7.4.91)\n",
      "Requirement already satisfied: nvidia-nvtx-cu11==11.7.91 in /home/zero/.local/lib/python3.10/site-packages (from torch==2.0.0->torchvision) (11.7.91)\n",
      "Requirement already satisfied: filelock in /home/zero/.local/lib/python3.10/site-packages (from torch==2.0.0->torchvision) (3.12.0)\n",
      "Requirement already satisfied: nvidia-cuda-runtime-cu11==11.7.99 in /home/zero/.local/lib/python3.10/site-packages (from torch==2.0.0->torchvision) (11.7.99)\n",
      "Requirement already satisfied: nvidia-cusolver-cu11==11.4.0.1 in /home/zero/.local/lib/python3.10/site-packages (from torch==2.0.0->torchvision) (11.4.0.1)\n",
      "Requirement already satisfied: jinja2 in /usr/lib/python3/dist-packages (from torch==2.0.0->torchvision) (3.0.3)\n",
      "Requirement already satisfied: triton==2.0.0 in /home/zero/.local/lib/python3.10/site-packages (from torch==2.0.0->torchvision) (2.0.0)\n",
      "Requirement already satisfied: nvidia-cublas-cu11==11.10.3.66 in /home/zero/.local/lib/python3.10/site-packages (from torch==2.0.0->torchvision) (11.10.3.66)\n",
      "Requirement already satisfied: nvidia-cufft-cu11==10.9.0.58 in /home/zero/.local/lib/python3.10/site-packages (from torch==2.0.0->torchvision) (10.9.0.58)\n",
      "Requirement already satisfied: typing-extensions in /home/zero/.local/lib/python3.10/site-packages (from torch==2.0.0->torchvision) (4.5.0)\n",
      "Requirement already satisfied: nvidia-cuda-cupti-cu11==11.7.101 in /home/zero/.local/lib/python3.10/site-packages (from torch==2.0.0->torchvision) (11.7.101)\n",
      "Requirement already satisfied: wheel in /usr/lib/python3/dist-packages (from nvidia-cublas-cu11==11.10.3.66->torch==2.0.0->torchvision) (0.37.1)\n",
      "Requirement already satisfied: setuptools in /home/zero/.local/lib/python3.10/site-packages (from nvidia-cublas-cu11==11.10.3.66->torch==2.0.0->torchvision) (67.6.1)\n",
      "Requirement already satisfied: lit in /home/zero/.local/lib/python3.10/site-packages (from triton==2.0.0->torch==2.0.0->torchvision) (16.0.2)\n",
      "Requirement already satisfied: cmake in /home/zero/.local/lib/python3.10/site-packages (from triton==2.0.0->torch==2.0.0->torchvision) (3.26.3)\n",
      "Requirement already satisfied: mpmath>=0.19 in /home/zero/.local/lib/python3.10/site-packages (from sympy->torch==2.0.0->torchvision) (1.3.0)\n",
      "\n",
      "\u001b[1m[\u001b[0m\u001b[34;49mnotice\u001b[0m\u001b[1;39;49m]\u001b[0m\u001b[39;49m A new release of pip is available: \u001b[0m\u001b[31;49m23.0.1\u001b[0m\u001b[39;49m -> \u001b[0m\u001b[32;49m23.1.2\u001b[0m\n",
      "\u001b[1m[\u001b[0m\u001b[34;49mnotice\u001b[0m\u001b[1;39;49m]\u001b[0m\u001b[39;49m To update, run: \u001b[0m\u001b[32;49mpip install --upgrade pip\u001b[0m\n",
      "Defaulting to user installation because normal site-packages is not writeable\n",
      "Requirement already satisfied: numpy in /usr/lib/python3/dist-packages (1.21.5)\n",
      "\n",
      "\u001b[1m[\u001b[0m\u001b[34;49mnotice\u001b[0m\u001b[1;39;49m]\u001b[0m\u001b[39;49m A new release of pip is available: \u001b[0m\u001b[31;49m23.0.1\u001b[0m\u001b[39;49m -> \u001b[0m\u001b[32;49m23.1.2\u001b[0m\n",
      "\u001b[1m[\u001b[0m\u001b[34;49mnotice\u001b[0m\u001b[1;39;49m]\u001b[0m\u001b[39;49m To update, run: \u001b[0m\u001b[32;49mpip install --upgrade pip\u001b[0m\n",
      "Defaulting to user installation because normal site-packages is not writeable\n",
      "Requirement already satisfied: matplotlib in /home/zero/.local/lib/python3.10/site-packages (3.7.0)\n",
      "Requirement already satisfied: packaging>=20.0 in /home/zero/.local/lib/python3.10/site-packages (from matplotlib) (23.0)\n",
      "Requirement already satisfied: python-dateutil>=2.7 in /home/zero/.local/lib/python3.10/site-packages (from matplotlib) (2.8.2)\n",
      "Requirement already satisfied: pyparsing>=2.3.1 in /usr/lib/python3/dist-packages (from matplotlib) (2.4.7)\n",
      "Requirement already satisfied: cycler>=0.10 in /home/zero/.local/lib/python3.10/site-packages (from matplotlib) (0.11.0)\n",
      "Requirement already satisfied: numpy>=1.20 in /usr/lib/python3/dist-packages (from matplotlib) (1.21.5)\n",
      "Requirement already satisfied: kiwisolver>=1.0.1 in /home/zero/.local/lib/python3.10/site-packages (from matplotlib) (1.4.4)\n",
      "Requirement already satisfied: pillow>=6.2.0 in /usr/lib/python3/dist-packages (from matplotlib) (9.0.1)\n",
      "Requirement already satisfied: contourpy>=1.0.1 in /home/zero/.local/lib/python3.10/site-packages (from matplotlib) (1.0.7)\n",
      "Requirement already satisfied: fonttools>=4.22.0 in /home/zero/.local/lib/python3.10/site-packages (from matplotlib) (4.38.0)\n",
      "Requirement already satisfied: six>=1.5 in /usr/lib/python3/dist-packages (from python-dateutil>=2.7->matplotlib) (1.16.0)\n",
      "\n",
      "\u001b[1m[\u001b[0m\u001b[34;49mnotice\u001b[0m\u001b[1;39;49m]\u001b[0m\u001b[39;49m A new release of pip is available: \u001b[0m\u001b[31;49m23.0.1\u001b[0m\u001b[39;49m -> \u001b[0m\u001b[32;49m23.1.2\u001b[0m\n",
      "\u001b[1m[\u001b[0m\u001b[34;49mnotice\u001b[0m\u001b[1;39;49m]\u001b[0m\u001b[39;49m To update, run: \u001b[0m\u001b[32;49mpip install --upgrade pip\u001b[0m\n"
     ]
    }
   ],
   "source": [
    "import sys\n",
    "!{sys.executable} -m pip install torch\n",
    "!{sys.executable} -m pip install torchvision\n",
    "!{sys.executable} -m pip install numpy\n",
    "!{sys.executable} -m pip install matplotlib\n",
    "import numpy as np\n",
    "import matplotlib.pyplot as plt\n",
    "import torch\n",
    "import torchvision\n",
    "import torchvision.transforms as transforms\n",
    "import torch.nn as nn\n",
    "import torch.nn.functional as F\n",
    "import torch.optim as optim\n",
    "\n",
    "import copy\n",
    "\n",
    "#import warnings\n",
    "#warnings.filterwarnings('ignore')"
   ]
  },
  {
   "attachments": {},
   "cell_type": "markdown",
   "id": "2f796aee",
   "metadata": {},
   "source": [
    "Detect if GPU available, otherwise use CPU"
   ]
  },
  {
   "cell_type": "code",
   "execution_count": 3,
   "id": "2f282b10",
   "metadata": {},
   "outputs": [
    {
     "name": "stdout",
     "output_type": "stream",
     "text": [
      "cpu\n"
     ]
    }
   ],
   "source": [
    "# device = torch.device(\"cuda:0\" if torch.cuda.is_available() else \"cpu\")\n",
    "device = torch.device(\"cpu\")\n",
    "print(device)"
   ]
  },
  {
   "attachments": {},
   "cell_type": "markdown",
   "id": "bab4c9a3",
   "metadata": {},
   "source": [
    "Load MNIST dataset of $28 \\times 28$ images. Training does NOT use the test set."
   ]
  },
  {
   "cell_type": "code",
   "execution_count": 4,
   "id": "051e4c87",
   "metadata": {},
   "outputs": [],
   "source": [
    "transform = transforms.Compose(\n",
    "    [transforms.ToTensor(),\n",
    "     transforms.Normalize((0.5,), (0.5,))])\n",
    "\n",
    "trainset = torchvision.datasets.MNIST(root='../data', train=True, download=True, transform=transform)\n",
    "\n",
    "trainloader = torch.utils.data.DataLoader(trainset, batch_size=4,\n",
    "                                          shuffle=True, num_workers=2)\n",
    "\n",
    "testset = torchvision.datasets.MNIST(root='../data', train=False,\n",
    "                                       download=True, transform=transform)\n",
    "\n",
    "testloader = torch.utils.data.DataLoader(testset, batch_size=4,\n",
    "                                         shuffle=False, num_workers=2)"
   ]
  },
  {
   "cell_type": "code",
   "execution_count": 5,
   "id": "87eea90d",
   "metadata": {},
   "outputs": [],
   "source": [
    "def imshow(img):\n",
    "    '''\n",
    "    Visualizes IMG.\n",
    "    IMG should be a 2D torch Tensor.\n",
    "    '''\n",
    "    img = img / 2 + 0.5     # unnormalize\n",
    "    npimg = img.detach().numpy()\n",
    "    plt.imshow(npimg, cmap='gray')\n",
    "    plt.show()"
   ]
  },
  {
   "attachments": {},
   "cell_type": "markdown",
   "metadata": {
    "colab": {},
    "colab_type": "code",
    "id": "y3oepvCSLyfi"
   },
   "source": [
    "# Primal Network"
   ]
  },
  {
   "attachments": {},
   "cell_type": "markdown",
   "id": "98adced1",
   "metadata": {},
   "source": [
    "This is the definition of the neural classifier for a custom number of layers (depth) and width. The first layer still has $28 \\times 28$ features, and the output layer still has ten output classes (0-9)."
   ]
  },
  {
   "cell_type": "code",
   "execution_count": 6,
   "id": "9cb6c3c2",
   "metadata": {},
   "outputs": [],
   "source": [
    "class Net(nn.Module):\n",
    "  \n",
    "  # layers = nn.ModuleList()\n",
    "  # depth = 0\n",
    "  # width = 0\n",
    "  # z = []\n",
    "  \n",
    "  #Constructor with default NN width = 256 and default NN depth = 3\n",
    "  def __init__(self, width=256, depth=3):\n",
    "    super().__init__()\n",
    "    self.layers = nn.ModuleList()\n",
    "    self.width = width\n",
    "    self.depth = depth\n",
    "    for w in range(0, depth - 1):\n",
    "      if w == 0:\n",
    "        self.layers.append(nn.Linear(in_features = 28*28, out_features = width))\n",
    "        # self.layers[0].weight = torch.nn.Parameter(torch.zeros(28*28, width))\n",
    "        # self.layers[0].bias = torch.nn.Parameter(torch.zeros(width))\n",
    "      elif w == depth - 2:\n",
    "        self.layers.append(nn.Linear(in_features = width, out_features = 10))   \n",
    "        # self.layers[depth - 1].weight = torch.nn.Parameter(torch.zeros(width, 10))\n",
    "        # self.layers[depth - 1].bias = torch.nn.Parameter(torch.zeros(width)) \n",
    "      else:\n",
    "        self.layers.append(nn.Linear(in_features = width, out_features = width))\n",
    "  \n",
    "  def forward(self, t):\n",
    "    '''\n",
    "    On input T, performs a affine transformation, then\n",
    "    a ReLU, then another affine transformation.\n",
    "    '''\n",
    "    self.z = []\n",
    "    \n",
    "    t = t.reshape(-1, 28*28)\n",
    "    for i in range(0, self.depth - 1):\n",
    "      t = self.layers[i](t)\n",
    "      self.z.append(t)\n",
    "      if i != self.depth - 2:\n",
    "        t = F.relu(t)\n",
    "    return t\n"
   ]
  },
  {
   "attachments": {},
   "cell_type": "markdown",
   "id": "62d149ab",
   "metadata": {},
   "source": [
    "Provided training code using Adam."
   ]
  },
  {
   "cell_type": "code",
   "execution_count": 50,
   "id": "8e70c44e",
   "metadata": {},
   "outputs": [],
   "source": [
    "def train(net, criterion, trainloader, lr=0.001):\n",
    "    '''\n",
    "    Uses the Adam optimization algorithm to train \n",
    "    the classifier NET on training data from TRAINLOADER,\n",
    "    on loss function CRITERION, with learning rate LR.\n",
    "    \n",
    "    Note that we half the learning rate each epoch.\n",
    "    '''\n",
    "    optimizer = optim.Adam(net.parameters(), lr=lr)\n",
    "    \n",
    "    for epoch in range(3):\n",
    "        for i, data in enumerate(trainloader, 0):\n",
    "            for param_group in optimizer.param_groups:\n",
    "                param_group['lr'] = lr * 0.5 ** (epoch)\n",
    "\n",
    "            inputs, labels = data[0].to(device), data[1].to(device)\n",
    "            optimizer.zero_grad()\n",
    "            outputs = net(inputs)\n",
    "            loss = criterion(outputs, labels)\n",
    "            loss.backward()\n",
    "            optimizer.step()\n",
    "    \n",
    "            if i % 500 == 0:\n",
    "                print('Epoch', epoch, 'Iter:', i, 'Loss', loss.item())"
   ]
  },
  {
   "attachments": {},
   "cell_type": "markdown",
   "id": "e43d9cc3",
   "metadata": {},
   "source": [
    "Train the network using cross entropy loss. Note that this is equivalent to maximizing the KL-divergence."
   ]
  },
  {
   "cell_type": "code",
   "execution_count": 51,
   "id": "ea0df5c7",
   "metadata": {},
   "outputs": [
    {
     "name": "stdout",
     "output_type": "stream",
     "text": [
      "Epoch 0 Iter: 0 Loss 2.1766908168792725\n",
      "Epoch 0 Iter: 500 Loss 0.7222701907157898\n",
      "Epoch 0 Iter: 1000 Loss 0.8064187169075012\n",
      "Epoch 0 Iter: 1500 Loss 1.7011353969573975\n",
      "Epoch 0 Iter: 2000 Loss 0.2774541676044464\n",
      "Epoch 0 Iter: 2500 Loss 0.06312381476163864\n",
      "Epoch 0 Iter: 3000 Loss 0.5867327451705933\n",
      "Epoch 0 Iter: 3500 Loss 0.2041112780570984\n",
      "Epoch 0 Iter: 4000 Loss 0.9484784007072449\n",
      "Epoch 0 Iter: 4500 Loss 0.00109095498919487\n",
      "Epoch 0 Iter: 5000 Loss 0.0029555142391473055\n",
      "Epoch 0 Iter: 5500 Loss 0.1999746412038803\n",
      "Epoch 0 Iter: 6000 Loss 0.21640357375144958\n",
      "Epoch 0 Iter: 6500 Loss 0.005597637966275215\n",
      "Epoch 0 Iter: 7000 Loss 0.4430367648601532\n",
      "Epoch 0 Iter: 7500 Loss 0.37961113452911377\n",
      "Epoch 0 Iter: 8000 Loss 0.0066479165107011795\n",
      "Epoch 0 Iter: 8500 Loss 0.0022649094462394714\n",
      "Epoch 0 Iter: 9000 Loss 0.03841939568519592\n",
      "Epoch 0 Iter: 9500 Loss 0.0011710597900673747\n",
      "Epoch 0 Iter: 10000 Loss 0.05604410171508789\n",
      "Epoch 0 Iter: 10500 Loss 0.00841524638235569\n",
      "Epoch 0 Iter: 11000 Loss 0.007576895412057638\n",
      "Epoch 0 Iter: 11500 Loss 0.3236146867275238\n",
      "Epoch 0 Iter: 12000 Loss 0.6597388386726379\n",
      "Epoch 0 Iter: 12500 Loss 0.09168266505002975\n",
      "Epoch 0 Iter: 13000 Loss 0.00030082446755841374\n",
      "Epoch 0 Iter: 13500 Loss 0.21288754045963287\n",
      "Epoch 0 Iter: 14000 Loss 0.0016522356308996677\n",
      "Epoch 0 Iter: 14500 Loss 0.0039353081956505775\n",
      "Epoch 1 Iter: 0 Loss 2.201690673828125\n",
      "Epoch 1 Iter: 500 Loss 0.010312716476619244\n",
      "Epoch 1 Iter: 1000 Loss 0.06735794246196747\n",
      "Epoch 1 Iter: 1500 Loss 3.382340946700424e-05\n",
      "Epoch 1 Iter: 2000 Loss 0.00722565408796072\n",
      "Epoch 1 Iter: 2500 Loss 0.007798026315867901\n",
      "Epoch 1 Iter: 3000 Loss 0.02008473128080368\n",
      "Epoch 1 Iter: 3500 Loss 0.0032304127234965563\n",
      "Epoch 1 Iter: 4000 Loss 0.00016007843078114092\n",
      "Epoch 1 Iter: 4500 Loss 0.0016981916269287467\n",
      "Epoch 1 Iter: 5000 Loss 7.893693691585213e-05\n",
      "Epoch 1 Iter: 5500 Loss 0.016796672716736794\n",
      "Epoch 1 Iter: 6000 Loss 0.014556832611560822\n",
      "Epoch 1 Iter: 6500 Loss 0.13655202090740204\n",
      "Epoch 1 Iter: 7000 Loss 0.0009505220805294812\n",
      "Epoch 1 Iter: 7500 Loss 0.14663755893707275\n",
      "Epoch 1 Iter: 8000 Loss 0.004721594043076038\n",
      "Epoch 1 Iter: 8500 Loss 0.0005470277974382043\n",
      "Epoch 1 Iter: 9000 Loss 0.01444938126951456\n",
      "Epoch 1 Iter: 9500 Loss 0.26566776633262634\n",
      "Epoch 1 Iter: 10000 Loss 0.011294139549136162\n",
      "Epoch 1 Iter: 10500 Loss 0.005177968647330999\n",
      "Epoch 1 Iter: 11000 Loss 0.0300943311303854\n",
      "Epoch 1 Iter: 11500 Loss 0.002044000430032611\n",
      "Epoch 1 Iter: 12000 Loss 0.025558840483427048\n",
      "Epoch 1 Iter: 12500 Loss 0.020550431683659554\n",
      "Epoch 1 Iter: 13000 Loss 0.004327346570789814\n",
      "Epoch 1 Iter: 13500 Loss 0.002105578314512968\n",
      "Epoch 1 Iter: 14000 Loss 0.00677407206967473\n",
      "Epoch 1 Iter: 14500 Loss 0.4623429477214813\n",
      "Epoch 2 Iter: 0 Loss 0.029228299856185913\n",
      "Epoch 2 Iter: 500 Loss 0.0018627129029482603\n",
      "Epoch 2 Iter: 1000 Loss 0.0003080865426454693\n",
      "Epoch 2 Iter: 1500 Loss 0.06111785024404526\n",
      "Epoch 2 Iter: 2000 Loss 0.019919324666261673\n",
      "Epoch 2 Iter: 2500 Loss 0.0060308813117444515\n",
      "Epoch 2 Iter: 3000 Loss 0.26468828320503235\n",
      "Epoch 2 Iter: 3500 Loss 0.36919108033180237\n",
      "Epoch 2 Iter: 4000 Loss 0.14803022146224976\n",
      "Epoch 2 Iter: 4500 Loss 0.004014689475297928\n",
      "Epoch 2 Iter: 5000 Loss 0.0010785235790535808\n",
      "Epoch 2 Iter: 5500 Loss 0.014016903005540371\n",
      "Epoch 2 Iter: 6000 Loss 0.00017751773702912033\n",
      "Epoch 2 Iter: 6500 Loss 0.018038932234048843\n",
      "Epoch 2 Iter: 7000 Loss 0.0025886883959174156\n",
      "Epoch 2 Iter: 7500 Loss 0.006334023084491491\n",
      "Epoch 2 Iter: 8000 Loss 0.0007452983409166336\n",
      "Epoch 2 Iter: 8500 Loss 0.017960254102945328\n",
      "Epoch 2 Iter: 9000 Loss 0.002125723287463188\n",
      "Epoch 2 Iter: 9500 Loss 0.012362617067992687\n",
      "Epoch 2 Iter: 10000 Loss 0.0006497958675026894\n",
      "Epoch 2 Iter: 10500 Loss 0.0013517126208171248\n",
      "Epoch 2 Iter: 11000 Loss 0.010184629820287228\n",
      "Epoch 2 Iter: 11500 Loss 0.47962597012519836\n",
      "Epoch 2 Iter: 12000 Loss 0.00010086828842759132\n",
      "Epoch 2 Iter: 12500 Loss 0.06502310186624527\n",
      "Epoch 2 Iter: 13000 Loss 0.029980730265378952\n",
      "Epoch 2 Iter: 13500 Loss 0.07189178466796875\n",
      "Epoch 2 Iter: 14000 Loss 0.00031103717628866434\n",
      "Epoch 2 Iter: 14500 Loss 0.01755518466234207\n"
     ]
    }
   ],
   "source": [
    "net = Net()\n",
    "net.to(device)\n",
    "\n",
    "criterion = nn.CrossEntropyLoss()\n",
    "\n",
    "train(net, criterion, trainloader, 0.001)"
   ]
  },
  {
   "cell_type": "code",
   "execution_count": 52,
   "id": "7a3a2618",
   "metadata": {},
   "outputs": [],
   "source": [
    "test_iter = iter(testloader)"
   ]
  },
  {
   "cell_type": "code",
   "execution_count": 53,
   "id": "cd97fc13",
   "metadata": {},
   "outputs": [
    {
     "data": {
      "image/png": "[encoded data removed]",
      "text/plain": [
       "<Figure size 640x480 with 1 Axes>"
      ]
     },
     "metadata": {},
     "output_type": "display_data"
    },
    {
     "name": "stdout",
     "output_type": "stream",
     "text": [
      "Classifier output: tensor([[-11.1981, -10.7860,  -1.5433,  -3.5027, -24.8696,  -7.7582, -25.9754,\n",
      "           7.8251, -12.5936,  -3.6071]])\n",
      "Classifier prediction: 7\n"
     ]
    }
   ],
   "source": [
    "x, labels = next(test_iter)\n",
    "x = x[0].unsqueeze(0)\n",
    "labels = labels[0].unsqueeze(0)\n",
    "imshow(x[0,0])\n",
    "\n",
    "x = x.to(device)\n",
    "labels = labels.to(device)\n",
    "\n",
    "out = net(x).data\n",
    "print('Classifier output:', out)\n",
    "print('Classifier prediction:', torch.argmax(out).item())"
   ]
  },
  {
   "attachments": {},
   "cell_type": "markdown",
   "id": "d65bfa74",
   "metadata": {},
   "source": [
    "Let's look at accuracy now."
   ]
  },
  {
   "cell_type": "code",
   "execution_count": 54,
   "id": "d016288f",
   "metadata": {},
   "outputs": [],
   "source": [
    "def accuracy(net, testloader):\n",
    "    '''\n",
    "    Returns the accuracy of classifier NET\n",
    "    on test data from TESTLOADER.\n",
    "    '''\n",
    "    correct = 0\n",
    "    total = 0\n",
    "    with torch.no_grad():\n",
    "        for data in testloader:\n",
    "            images, labels = data[0].to(device), data[1].to(device)\n",
    "            outputs = net(images)\n",
    "            _, predicted = torch.max(outputs.data, 1)\n",
    "            total += labels.size(0)\n",
    "            correct += (predicted == labels).sum().item()\n",
    "\n",
    "    return correct / total"
   ]
  },
  {
   "cell_type": "code",
   "execution_count": 55,
   "id": "d681f096",
   "metadata": {},
   "outputs": [
    {
     "name": "stdout",
     "output_type": "stream",
     "text": [
      "Classifier accuracy on original test dataset: 0.9695\n"
     ]
    }
   ],
   "source": [
    "print('Classifier accuracy on original test dataset:', accuracy(net, testloader))"
   ]
  },
  {
   "cell_type": "markdown",
   "id": "26ceb29d",
   "metadata": {},
   "source": [
    "Implement FGSM Method:"
   ]
  },
  {
   "cell_type": "code",
   "execution_count": 56,
   "id": "f095acd9",
   "metadata": {},
   "outputs": [],
   "source": [
    "def FGSM(x, labels, net, eps):\n",
    "    '''\n",
    "    Given an input image X and its corresponding labels\n",
    "    LABELS, as well as a classifier NET, returns X\n",
    "    perturbed by EPS using the fast gradient sign method.\n",
    "    '''\n",
    "    net.zero_grad()    # Zero out any gradients from before\n",
    "    x.requires_grad=True    # Keep track of gradients\n",
    "    out = net(x)    # Output of classifier\n",
    "    criterion = nn.CrossEntropyLoss()\n",
    "    loss = criterion(out, labels)   # Classifier's loss\n",
    "    loss.backward()\n",
    "    grads = x.grad.data    # Gradient of loss w/r/t input\n",
    "    return x + eps*torch.sign(grads)"
   ]
  },
  {
   "cell_type": "markdown",
   "id": "0661e90e",
   "metadata": {},
   "source": [
    "Now we define an epsilon value for FGSM perturbation:"
   ]
  },
  {
   "cell_type": "code",
   "execution_count": 57,
   "id": "56a880d3",
   "metadata": {},
   "outputs": [],
   "source": [
    "eps = 0.05"
   ]
  },
  {
   "cell_type": "code",
   "execution_count": 58,
   "id": "7dee895e",
   "metadata": {},
   "outputs": [
    {
     "data": {
      "image/png": "[encoded data removed]",
      "text/plain": [
       "<Figure size 640x480 with 1 Axes>"
      ]
     },
     "metadata": {},
     "output_type": "display_data"
    },
    {
     "name": "stdout",
     "output_type": "stream",
     "text": [
      "Classifier output: tensor([[ -9.1731,  -8.7711,   0.1513,  -1.9553, -24.1378,  -6.0638, -23.1478,\n",
      "           5.4924,  -8.5606,  -4.6782]])\n",
      "Classifier prediction: 7\n"
     ]
    }
   ],
   "source": [
    "# We are using the same sample input x as before.\n",
    "x.requires_grad = True\n",
    "x_prime = FGSM(x, labels, net, eps)\n",
    "imshow(x_prime[0,0].cpu())\n",
    "out = net(x_prime)\n",
    "\n",
    "print('Classifier output:', out.data)\n",
    "print('Classifier prediction:', torch.argmax(out).item())"
   ]
  },
  {
   "cell_type": "markdown",
   "id": "83e3de7e",
   "metadata": {},
   "source": [
    "From original assignment:\n",
    "We should evaluate the classifier's performance on FGSM-perturbed data by the same metric that we will later use in the primal adversarial problem. That is, for the classifier's output vector $\\vec{\\hat{z}}_3$, we want to compute\n",
    "$$\n",
    "\\vec{c}_j^\\top \\vec{\\hat{z}}_3\n",
    "$$\n",
    "where\n",
    "$$\\vec{c}_j={\\vec{y}_{\\text{true}}}-\\vec{e}_{j}$$\n",
    "for each $j\\in[10]$.\n",
    "\n",
    "Recall that \n",
    "$$\\vec{c}_j^\\top \\vec{\\hat{z}}_3=\\vec{\\hat{z}}_{3i_{\\text{true}}}-\\vec{\\hat{z}}_{3j},$$\n",
    "i.e. $\\vec{c}_j^\\top \\vec{\\hat{z}}_3$ is the difference between the classifier's confidence on the true class and the $j$th (incorrect) class. If $\\vec{c}_j^\\top \\vec{\\hat{z}}_3$ is positive for all incorrect $j$, then the classifier was not fooled by the adversarial perturbation."
   ]
  },
  {
   "cell_type": "code",
   "execution_count": 59,
   "id": "14e89790",
   "metadata": {},
   "outputs": [
    {
     "name": "stdout",
     "output_type": "stream",
     "text": [
      "0 14.665590286254883\n",
      "1 14.26351547241211\n",
      "2 5.341148376464844\n",
      "3 7.44776725769043\n",
      "4 29.630247116088867\n",
      "5 11.556232452392578\n",
      "6 28.640220642089844\n",
      "8 14.053091049194336\n",
      "9 10.17066764831543\n"
     ]
    }
   ],
   "source": [
    "for i in range(10):\n",
    "    c = torch.zeros(10, 1).to(device)\n",
    "    if i != labels:\n",
    "        c[i] = -1\n",
    "        c[labels] = 1\n",
    "        print(i, (out @ c).item())"
   ]
  },
  {
   "cell_type": "code",
   "execution_count": 60,
   "id": "988e339c",
   "metadata": {},
   "outputs": [],
   "source": [
    "def accuracy_on_FGSM(net, testloader, eps):\n",
    "    '''\n",
    "    Returns the accuracy of classifier NET on test\n",
    "    data from TESTLOADER that has been perturbed by\n",
    "    EPS using FSGM.\n",
    "    '''\n",
    "    correct = 0\n",
    "    total = 0\n",
    "    for data in testloader:\n",
    "        x, labels = data[0].to(device), data[1].to(device)\n",
    "        x_prime = FGSM(x, labels, net, eps)\n",
    "        outputs = net(x_prime)\n",
    "        _, predicted = torch.max(outputs.data, 1)\n",
    "        total += labels.size(0)\n",
    "        correct += (predicted == labels).sum().item()\n",
    "\n",
    "    return correct / total"
   ]
  },
  {
   "cell_type": "code",
   "execution_count": 61,
   "id": "c224a172",
   "metadata": {},
   "outputs": [
    {
     "name": "stdout",
     "output_type": "stream",
     "text": [
      "Classifier accuracy on test dataset perturbed with FGSM: 0.8918\n"
     ]
    }
   ],
   "source": [
    "print('Classifier accuracy on test dataset perturbed with FGSM:', accuracy_on_FGSM(net, testloader, eps))"
   ]
  },
  {
   "cell_type": "markdown",
   "id": "f58d6284",
   "metadata": {},
   "source": [
    "# Dual Network"
   ]
  },
  {
   "cell_type": "markdown",
   "id": "2578abfa",
   "metadata": {},
   "source": [
    "From original assignment: $\\newline$\n",
    "Here, we will implement the dual network. First, we write the function to compute upper and lower bounds for the dual network. This function should take an input image, the trained classifier, and an epsilon value, and return the tuple\n",
    "$$(\\vec{l},\\vec{u},S,S^-,S^+)$$\n",
    "where $\\vec{u}$ and $\\vec{l}$ are the upper and lower bounds, respectively, for the input to the ReLU layer, and $S^-,S^+,S$ are sets defined by\n",
    "\n",
    "$$\n",
    "\\begin{aligned}\n",
    "&S:=\\{j\\in [n_2]\\mid l_{j}\\leq 0\\leq u_{j}\\}\\\\\n",
    "&S^{-}:=\\{j\\in [n_2]\\mid l_{j}\\leq u_{j}\\leq 0\\}\\\\\n",
    "&S^{+}:=\\{j\\in [n_2]\\mid 0\\leq l_{j}\\leq u_{j}\\}.\n",
    "\\end{aligned}\n",
    "$$\n",
    "\n",
    "See Section 6 of the PDF for more details."
   ]
  },
  {
   "cell_type": "code",
   "execution_count": 7,
   "id": "f3a885eb",
   "metadata": {},
   "outputs": [],
   "source": [
    "def dual_bounds(x, net, eps):\n",
    "    '''\n",
    "    Given a classifier NET, an input image X,\n",
    "    and the epsilon parameter EPS, returns the lower\n",
    "    and upper bounds L and U respectively, as well as\n",
    "    the corresponding sets S, S_MIN, S_PLUS.\n",
    "    '''\n",
    "    x = x[0].reshape(-1, 1)    # Reshape input to more convenient dimensions\n",
    "    W = [layer.weight for layer in net.layers]    # Array of network weights (W matrices)\n",
    "    b = [layer.bias.reshape(-1, 1) for layer in net.layers]    # Array of network biases (b vectors)\n",
    "    n = W[1].shape[1]    # Dimensionality of hidden layer\n",
    "    # print(W[0])\n",
    "    # W_norm = torch.linalg.matrix_norm(torch.stack(W), ord=1)\n",
    "    u = (W[0] @ x + b[0] + torch.Tensor([eps * torch.norm(W[0][i], 1) for i in range(0, n)]))[0]\n",
    "    l = (W[0] @ x + b[0] - torch.Tensor([eps * torch.norm(W[0][i], 1) for i in range(0, n)]))[0]\n",
    "    S = [i for i in range(0, n) if l[i] <= 0 and u[i] >= 0]\n",
    "    S_plus = [i for i in range(0, n) if l[i] <= u[i] and l[i] >= 0]\n",
    "    S_min = [i for i in range(0, n) if u[i] <= 0 and u[i] >= l[i]]\n",
    "    return l, u, S, S_min, S_plus"
   ]
  },
  {
   "cell_type": "markdown",
   "id": "53882d78",
   "metadata": {},
   "source": [
    "From original assignment: $\\newline$\n",
    "Given the tuple $(l,u,S,S^-,S^+)$, we are ready to calculate the dual objective itself. This function should take in an input image, the classifier, a vector $c$, and the $(l,u,S,S^-,S^+)$ from the previous function in order to output \n",
    "$$\n",
    "d^*(\\vec{x},\\vec{c})= \n",
    "-\\vec{\\hat{\\nu}}_1^\\top \\vec{x}-\\varepsilon\\|\\vec{\\hat{\\nu}}_1\\|_1-\\sum_{i=1}^{2}\\vec{\\nu}_{i+1}^\\top \\vec{b}_i+\\sum_{j\\in S\\\n",
    "}l_{j}\\text{ReLU}(\\nu_{2j})\n",
    "$$\n",
    "\n",
    "Where the $\\vec{\\nu}$ vectors are computed as\n",
    "$$\n",
    "\\begin{aligned}\n",
    "&\\vec{\\nu}_3=-\\vec{c}\\\\\n",
    "&\\vec{\\hat{\\nu}}_2=W_2^\\top \\vec{\\nu}_{3}\\\\\n",
    "&\\nu_{2j}=0 && \\forall j\\in S^-\\\\\n",
    "&\\nu_{2j}=\\hat{\\nu}_{2j} && \\forall j\\in S^+\\\\\n",
    "&\\nu_{2j}=\\dfrac{u_{j}}{u_{j}-l_{j}}\\hat{\\nu}_{2j} && \\forall j\\in S\\\\\n",
    "&\\vec{\\hat{\\nu}}_1=W_1^\\top \\vec{\\nu_{2}}\n",
    "&\\end{aligned}.\n",
    "$$\n",
    "\n",
    "Again, see Section 6 of the PDF for more details.\n",
    "\n",
    "One efficient way to compute $\\vec{\\nu}_2$ is to rewrite it as\n",
    "$$\\vec{\\nu}_2= D\\vec{\\hat{\\nu}}_2,$$\n",
    "where $D$ is a diagonal matrix defined  by\n",
    "$$\n",
    "D_{jj}=\\begin{cases}\n",
    "0 & j\\in S^-\\\\\n",
    "\\hat{\\nu}_{2j} & j\\in S^+\\\\\n",
    "\\dfrac{u_{j}}{u_{j}-l_{j}}\\hat{\\nu}_{2j} & j\\in S.\n",
    "\\end{cases}\n",
    "$$"
   ]
  },
  {
   "cell_type": "code",
   "execution_count": 8,
   "id": "7fbd7687",
   "metadata": {},
   "outputs": [],
   "source": [
    "# Constructs the diagonal D matrix from the S sets, n (the dimensionality\n",
    "# of the hidden layer), u, and l.\n",
    "def StoD(S_min, S_plus, S, n, u, l):\n",
    "    '''\n",
    "    Given upper and lower bounds U and L, as well\n",
    "    as the corresponding sets S_MIN, S_PLUS, and S,\n",
    "    as well as the dimension of the hidden layer N,\n",
    "    returns the corresponding diagonal matrix D.\n",
    "    '''\n",
    "    d = []\n",
    "    for j in range(n):\n",
    "        if j in S:\n",
    "            d.append((u[j] / (u[j] - l[j])).item())\n",
    "        elif j in S_plus:\n",
    "            d.append(1)\n",
    "        elif j in S_min:\n",
    "            d.append(0)\n",
    "        else:\n",
    "            assert False, 'StoD error.'\n",
    "    return torch.diag(torch.Tensor(d)).to(device)\n",
    "\n",
    "def dual_forward(x, net, c, eps, l, u, S, S_min, S_plus):\n",
    "    '''\n",
    "    Calculates the dual objective for classifier NET with input X\n",
    "    and dual input C and epsilon parameter S. Depends on lower\n",
    "    and upper bounds L and U, as well as the corresponding sets\n",
    "    S, S_MIN, S_PLUS.\n",
    "    '''\n",
    "    x = x[0].reshape(-1, 1)    # Reshape input to more convenient dimensions\n",
    "    W = [layer.weight for layer in net.layers]    # Array of network weights (W matrices)\n",
    "    b = [layer.bias.reshape(-1, 1) for layer in net.layers]    # Array of network biases (b vectors)\n",
    "    n = W[1].shape[1]    # Dimensionality of hidden layer\n",
    "    D = StoD(S_min, S_plus, S, n, u, l)\n",
    "    # TODO: Your code here!\n",
    "    nu3 = -c\n",
    "    nuh2 = W[1].T @ nu3\n",
    "    nu2 = D @ nuh2\n",
    "    nuh1 = W[0].T @ nu2\n",
    "\n",
    "    dual = -1 * (nuh1.T @ x) - eps * (torch.norm(nuh1, 1)) - (nu2.T @ b[0]) - (nu3.T @ b[1]) + l.T @ torch.relu(nu2)\n",
    "    return dual"
   ]
  },
  {
   "cell_type": "code",
   "execution_count": null,
   "id": "a770ada9",
   "metadata": {},
   "outputs": [],
   "source": []
  }
 ],
 "metadata": {
  "kernelspec": {
   "display_name": "Python 3.10.6 64-bit",
   "language": "python",
   "name": "python3"
  },
  "language_info": {
   "codemirror_mode": {
    "name": "ipython",
    "version": 3
   },
   "file_extension": ".py",
   "mimetype": "text/x-python",
   "name": "python",
   "nbconvert_exporter": "python",
   "pygments_lexer": "ipython3",
   "version": "3.10.6"
  },
  "vscode": {
   "interpreter": {
    "hash": "916dbcbb3f70747c44a77c7bcd40155683ae19c65e1c03b4aa3499c5328201f1"
   }
  }
 },
 "nbformat": 4,
 "nbformat_minor": 5
}
