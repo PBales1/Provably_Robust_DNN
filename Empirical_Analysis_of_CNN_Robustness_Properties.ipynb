{
 "cells": [
  {
   "cell_type": "code",
   "execution_count": 2,
   "id": "661cde4e",
   "metadata": {},
   "outputs": [
    {
     "name": "stdout",
     "output_type": "stream",
     "text": [
      "Requirement already satisfied: torch in /Library/Frameworks/Python.framework/Versions/3.9/lib/python3.9/site-packages (2.0.0)\n",
      "Requirement already satisfied: networkx in /Library/Frameworks/Python.framework/Versions/3.9/lib/python3.9/site-packages (from torch) (3.1)\n",
      "Requirement already satisfied: sympy in /Library/Frameworks/Python.framework/Versions/3.9/lib/python3.9/site-packages (from torch) (1.11.1)\n",
      "Requirement already satisfied: typing-extensions in /Library/Frameworks/Python.framework/Versions/3.9/lib/python3.9/site-packages (from torch) (4.5.0)\n",
      "Requirement already satisfied: jinja2 in /Users/patrickbales/Library/Python/3.9/lib/python/site-packages (from torch) (3.1.2)\n",
      "Requirement already satisfied: filelock in /Library/Frameworks/Python.framework/Versions/3.9/lib/python3.9/site-packages (from torch) (3.12.0)\n",
      "Requirement already satisfied: MarkupSafe>=2.0 in /Users/patrickbales/Library/Python/3.9/lib/python/site-packages (from jinja2->torch) (2.1.1)\n",
      "Requirement already satisfied: mpmath>=0.19 in /Library/Frameworks/Python.framework/Versions/3.9/lib/python3.9/site-packages (from sympy->torch) (1.3.0)\n",
      "\u001b[33mWARNING: You are using pip version 21.1.3; however, version 23.1.2 is available.\n",
      "You should consider upgrading via the '/usr/local/bin/python3 -m pip install --upgrade pip' command.\u001b[0m\n",
      "Requirement already satisfied: torchvision in /Library/Frameworks/Python.framework/Versions/3.9/lib/python3.9/site-packages (0.15.1)\n",
      "Requirement already satisfied: numpy in /Library/Frameworks/Python.framework/Versions/3.9/lib/python3.9/site-packages (from torchvision) (1.24.3)\n",
      "Requirement already satisfied: torch==2.0.0 in /Library/Frameworks/Python.framework/Versions/3.9/lib/python3.9/site-packages (from torchvision) (2.0.0)\n",
      "Requirement already satisfied: pillow!=8.3.*,>=5.3.0 in /Library/Frameworks/Python.framework/Versions/3.9/lib/python3.9/site-packages (from torchvision) (9.5.0)\n",
      "Requirement already satisfied: requests in /Library/Frameworks/Python.framework/Versions/3.9/lib/python3.9/site-packages (from torchvision) (2.29.0)\n",
      "Requirement already satisfied: typing-extensions in /Library/Frameworks/Python.framework/Versions/3.9/lib/python3.9/site-packages (from torch==2.0.0->torchvision) (4.5.0)\n",
      "Requirement already satisfied: filelock in /Library/Frameworks/Python.framework/Versions/3.9/lib/python3.9/site-packages (from torch==2.0.0->torchvision) (3.12.0)\n",
      "Requirement already satisfied: sympy in /Library/Frameworks/Python.framework/Versions/3.9/lib/python3.9/site-packages (from torch==2.0.0->torchvision) (1.11.1)\n",
      "Requirement already satisfied: jinja2 in /Users/patrickbales/Library/Python/3.9/lib/python/site-packages (from torch==2.0.0->torchvision) (3.1.2)\n",
      "Requirement already satisfied: networkx in /Library/Frameworks/Python.framework/Versions/3.9/lib/python3.9/site-packages (from torch==2.0.0->torchvision) (3.1)\n",
      "Requirement already satisfied: MarkupSafe>=2.0 in /Users/patrickbales/Library/Python/3.9/lib/python/site-packages (from jinja2->torch==2.0.0->torchvision) (2.1.1)\n",
      "Requirement already satisfied: urllib3<1.27,>=1.21.1 in /Library/Frameworks/Python.framework/Versions/3.9/lib/python3.9/site-packages (from requests->torchvision) (1.26.15)\n",
      "Requirement already satisfied: charset-normalizer<4,>=2 in /Library/Frameworks/Python.framework/Versions/3.9/lib/python3.9/site-packages (from requests->torchvision) (3.1.0)\n",
      "Requirement already satisfied: idna<4,>=2.5 in /Users/patrickbales/Library/Python/3.9/lib/python/site-packages (from requests->torchvision) (3.4)\n",
      "Requirement already satisfied: certifi>=2017.4.17 in /Library/Frameworks/Python.framework/Versions/3.9/lib/python3.9/site-packages (from requests->torchvision) (2022.12.7)\n",
      "Requirement already satisfied: mpmath>=0.19 in /Library/Frameworks/Python.framework/Versions/3.9/lib/python3.9/site-packages (from sympy->torch==2.0.0->torchvision) (1.3.0)\n",
      "\u001b[33mWARNING: You are using pip version 21.1.3; however, version 23.1.2 is available.\n",
      "You should consider upgrading via the '/usr/local/bin/python3 -m pip install --upgrade pip' command.\u001b[0m\n",
      "Requirement already satisfied: numpy in /Library/Frameworks/Python.framework/Versions/3.9/lib/python3.9/site-packages (1.24.3)\n",
      "\u001b[33mWARNING: You are using pip version 21.1.3; however, version 23.1.2 is available.\n",
      "You should consider upgrading via the '/usr/local/bin/python3 -m pip install --upgrade pip' command.\u001b[0m\n",
      "Requirement already satisfied: matplotlib in /Library/Frameworks/Python.framework/Versions/3.9/lib/python3.9/site-packages (3.7.1)\n",
      "Requirement already satisfied: pyparsing>=2.3.1 in /Users/patrickbales/Library/Python/3.9/lib/python/site-packages (from matplotlib) (3.0.9)\n",
      "Requirement already satisfied: contourpy>=1.0.1 in /Library/Frameworks/Python.framework/Versions/3.9/lib/python3.9/site-packages (from matplotlib) (1.0.7)\n",
      "Requirement already satisfied: importlib-resources>=3.2.0 in /Library/Frameworks/Python.framework/Versions/3.9/lib/python3.9/site-packages (from matplotlib) (5.12.0)\n",
      "Requirement already satisfied: kiwisolver>=1.0.1 in /Library/Frameworks/Python.framework/Versions/3.9/lib/python3.9/site-packages (from matplotlib) (1.4.4)\n",
      "Requirement already satisfied: numpy>=1.20 in /Library/Frameworks/Python.framework/Versions/3.9/lib/python3.9/site-packages (from matplotlib) (1.24.3)\n",
      "Requirement already satisfied: python-dateutil>=2.7 in /Users/patrickbales/Library/Python/3.9/lib/python/site-packages (from matplotlib) (2.8.2)\n",
      "Requirement already satisfied: cycler>=0.10 in /Library/Frameworks/Python.framework/Versions/3.9/lib/python3.9/site-packages (from matplotlib) (0.11.0)\n",
      "Requirement already satisfied: fonttools>=4.22.0 in /Library/Frameworks/Python.framework/Versions/3.9/lib/python3.9/site-packages (from matplotlib) (4.39.3)\n",
      "Requirement already satisfied: pillow>=6.2.0 in /Library/Frameworks/Python.framework/Versions/3.9/lib/python3.9/site-packages (from matplotlib) (9.5.0)\n",
      "Requirement already satisfied: packaging>=20.0 in /Users/patrickbales/Library/Python/3.9/lib/python/site-packages (from matplotlib) (21.3)\n",
      "Requirement already satisfied: zipp>=3.1.0 in /Users/patrickbales/Library/Python/3.9/lib/python/site-packages (from importlib-resources>=3.2.0->matplotlib) (3.10.0)\n",
      "Requirement already satisfied: six>=1.5 in /Users/patrickbales/Library/Python/3.9/lib/python/site-packages (from python-dateutil>=2.7->matplotlib) (1.16.0)\n",
      "\u001b[33mWARNING: You are using pip version 21.1.3; however, version 23.1.2 is available.\n",
      "You should consider upgrading via the '/usr/local/bin/python3 -m pip install --upgrade pip' command.\u001b[0m\n"
     ]
    }
   ],
   "source": [
    "import sys\n",
    "!{sys.executable} -m pip install torch\n",
    "!{sys.executable} -m pip install torchvision\n",
    "!{sys.executable} -m pip install numpy\n",
    "!{sys.executable} -m pip install matplotlib\n",
    "import numpy as np\n",
    "import matplotlib.pyplot as plt\n",
    "import torch\n",
    "import torchvision\n",
    "import torchvision.transforms as transforms\n",
    "import torch.nn as nn\n",
    "import torch.nn.functional as F\n",
    "import torch.optim as optim\n",
    "\n",
    "import copy\n",
    "\n",
    "#import warnings\n",
    "#warnings.filterwarnings('ignore')"
   ]
  },
  {
   "attachments": {},
   "cell_type": "markdown",
   "id": "2f796aee",
   "metadata": {},
   "source": [
    "Detect if GPU available, otherwise use CPU"
   ]
  },
  {
   "cell_type": "code",
   "execution_count": 3,
   "id": "2f282b10",
   "metadata": {},
   "outputs": [
    {
     "name": "stdout",
     "output_type": "stream",
     "text": [
      "cpu\n"
     ]
    }
   ],
   "source": [
    "# device = torch.device(\"cuda:0\" if torch.cuda.is_available() else \"cpu\")\n",
    "device = torch.device(\"cpu\")\n",
    "print(device)"
   ]
  },
  {
   "attachments": {},
   "cell_type": "markdown",
   "id": "bab4c9a3",
   "metadata": {},
   "source": [
    "Load MNIST dataset of $28 \\times 28$ images. Training does NOT use the test set."
   ]
  },
  {
   "cell_type": "code",
   "execution_count": 4,
   "id": "051e4c87",
   "metadata": {},
   "outputs": [],
   "source": [
    "transform = transforms.Compose(\n",
    "    [transforms.ToTensor(),\n",
    "     transforms.Normalize((0.5,), (0.5,))])\n",
    "\n",
    "trainset = torchvision.datasets.MNIST(root='../data', train=True, download=True, transform=transform)\n",
    "\n",
    "trainloader = torch.utils.data.DataLoader(trainset, batch_size=4,\n",
    "                                          shuffle=True, num_workers=2)\n",
    "\n",
    "testset = torchvision.datasets.MNIST(root='../data', train=False,\n",
    "                                       download=True, transform=transform)\n",
    "\n",
    "testloader = torch.utils.data.DataLoader(testset, batch_size=4,\n",
    "                                         shuffle=False, num_workers=2)"
   ]
  },
  {
   "cell_type": "code",
   "execution_count": 5,
   "id": "87eea90d",
   "metadata": {},
   "outputs": [],
   "source": [
    "def imshow(img):\n",
    "    '''\n",
    "    Visualizes IMG.\n",
    "    IMG should be a 2D torch Tensor.\n",
    "    '''\n",
    "    img = img / 2 + 0.5     # unnormalize\n",
    "    npimg = img.detach().numpy()\n",
    "    plt.imshow(npimg, cmap='gray')\n",
    "    plt.show()"
   ]
  },
  {
   "attachments": {},
   "cell_type": "markdown",
   "metadata": {
    "colab": {},
    "colab_type": "code",
    "id": "y3oepvCSLyfi"
   },
   "source": [
    "# Primal Network"
   ]
  },
  {
   "attachments": {},
   "cell_type": "markdown",
   "id": "98adced1",
   "metadata": {},
   "source": [
    "This is the definition of the neural classifier for a custom number of layers (depth) and width. The first layer still has $28 \\times 28$ features, and the output layer still has ten output classes (0-9)."
   ]
  },
  {
   "cell_type": "code",
   "execution_count": 9,
   "id": "9cb6c3c2",
   "metadata": {},
   "outputs": [],
   "source": [
    "class Net(nn.Module):\n",
    "  \n",
    "  #Constructor with default NN width = 256 and default NN depth = 3\n",
    "  def __init__(self, width=256, depth=3):\n",
    "    super().__init__()\n",
    "    self.layers = nn.ModuleList()\n",
    "    self.width = width\n",
    "    self.depth = depth\n",
    "    for w in range(0, depth - 1):\n",
    "      if w == 0:\n",
    "        self.layers.append(nn.Linear(in_features = 28*28, out_features = width))\n",
    "        # self.layers[0].weight = torch.nn.Parameter(torch.zeros(28*28, width))\n",
    "        # self.layers[0].bias = torch.nn.Parameter(torch.zeros(width))\n",
    "      elif w == depth - 2:\n",
    "        self.layers.append(nn.Linear(in_features = width, out_features = 10))   \n",
    "        # self.layers[depth - 1].weight = torch.nn.Parameter(torch.zeros(width, 10))\n",
    "        # self.layers[depth - 1].bias = torch.nn.Parameter(torch.zeros(width)) \n",
    "      else:\n",
    "        self.layers.append(nn.Linear(in_features = width, out_features = width))\n",
    "  \n",
    "  def forward(self, t):\n",
    "    '''\n",
    "    On input T, performs a affine transformation, then\n",
    "    a ReLU, then another affine transformation.\n",
    "    '''\n",
    "    self.z = []\n",
    "    \n",
    "    t = t.reshape(-1, 28*28)\n",
    "    for i in range(0, self.depth - 1):\n",
    "      t = self.layers[i](t)\n",
    "      self.z.append(t)\n",
    "      if i != self.depth - 2:\n",
    "        t = F.relu(t)\n",
    "    return t\n"
   ]
  },
  {
   "attachments": {},
   "cell_type": "markdown",
   "id": "62d149ab",
   "metadata": {},
   "source": [
    "Provided training code using Adam."
   ]
  },
  {
   "cell_type": "code",
<<<<<<< HEAD
   "execution_count": 10,
=======
   "execution_count": 7,
>>>>>>> 4e77793 (Got rid of initial notebook in favor of underscored name)
   "id": "8e70c44e",
   "metadata": {},
   "outputs": [],
   "source": [
    "def train(net, criterion, trainloader, lr=0.001):\n",
    "    '''\n",
    "    Uses the Adam optimization algorithm to train \n",
    "    the classifier NET on training data from TRAINLOADER,\n",
    "    on loss function CRITERION, with learning rate LR.\n",
    "    \n",
    "    Note that we half the learning rate each epoch.\n",
    "    '''\n",
    "    optimizer = optim.Adam(net.parameters(), lr=lr)\n",
    "    \n",
    "    for epoch in range(3):\n",
    "        for i, data in enumerate(trainloader, 0):\n",
    "            for param_group in optimizer.param_groups:\n",
    "                param_group['lr'] = lr * 0.5 ** (epoch)\n",
    "\n",
    "            inputs, labels = data[0].to(device), data[1].to(device)\n",
    "            optimizer.zero_grad()\n",
    "            outputs = net(inputs)\n",
    "            loss = criterion(outputs, labels)\n",
    "            loss.backward()\n",
    "            optimizer.step()\n",
    "    \n",
    "            if i % 500 == 0:\n",
    "                print('Epoch', epoch, 'Iter:', i, 'Loss', loss.item())"
   ]
  },
  {
   "attachments": {},
   "cell_type": "markdown",
   "id": "e43d9cc3",
   "metadata": {},
   "source": [
    "Train the network using cross entropy loss. Note that this is equivalent to maximizing the KL-divergence."
   ]
  },
  {
   "cell_type": "code",
<<<<<<< HEAD
   "execution_count": 11,
=======
   "execution_count": 17,
>>>>>>> 4e77793 (Got rid of initial notebook in favor of underscored name)
   "id": "ea0df5c7",
   "metadata": {},
   "outputs": [
    {
     "name": "stdout",
     "output_type": "stream",
     "text": [
<<<<<<< HEAD
      "Epoch 0 Iter: 0 Loss 2.3855669498443604\n",
      "Epoch 0 Iter: 500 Loss 1.2561038732528687\n",
      "Epoch 0 Iter: 1000 Loss 0.11339790374040604\n",
      "Epoch 0 Iter: 1500 Loss 0.5455701947212219\n",
      "Epoch 0 Iter: 2000 Loss 0.02579677477478981\n",
      "Epoch 0 Iter: 2500 Loss 0.9998983144760132\n",
      "Epoch 0 Iter: 3000 Loss 0.40128687024116516\n",
      "Epoch 0 Iter: 3500 Loss 0.045285217463970184\n",
      "Epoch 0 Iter: 4000 Loss 0.15852096676826477\n",
      "Epoch 0 Iter: 4500 Loss 0.1748335063457489\n",
      "Epoch 0 Iter: 5000 Loss 0.12577465176582336\n",
      "Epoch 0 Iter: 5500 Loss 0.08513245731592178\n",
      "Epoch 0 Iter: 6000 Loss 0.1739739030599594\n",
      "Epoch 0 Iter: 6500 Loss 0.03151215985417366\n",
      "Epoch 0 Iter: 7000 Loss 0.01883954182267189\n",
      "Epoch 0 Iter: 7500 Loss 0.022863224148750305\n",
      "Epoch 0 Iter: 8000 Loss 0.005430187564343214\n",
      "Epoch 0 Iter: 8500 Loss 0.0013404235942289233\n",
      "Epoch 0 Iter: 9000 Loss 0.0926351547241211\n",
      "Epoch 0 Iter: 9500 Loss 0.018720833584666252\n",
      "Epoch 0 Iter: 10000 Loss 0.08377524465322495\n",
      "Epoch 0 Iter: 10500 Loss 0.41179296374320984\n",
      "Epoch 0 Iter: 11000 Loss 0.11705738306045532\n",
      "Epoch 0 Iter: 11500 Loss 0.05894948169589043\n",
      "Epoch 0 Iter: 12000 Loss 0.004523010458797216\n",
      "Epoch 0 Iter: 12500 Loss 0.4889325499534607\n",
      "Epoch 0 Iter: 13000 Loss 0.05214162915945053\n",
      "Epoch 0 Iter: 13500 Loss 0.20215067267417908\n",
      "Epoch 0 Iter: 14000 Loss 0.11947412043809891\n",
      "Epoch 0 Iter: 14500 Loss 0.015526174567639828\n",
      "Epoch 1 Iter: 0 Loss 0.24036215245723724\n",
      "Epoch 1 Iter: 500 Loss 1.0904967784881592\n",
      "Epoch 1 Iter: 1000 Loss 0.0018265725811943412\n",
      "Epoch 1 Iter: 1500 Loss 0.0008608350181020796\n",
      "Epoch 1 Iter: 2000 Loss 0.0016600313829258084\n",
      "Epoch 1 Iter: 2500 Loss 0.19591568410396576\n",
      "Epoch 1 Iter: 3000 Loss 0.004793708212673664\n",
      "Epoch 1 Iter: 3500 Loss 0.045235201716423035\n",
      "Epoch 1 Iter: 4000 Loss 0.031898822635412216\n",
      "Epoch 1 Iter: 4500 Loss 1.091429352760315\n",
      "Epoch 1 Iter: 5000 Loss 0.05976353958249092\n",
      "Epoch 1 Iter: 5500 Loss 0.3412166237831116\n",
      "Epoch 1 Iter: 6000 Loss 0.11436530947685242\n",
      "Epoch 1 Iter: 6500 Loss 0.025573519989848137\n",
      "Epoch 1 Iter: 7000 Loss 0.015811586752533913\n",
      "Epoch 1 Iter: 7500 Loss 0.014413093216717243\n",
      "Epoch 1 Iter: 8000 Loss 0.0072436281479895115\n",
      "Epoch 1 Iter: 8500 Loss 0.12065161019563675\n",
      "Epoch 1 Iter: 9000 Loss 0.00637600664049387\n",
      "Epoch 1 Iter: 9500 Loss 0.038368746638298035\n",
      "Epoch 1 Iter: 10000 Loss 0.07822459936141968\n",
      "Epoch 1 Iter: 10500 Loss 0.07321469485759735\n",
      "Epoch 1 Iter: 11000 Loss 0.0025015382561832666\n",
      "Epoch 1 Iter: 11500 Loss 0.5147678256034851\n",
      "Epoch 1 Iter: 12000 Loss 0.0007927418337203562\n",
      "Epoch 1 Iter: 12500 Loss 0.5104815363883972\n",
      "Epoch 1 Iter: 13000 Loss 0.014521591365337372\n",
      "Epoch 1 Iter: 13500 Loss 0.05568450689315796\n",
      "Epoch 1 Iter: 14000 Loss 0.004760553129017353\n",
      "Epoch 1 Iter: 14500 Loss 0.003435659920796752\n",
      "Epoch 2 Iter: 0 Loss 0.016882142052054405\n",
      "Epoch 2 Iter: 500 Loss 0.33229827880859375\n",
      "Epoch 2 Iter: 1000 Loss 4.7651887143729255e-05\n",
      "Epoch 2 Iter: 1500 Loss 0.08104285597801208\n",
      "Epoch 2 Iter: 2000 Loss 0.0013065292732790112\n",
      "Epoch 2 Iter: 2500 Loss 1.3144383430480957\n",
      "Epoch 2 Iter: 3000 Loss 0.006249984260648489\n",
      "Epoch 2 Iter: 3500 Loss 0.018187128007411957\n",
      "Epoch 2 Iter: 4000 Loss 0.2369370013475418\n",
      "Epoch 2 Iter: 4500 Loss 0.003976043313741684\n",
      "Epoch 2 Iter: 5000 Loss 0.011800473555922508\n",
      "Epoch 2 Iter: 5500 Loss 0.00022198169608600438\n",
      "Epoch 2 Iter: 6000 Loss 0.00017112429486587644\n",
      "Epoch 2 Iter: 6500 Loss 0.3190597593784332\n",
      "Epoch 2 Iter: 7000 Loss 0.02357868291437626\n",
      "Epoch 2 Iter: 7500 Loss 0.05911846458911896\n",
      "Epoch 2 Iter: 8000 Loss 0.006035524886101484\n",
      "Epoch 2 Iter: 8500 Loss 0.008549908176064491\n",
      "Epoch 2 Iter: 9000 Loss 0.29524117708206177\n",
      "Epoch 2 Iter: 9500 Loss 0.07523423433303833\n",
      "Epoch 2 Iter: 10000 Loss 0.001993083395063877\n",
      "Epoch 2 Iter: 10500 Loss 0.0014443743275478482\n",
      "Epoch 2 Iter: 11000 Loss 5.5041422456270084e-05\n",
      "Epoch 2 Iter: 11500 Loss 0.031039776280522346\n",
      "Epoch 2 Iter: 12000 Loss 0.012670370750129223\n",
      "Epoch 2 Iter: 12500 Loss 0.0007630207692272961\n",
      "Epoch 2 Iter: 13000 Loss 0.0027722069062292576\n",
      "Epoch 2 Iter: 13500 Loss 0.0007709983619861305\n",
      "Epoch 2 Iter: 14000 Loss 0.0017684807535260916\n",
      "Epoch 2 Iter: 14500 Loss 0.0009995157597586513\n"
=======
      "Epoch 0 Iter: 0 Loss 2.286670446395874\n",
      "Epoch 0 Iter: 500 Loss 0.9697350263595581\n",
      "Epoch 0 Iter: 1000 Loss 0.04642249271273613\n",
      "Epoch 0 Iter: 1500 Loss 0.6155569553375244\n",
      "Epoch 0 Iter: 2000 Loss 1.0472831726074219\n",
      "Epoch 0 Iter: 2500 Loss 0.3383465111255646\n",
      "Epoch 0 Iter: 3000 Loss 0.7562452554702759\n",
      "Epoch 0 Iter: 3500 Loss 0.01037298608571291\n",
      "Epoch 0 Iter: 4000 Loss 0.15475311875343323\n",
      "Epoch 0 Iter: 4500 Loss 0.03806006535887718\n",
      "Epoch 0 Iter: 5000 Loss 0.5331413745880127\n",
      "Epoch 0 Iter: 5500 Loss 0.05730890482664108\n",
      "Epoch 0 Iter: 6000 Loss 0.0999557226896286\n",
      "Epoch 0 Iter: 6500 Loss 1.016952395439148\n",
      "Epoch 0 Iter: 7000 Loss 0.013922623358666897\n",
      "Epoch 0 Iter: 7500 Loss 0.5701573491096497\n",
      "Epoch 0 Iter: 8000 Loss 0.0064573874697089195\n",
      "Epoch 0 Iter: 8500 Loss 0.7975530028343201\n",
      "Epoch 0 Iter: 9000 Loss 0.002153104869648814\n",
      "Epoch 0 Iter: 9500 Loss 0.722504734992981\n",
      "Epoch 0 Iter: 10000 Loss 0.11614212393760681\n",
      "Epoch 0 Iter: 10500 Loss 0.16484445333480835\n",
      "Epoch 0 Iter: 11000 Loss 0.027362968772649765\n",
      "Epoch 0 Iter: 11500 Loss 0.08344625681638718\n",
      "Epoch 0 Iter: 12000 Loss 0.00043411777005530894\n",
      "Epoch 0 Iter: 12500 Loss 0.0015108749503269792\n",
      "Epoch 0 Iter: 13000 Loss 1.2038664817810059\n",
      "Epoch 0 Iter: 13500 Loss 5.8975241699954495e-05\n",
      "Epoch 0 Iter: 14000 Loss 0.39230242371559143\n",
      "Epoch 0 Iter: 14500 Loss 0.2755776047706604\n",
      "Epoch 1 Iter: 0 Loss 0.004477480426430702\n",
      "Epoch 1 Iter: 500 Loss 0.0026253496762365103\n",
      "Epoch 1 Iter: 1000 Loss 0.010236774571239948\n",
      "Epoch 1 Iter: 1500 Loss 0.013402227312326431\n",
      "Epoch 1 Iter: 2000 Loss 0.002847680589184165\n",
      "Epoch 1 Iter: 2500 Loss 0.0002520618727430701\n",
      "Epoch 1 Iter: 3000 Loss 0.17296245694160461\n",
      "Epoch 1 Iter: 3500 Loss 0.020012274384498596\n",
      "Epoch 1 Iter: 4000 Loss 0.0013774813851341605\n",
      "Epoch 1 Iter: 4500 Loss 1.5702875852584839\n",
      "Epoch 1 Iter: 5000 Loss 0.00310417078435421\n",
      "Epoch 1 Iter: 5500 Loss 0.002312778029590845\n",
      "Epoch 1 Iter: 6000 Loss 0.08356256037950516\n",
      "Epoch 1 Iter: 6500 Loss 0.008196803741157055\n",
      "Epoch 1 Iter: 7000 Loss 0.0133521081879735\n",
      "Epoch 1 Iter: 7500 Loss 0.0032788431271910667\n",
      "Epoch 1 Iter: 8000 Loss 0.0884789451956749\n",
      "Epoch 1 Iter: 8500 Loss 0.5393407344818115\n",
      "Epoch 1 Iter: 9000 Loss 0.16543951630592346\n",
      "Epoch 1 Iter: 9500 Loss 0.11856921762228012\n",
      "Epoch 1 Iter: 10000 Loss 0.00183398206718266\n",
      "Epoch 1 Iter: 10500 Loss 0.0679183304309845\n",
      "Epoch 1 Iter: 11000 Loss 0.07353490591049194\n",
      "Epoch 1 Iter: 11500 Loss 0.0299537293612957\n",
      "Epoch 1 Iter: 12000 Loss 0.0008227222133427858\n",
      "Epoch 1 Iter: 12500 Loss 0.4595702886581421\n",
      "Epoch 1 Iter: 13000 Loss 0.11413311958312988\n",
      "Epoch 1 Iter: 13500 Loss 0.026332063600420952\n",
      "Epoch 1 Iter: 14000 Loss 0.016372637823224068\n",
      "Epoch 1 Iter: 14500 Loss 0.0005635279812850058\n",
      "Epoch 2 Iter: 0 Loss 0.13530956208705902\n",
      "Epoch 2 Iter: 500 Loss 0.08246058225631714\n",
      "Epoch 2 Iter: 1000 Loss 0.4974329471588135\n",
      "Epoch 2 Iter: 1500 Loss 0.0011352853616699576\n",
      "Epoch 2 Iter: 2000 Loss 0.0005627479986287653\n",
      "Epoch 2 Iter: 2500 Loss 0.09717704355716705\n",
      "Epoch 2 Iter: 3000 Loss 0.0027696890756487846\n",
      "Epoch 2 Iter: 3500 Loss 0.10283397883176804\n",
      "Epoch 2 Iter: 4000 Loss 0.0011274215066805482\n",
      "Epoch 2 Iter: 4500 Loss 5.4115636885399e-05\n",
      "Epoch 2 Iter: 5000 Loss 0.045192595571279526\n",
      "Epoch 2 Iter: 5500 Loss 0.020380865782499313\n",
      "Epoch 2 Iter: 6000 Loss 0.10107728838920593\n",
      "Epoch 2 Iter: 6500 Loss 8.289818651974201e-05\n",
      "Epoch 2 Iter: 7000 Loss 0.006741399876773357\n",
      "Epoch 2 Iter: 7500 Loss 0.4374547302722931\n",
      "Epoch 2 Iter: 8000 Loss 0.23467615246772766\n",
      "Epoch 2 Iter: 8500 Loss 0.014736481010913849\n",
      "Epoch 2 Iter: 9000 Loss 9.834756156124058e-07\n",
      "Epoch 2 Iter: 9500 Loss 0.0002987053303513676\n",
      "Epoch 2 Iter: 10000 Loss 0.024224068969488144\n",
      "Epoch 2 Iter: 10500 Loss 0.03485661745071411\n",
      "Epoch 2 Iter: 11000 Loss 0.03257952257990837\n",
      "Epoch 2 Iter: 11500 Loss 0.0005143763264641166\n",
      "Epoch 2 Iter: 12000 Loss 0.013995129615068436\n",
      "Epoch 2 Iter: 12500 Loss 0.39602842926979065\n",
      "Epoch 2 Iter: 13000 Loss 0.00531821558251977\n",
      "Epoch 2 Iter: 13500 Loss 0.023897338658571243\n",
      "Epoch 2 Iter: 14000 Loss 0.015718359500169754\n",
      "Epoch 2 Iter: 14500 Loss 0.017762769013643265\n"
>>>>>>> 4e77793 (Got rid of initial notebook in favor of underscored name)
     ]
    }
   ],
   "source": [
    "net = Net(width=512, depth=6)\n",
    "net.to(device)\n",
    "\n",
    "criterion = nn.CrossEntropyLoss()\n",
    "\n",
    "train(net, criterion, trainloader, 0.001)"
   ]
  },
  {
   "cell_type": "code",
<<<<<<< HEAD
   "execution_count": 12,
=======
   "execution_count": 18,
>>>>>>> 4e77793 (Got rid of initial notebook in favor of underscored name)
   "id": "7a3a2618",
   "metadata": {},
   "outputs": [],
   "source": [
    "test_iter = iter(testloader)"
   ]
  },
  {
   "cell_type": "code",
<<<<<<< HEAD
   "execution_count": 13,
=======
   "execution_count": 19,
>>>>>>> 4e77793 (Got rid of initial notebook in favor of underscored name)
   "id": "cd97fc13",
   "metadata": {},
   "outputs": [
    {
     "data": {
      "image/png": "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",
      "text/plain": [
       "<Figure size 640x480 with 1 Axes>"
      ]
     },
     "metadata": {},
     "output_type": "display_data"
    },
    {
     "name": "stdout",
     "output_type": "stream",
     "text": [
<<<<<<< HEAD
      "Classifier output: tensor([[ -9.4023, -14.9840,  -1.9853,  -2.1988, -20.5725, -10.6118, -28.1723,\n",
      "           7.1632,  -8.9985,  -4.0987]])\n",
=======
      "Classifier output: tensor([[-20.8261, -12.9151,  -9.8646,  -8.3773, -14.2133, -17.2809, -34.3170,\n",
      "          -0.1573, -13.5636,  -8.1809]])\n",
>>>>>>> 4e77793 (Got rid of initial notebook in favor of underscored name)
      "Classifier prediction: 7\n"
     ]
    }
   ],
   "source": [
    "x, labels = next(test_iter)\n",
    "x = x[0].unsqueeze(0)\n",
    "labels = labels[0].unsqueeze(0)\n",
    "imshow(x[0,0])\n",
    "\n",
    "x = x.to(device)\n",
    "labels = labels.to(device)\n",
    "\n",
    "out = net(x).data\n",
    "print('Classifier output:', out)\n",
    "print('Classifier prediction:', torch.argmax(out).item())"
   ]
  },
  {
   "attachments": {},
   "cell_type": "markdown",
   "id": "d65bfa74",
   "metadata": {},
   "source": [
    "Let's look at accuracy now."
   ]
  },
  {
   "cell_type": "code",
<<<<<<< HEAD
   "execution_count": 14,
=======
   "execution_count": 20,
>>>>>>> 4e77793 (Got rid of initial notebook in favor of underscored name)
   "id": "d016288f",
   "metadata": {},
   "outputs": [],
   "source": [
    "def accuracy(net, testloader):\n",
    "    '''\n",
    "    Returns the accuracy of classifier NET\n",
    "    on test data from TESTLOADER.\n",
    "    '''\n",
    "    correct = 0\n",
    "    total = 0\n",
    "    with torch.no_grad():\n",
    "        for data in testloader:\n",
    "            images, labels = data[0].to(device), data[1].to(device)\n",
    "            outputs = net(images)\n",
    "            _, predicted = torch.max(outputs.data, 1)\n",
    "            total += labels.size(0)\n",
    "            correct += (predicted == labels).sum().item()\n",
    "\n",
    "    return correct / total"
   ]
  },
  {
   "cell_type": "code",
<<<<<<< HEAD
   "execution_count": 15,
=======
   "execution_count": 21,
>>>>>>> 4e77793 (Got rid of initial notebook in favor of underscored name)
   "id": "d681f096",
   "metadata": {},
   "outputs": [
    {
     "name": "stdout",
     "output_type": "stream",
     "text": [
<<<<<<< HEAD
      "Classifier accuracy on original test dataset: 0.972\n"
=======
      "Classifier accuracy on original test dataset: 0.9662\n"
>>>>>>> 4e77793 (Got rid of initial notebook in favor of underscored name)
     ]
    }
   ],
   "source": [
    "print('Classifier accuracy on original test dataset:', accuracy(net, testloader))"
   ]
  },
  {
   "cell_type": "markdown",
   "id": "26ceb29d",
   "metadata": {},
   "source": [
    "Implement FGSM Method:"
   ]
  },
  {
   "cell_type": "code",
<<<<<<< HEAD
   "execution_count": 16,
=======
   "execution_count": 22,
>>>>>>> 4e77793 (Got rid of initial notebook in favor of underscored name)
   "id": "f095acd9",
   "metadata": {},
   "outputs": [],
   "source": [
    "def FGSM(x, labels, net, eps):\n",
    "    '''\n",
    "    Given an input image X and its corresponding labels\n",
    "    LABELS, as well as a classifier NET, returns X\n",
    "    perturbed by EPS using the fast gradient sign method.\n",
    "    '''\n",
    "    net.zero_grad()    # Zero out any gradients from before\n",
    "    x.requires_grad=True    # Keep track of gradients\n",
    "    out = net(x)    # Output of classifier\n",
    "    criterion = nn.CrossEntropyLoss()\n",
    "    loss = criterion(out, labels)   # Classifier's loss\n",
    "    loss.backward()\n",
    "    grads = x.grad.data    # Gradient of loss w/r/t input\n",
    "    return x + eps*torch.sign(grads)"
   ]
  },
  {
   "cell_type": "markdown",
   "id": "0661e90e",
   "metadata": {},
   "source": [
    "Now we define an epsilon value for FGSM perturbation:"
   ]
  },
  {
   "cell_type": "code",
<<<<<<< HEAD
   "execution_count": 17,
=======
   "execution_count": 23,
>>>>>>> 4e77793 (Got rid of initial notebook in favor of underscored name)
   "id": "56a880d3",
   "metadata": {},
   "outputs": [],
   "source": [
    "eps = 0.05"
   ]
  },
  {
   "cell_type": "code",
<<<<<<< HEAD
   "execution_count": 18,
=======
   "execution_count": 24,
>>>>>>> 4e77793 (Got rid of initial notebook in favor of underscored name)
   "id": "7dee895e",
   "metadata": {},
   "outputs": [
    {
     "data": {
<<<<<<< HEAD
      "image/png": "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",
=======
      "image/png": "iVBORw0KGgoAAAANSUhEUgAAAaAAAAGdCAYAAABU0qcqAAAAOXRFWHRTb2Z0d2FyZQBNYXRwbG90bGliIHZlcnNpb24zLjcuMSwgaHR0cHM6Ly9tYXRwbG90bGliLm9yZy/bCgiHAAAACXBIWXMAAA9hAAAPYQGoP6dpAAAb5UlEQVR4nO3df2zU9R3H8deB9EBpr6ulvZ6UWlBhE+gyBrVTEUdDKdGI8gf++AMWItEVM6xOU6OibkkdW9S4MPxngZmIOhOBaTIWqLbMrUAoEmRqQ7tuwKBFib0rRQqhn/3ReHpSwO9xd+/r9flIvknv+/2+7958/bYvv71v3+dzzjkBAJBiI6wbAAAMTwQQAMAEAQQAMEEAAQBMEEAAABMEEADABAEEADBBAAEATFxm3cC39ff368iRI8rOzpbP57NuBwDgkXNOPT09CoVCGjHi/Nc5aRdAR44cUXFxsXUbAIBLdOjQIY0fP/6829PuV3DZ2dnWLQAAEuBiP8+TFkBr1qzR1VdfrdGjR6u8vFy7du36TnX82g0AMsPFfp4nJYDefPNN1dbWatWqVdqzZ4/KyspUVVWlY8eOJePlAABDkUuCWbNmuZqamujjs2fPulAo5Orr6y9aGw6HnSQWFhYWliG+hMPhC/68T/gV0OnTp9XS0qLKysrouhEjRqiyslLNzc3n7N/X16dIJBKzAAAyX8ID6PPPP9fZs2dVWFgYs76wsFCdnZ3n7F9fX69AIBBduAMOAIYH87vg6urqFA6Ho8uhQ4esWwIApEDC/w4oPz9fI0eOVFdXV8z6rq4uBYPBc/b3+/3y+/2JbgMAkOYSfgWUlZWlGTNmqKGhIbquv79fDQ0NqqioSPTLAQCGqKRMQqitrdWSJUv04x//WLNmzdJLL72k3t5e/exnP0vGywEAhqCkBNDixYv12Wef6emnn1ZnZ6d++MMfasuWLefcmAAAGL58zjln3cQ3RSIRBQIB6zaA72zs2LGea06cOJGEToD0Eg6HlZOTc97t5nfBAQCGJwIIAGCCAAIAmCCAAAAmCCAAgAkCCABgggACAJgggAAAJgggAIAJAggAYIIAAgCYIIAAACaSMg0bwIUxwBTgCggAYIQAAgCYIIAAACYIIACACQIIAGCCAAIAmCCAAAAmCCAAgAkCCABgggACAJgggAAAJgggAIAJAggAYIJp2MA3xDOlOlXSubd0xyTx9MQVEADABAEEADBBAAEATBBAAAATBBAAwAQBBAAwQQABAEwQQAAAEwQQAMAEAQQAMEEAAQBMEEAAABMMI0VKMVATl4rBopmDKyAAgAkCCABgggACAJgggAAAJgggAIAJAggAYIIAAgCYIIAAACYIIACACQIIAGCCAAIAmCCAAAAmGEaaYeIZ9pnK4Y7xvBYDTPFNqTwfGHyaXFwBAQBMEEAAABMJD6BnnnlGPp8vZpkyZUqiXwYAMMQl5T2g66+/Xtu2bfv6RS7jrSYAQKykJMNll12mYDCYjKcGAGSIpLwHdODAAYVCIU2cOFH33XefDh48eN59+/r6FIlEYhYAQOZLeACVl5dr/fr12rJli9auXauOjg7dfPPN6unpGXT/+vp6BQKB6FJcXJzolgAAacjnnHPJfIHu7m6VlJTohRde0LJly87Z3tfXp76+vujjSCRCCF2CdP87oHjwd0Cwku7fG+kuHA4rJyfnvNuTfndAbm6urrvuOrW1tQ263e/3y+/3J7sNAECaSfrfAZ04cULt7e0qKipK9ksBAIaQhAfQo48+qqamJv3nP//RP//5T915550aOXKk7rnnnkS/FABgCEv4r+AOHz6se+65R8ePH9e4ceN00003aceOHRo3blyiXwoAMIQl/SYEryKRiAKBgHUbGOK4cQFWuHHhaxe7CYFZcAAAEwQQAMAEAQQAMEEAAQBMEEAAABMEEADABAEEADBBAAEATBBAAAATBBAAwAQBBAAwQQABAEwk/QPpkFoLFy70XLN06dK4Xquzs9NzzalTpzzXvPHGG55rjh075rlGkv7973/HVedVug9LZaBm/DLxU4mThSsgAIAJAggAYIIAAgCYIIAAACYIIACACQIIAGCCAAIAmCCAAAAmCCAAgAkCCABgggACAJgggAAAJgggAIAJn3POWTfxTZFIRIFAwLqNIeujjz7yXFNSUpKETmzFO134k08+SXAnuJB4Jkf/73//81zz3HPPea6RpL1793quSdU07Hgnqqdy8nY4HFZOTs55t3MFBAAwQQABAEwQQAAAEwQQAMAEAQQAMEEAAQBMEEAAABMEEADABAEEADBBAAEATBBAAAATBBAAwMRl1g0gsR566CHPNVOnTo3rtT799FPPNVOmTPFcU1ZW5rlm9uzZnmskaebMmZ5r4hmOedVVV3muSaWzZ896rvnss88811x77bWea+Jx+PDhuOqeeOKJBHcyuFQNME03XAEBAEwQQAAAEwQQAMAEAQQAMEEAAQBMEEAAABMEEADABAEEADBBAAEATBBAAAATBBAAwAQBBAAwwTDSDNPY2JiSmnht27YtJa+Tm5sbV108g0/37NnjueaWW27xXJPK4ZOnTp3yXNPZ2em5pqWlxXNNXl6e55qPPvrIc00qZcJg0XhwBQQAMEEAAQBMeA6g7du36/bbb1coFJLP59OmTZtitjvn9PTTT6uoqEhjxoxRZWWlDhw4kKh+AQAZwnMA9fb2qqysTGvWrBl0++rVq/Xyyy/rlVde0c6dO3XFFVeoqqoqrt8pAwAyl+ebEKqrq1VdXT3oNuecXnrpJT355JO64447JEmvvvqqCgsLtWnTJt19992X1i0AIGMk9D2gjo4OdXZ2qrKyMrouEAiovLxczc3Ng9b09fUpEonELACAzJfQAPrqNszCwsKY9YWFhee9RbO+vl6BQCC6FBcXJ7IlAECaMr8Lrq6uTuFwOLocOnTIuiUAQAokNICCwaAkqaurK2Z9V1dXdNu3+f1+5eTkxCwAgMyX0AAqLS1VMBhUQ0NDdF0kEtHOnTtVUVGRyJcCAAxxnu+CO3HihNra2qKPOzo6tHfvXuXl5WnChAlauXKlfv3rX+vaa69VaWmpnnrqKYVCIS1cuDCRfQMAhjjPAbR7927deuut0ce1tbWSpCVLlmj9+vV67LHH1Nvbq+XLl6u7u1s33XSTtmzZotGjRyeuawDAkOdzzjnrJr4pEokoEAhYt4FhauzYsdYtJFQqh1x+9bd/XmzcuNFzzb/+9S/PNQsWLPBcI0lffPFFXHWpMBQGmIbD4Qu+r29+FxwAYHgigAAAJgggAIAJAggAYIIAAgCYIIAAACYIIACACQIIAGCCAAIAmCCAAAAmCCAAgAkCCABgggACAJjw/HEMSJ10n8wczzTedP83YcC4ceM817z44ouea3w+n+ea559/3nNNOk+1jle830vpNEWbKyAAgAkCCABgggACAJgggAAAJgggAIAJAggAYIIAAgCYIIAAACYIIACACQIIAGCCAAIAmCCAAAAmGEaKuDFYNHMtX77cc01+fr7nmu7ubs81Bw4c8FyTidJpqGi8uAICAJgggAAAJgggAIAJAggAYIIAAgCYIIAAACYIIACACQIIAGCCAAIAmCCAAAAmCCAAgAkCCABggmGkKcLgTlyqeIZP3nDDDXG91iOPPBJXnVe33Xab55pdu3YloZPE4Xv9u+MKCABgggACAJgggAAAJgggAIAJAggAYIIAAgCYIIAAACYIIACACQIIAGCCAAIAmCCAAAAmCCAAgAmGkQIZrKqqKq66yy7z/qOhsbHRc83OnTs916S7eIbGDtcBplwBAQBMEEAAABOeA2j79u26/fbbFQqF5PP5tGnTppjtS5culc/ni1nmz5+fqH4BABnCcwD19vaqrKxMa9asOe8+8+fP19GjR6PL66+/fklNAgAyj+d3Gqurq1VdXX3Bffx+v4LBYNxNAQAyX1LeA2psbFRBQYEmT56sBx98UMePHz/vvn19fYpEIjELACDzJTyA5s+fr1dffVUNDQ36zW9+o6amJlVXV+vs2bOD7l9fX69AIBBdiouLE90SACANJfzvgO6+++7o19OmTdP06dM1adIkNTY2au7cuefsX1dXp9ra2ujjSCRCCAHAMJD027AnTpyo/Px8tbW1Dbrd7/crJycnZgEAZL6kB9Dhw4d1/PhxFRUVJfulAABDiOdfwZ04cSLmaqajo0N79+5VXl6e8vLy9Oyzz2rRokUKBoNqb2/XY489pmuuuSbukSAAgMzkOYB2796tW2+9Nfr4q/dvlixZorVr12rfvn3605/+pO7uboVCIc2bN0+/+tWv5Pf7E9c1AGDI8znnnHUT3xSJRBQIBKzbSLh0HjYYz/DEeKXzcUileI756NGjPdds3brVc40k/eAHP/Bcs2DBAs81mTiMNB7xfF+k8vs2XuFw+ILv6zMLDgBgggACAJgggAAAJgggAIAJAggAYIIAAgCYIIAAACYIIACACQIIAGCCAAIAmCCAAAAmCCAAgAkCCABgIuEfyT0cZNpE50z796RaqqYSr1y50nNNWVlZXK+1bds2zzXpPNk63c/xoTDZOhm4AgIAmCCAAAAmCCAAgAkCCABgggACAJgggAAAJgggAIAJAggAYIIAAgCYIIAAACYIIACACQIIAGCCYaRxiGdwYLoPQ8SAVA2FrKqq8lzz+OOPe67p6enxXCNJzz//vOcaznF4xRUQAMAEAQQAMEEAAQBMEEAAABMEEADABAEEADBBAAEATBBAAAATBBAAwAQBBAAwQQABAEwQQAAAEwwjTREGmGauvLw8zzW/+93vPNeMHDnSc83f/vY3zzWS9PHHH8dVB3jBFRAAwAQBBAAwQQABAEwQQAAAEwQQAMAEAQQAMEEAAQBMEEAAABMEEADABAEEADBBAAEATBBAAAATDCNNEQaLDg2BQMBzzaZNmzzXlJSUeK757LPPPNe88MILnmtwaeIZPDxccQUEADBBAAEATHgKoPr6es2cOVPZ2dkqKCjQwoUL1draGrPPqVOnVFNToyuvvFJjx47VokWL1NXVldCmAQBDn6cAampqUk1NjXbs2KGtW7fqzJkzmjdvnnp7e6P7PPzww3rnnXf01ltvqampSUeOHNFdd92V8MYBAEObp5sQtmzZEvN4/fr1KigoUEtLi2bPnq1wOKw//vGP2rBhg376059KktatW6fvf//72rFjh2644YbEdQ4AGNIu6T2gcDgs6euPJG5padGZM2dUWVkZ3WfKlCmaMGGCmpubB32Ovr4+RSKRmAUAkPniDqD+/n6tXLlSN954o6ZOnSpJ6uzsVFZWlnJzc2P2LSwsVGdn56DPU19fr0AgEF2Ki4vjbQkAMITEHUA1NTXav3+/3njjjUtqoK6uTuFwOLocOnTokp4PADA0xPWHqCtWrNC7776r7du3a/z48dH1wWBQp0+fVnd3d8xVUFdXl4LB4KDP5ff75ff742kDADCEeboCcs5pxYoV2rhxo9577z2VlpbGbJ8xY4ZGjRqlhoaG6LrW1lYdPHhQFRUViekYAJARPF0B1dTUaMOGDdq8ebOys7Oj7+sEAgGNGTNGgUBAy5YtU21trfLy8pSTk6OHHnpIFRUV3AEHAIjhKYDWrl0rSZozZ07M+nXr1mnp0qWSpBdffFEjRozQokWL1NfXp6qqKv3hD39ISLMAgMzhc8456ya+KRKJxDUQMpUYLJq5rrnmGs8127dv91yTnZ3tuWbBggWea/761796rpE4xy8Fw0i/Fg6HlZOTc97tzIIDAJgggAAAJgggAIAJAggAYIIAAgCYIIAAACYIIACACQIIAGCCAAIAmCCAAAAmCCAAgAkCCABgggACAJiI6xNRh7tUTbtlInH8vvlJvV785S9/8VwTz2TrJ554wnNNPJOtOYeQzrgCAgCYIIAAACYIIACACQIIAGCCAAIAmCCAAAAmCCAAgAkCCABgggACAJgggAAAJgggAIAJAggAYIJhpGksVUNPUylVwzGXLVsWV11xcXGCOxnc3//+95S8TrqL5xxnwGrm4AoIAGCCAAIAmCCAAAAmCCAAgAkCCABgggACAJgggAAAJgggAIAJAggAYIIAAgCYIIAAACYIIACACYaRIu395Cc/8VzzwAMPJKETXEiqBosywDRzcAUEADBBAAEATBBAAAATBBAAwAQBBAAwQQABAEwQQAAAEwQQAMAEAQQAMEEAAQBMEEAAABMEEADABMNIkVLxDJKsqKjwXOOc81wjST09PZ5rOjo6PNccO3bMc0084jneqZSq/tL9OAxXXAEBAEwQQAAAE54CqL6+XjNnzlR2drYKCgq0cOFCtba2xuwzZ84c+Xy+mIXPZgEAfJunAGpqalJNTY127NihrVu36syZM5o3b556e3tj9rv//vt19OjR6LJ69eqENg0AGPo83YSwZcuWmMfr169XQUGBWlpaNHv27Oj6yy+/XMFgMDEdAgAy0iW9BxQOhyVJeXl5Metfe+015efna+rUqaqrq9PJkyfP+xx9fX2KRCIxCwAg88V9G3Z/f79WrlypG2+8UVOnTo2uv/fee1VSUqJQKKR9+/bp8ccfV2trq95+++1Bn6e+vl7PPvtsvG0AAIaouAOopqZG+/fv1wcffBCzfvny5dGvp02bpqKiIs2dO1ft7e2aNGnSOc9TV1en2tra6ONIJKLi4uJ42wIADBFxBdCKFSv07rvvavv27Ro/fvwF9y0vL5cktbW1DRpAfr9ffr8/njYAAEOYpwByzumhhx7Sxo0b1djYqNLS0ovW7N27V5JUVFQUV4MAgMzkKYBqamq0YcMGbd68WdnZ2ers7JQkBQIBjRkzRu3t7dqwYYMWLFigK6+8Uvv27dPDDz+s2bNna/r06Un5BwAAhiZPAbR27VpJA39s+k3r1q3T0qVLlZWVpW3btumll15Sb2+viouLtWjRIj355JMJaxgAkBk8/wruQoqLi9XU1HRJDQEAhgemYSPtpXKS8UcffeS55rbbbvNc88UXX3iuwYCxY8d6rmEadnpiGCkAwAQBBAAwQQABAEwQQAAAEwQQAMAEAQQAMEEAAQBMEEAAABMEEADABAEEADBBAAEATBBAAAATPnexEdcpFolEFAgErNsAAFyicDisnJyc827nCggAYIIAAgCYIIAAACYIIACACQIIAGCCAAIAmCCAAAAmCCAAgAkCCABgggACAJgggAAAJtIugNJsNB0AIE4X+3medgHU09Nj3QIAIAEu9vM87aZh9/f368iRI8rOzpbP54vZFolEVFxcrEOHDl1wwmqm4zgM4DgM4DgM4DgMSIfj4JxTT0+PQqGQRow4/3XOZSns6TsZMWKExo8ff8F9cnJyhvUJ9hWOwwCOwwCOwwCOwwDr4/BdPlYn7X4FBwAYHgggAICJIRVAfr9fq1atkt/vt27FFMdhAMdhAMdhAMdhwFA6Dml3EwIAYHgYUldAAIDMQQABAEwQQAAAEwQQAMDEkAmgNWvW6Oqrr9bo0aNVXl6uXbt2WbeUcs8884x8Pl/MMmXKFOu2km779u26/fbbFQqF5PP5tGnTppjtzjk9/fTTKioq0pgxY1RZWakDBw7YNJtEFzsOS5cuPef8mD9/vk2zSVJfX6+ZM2cqOztbBQUFWrhwoVpbW2P2OXXqlGpqanTllVdq7NixWrRokbq6uow6To7vchzmzJlzzvnwwAMPGHU8uCERQG+++aZqa2u1atUq7dmzR2VlZaqqqtKxY8esW0u566+/XkePHo0uH3zwgXVLSdfb26uysjKtWbNm0O2rV6/Wyy+/rFdeeUU7d+7UFVdcoaqqKp06dSrFnSbXxY6DJM2fPz/m/Hj99ddT2GHyNTU1qaamRjt27NDWrVt15swZzZs3T729vdF9Hn74Yb3zzjt666231NTUpCNHjuiuu+4y7DrxvstxkKT7778/5nxYvXq1Ucfn4YaAWbNmuZqamujjs2fPulAo5Orr6w27Sr1Vq1a5srIy6zZMSXIbN26MPu7v73fBYND99re/ja7r7u52fr/fvf766wYdpsa3j4Nzzi1ZssTdcccdJv1YOXbsmJPkmpqanHMD/+1HjRrl3nrrreg+n3zyiZPkmpubrdpMum8fB+ecu+WWW9wvfvELu6a+g7S/Ajp9+rRaWlpUWVkZXTdixAhVVlaqubnZsDMbBw4cUCgU0sSJE3Xffffp4MGD1i2Z6ujoUGdnZ8z5EQgEVF5ePizPj8bGRhUUFGjy5Ml68MEHdfz4ceuWkiocDkuS8vLyJEktLS06c+ZMzPkwZcoUTZgwIaPPh28fh6+89tprys/P19SpU1VXV6eTJ09atHdeaTeM9Ns+//xznT17VoWFhTHrCwsL9emnnxp1ZaO8vFzr16/X5MmTdfToUT377LO6+eabtX//fmVnZ1u3Z6Kzs1OSBj0/vto2XMyfP1933XWXSktL1d7erieeeELV1dVqbm7WyJEjrdtLuP7+fq1cuVI33nijpk6dKmngfMjKylJubm7Mvpl8Pgx2HCTp3nvvVUlJiUKhkPbt26fHH39cra2tevvttw27jZX2AYSvVVdXR7+ePn26ysvLVVJSoj//+c9atmyZYWdIB3fffXf062nTpmn69OmaNGmSGhsbNXfuXMPOkqOmpkb79+8fFu+DXsj5jsPy5cujX0+bNk1FRUWaO3eu2tvbNWnSpFS3Oai0/xVcfn6+Ro4cec5dLF1dXQoGg0ZdpYfc3Fxdd911amtrs27FzFfnAOfHuSZOnKj8/PyMPD9WrFihd999V++//37Mx7cEg0GdPn1a3d3dMftn6vlwvuMwmPLycklKq/Mh7QMoKytLM2bMUENDQ3Rdf3+/GhoaVFFRYdiZvRMnTqi9vV1FRUXWrZgpLS1VMBiMOT8ikYh27tw57M+Pw4cP6/jx4xl1fjjntGLFCm3cuFHvvfeeSktLY7bPmDFDo0aNijkfWltbdfDgwYw6Hy52HAazd+9eSUqv88H6Lojv4o033nB+v9+tX7/effzxx2758uUuNzfXdXZ2WreWUo888ohrbGx0HR0d7h//+IerrKx0+fn57tixY9atJVVPT4/78MMP3YcffugkuRdeeMF9+OGH7r///a9zzrnnn3/e5ebmus2bN7t9+/a5O+64w5WWlrovv/zSuPPEutBx6OnpcY8++qhrbm52HR0dbtu2be5HP/qRu/baa92pU6esW0+YBx980AUCAdfY2OiOHj0aXU6ePBnd54EHHnATJkxw7733ntu9e7erqKhwFRUVhl0n3sWOQ1tbm3vuuefc7t27XUdHh9u8ebObOHGimz17tnHnsYZEADnn3O9//3s3YcIEl5WV5WbNmuV27Nhh3VLKLV682BUVFbmsrCx31VVXucWLF7u2tjbrtpLu/fffd5LOWZYsWeKcG7gV+6mnnnKFhYXO7/e7uXPnutbWVtumk+BCx+HkyZNu3rx5bty4cW7UqFGupKTE3X///Rn3P2mD/fsluXXr1kX3+fLLL93Pf/5z973vfc9dfvnl7s4773RHjx61azoJLnYcDh486GbPnu3y8vKc3+9311xzjfvlL3/pwuGwbePfwscxAABMpP17QACAzEQAAQBMEEAAABMEEADABAEEADBBAAEATBBAAAATBBAAwAQBBAAwQQABAEwQQAAAEwQQAMDE/wFaMA5Pfyb3xwAAAABJRU5ErkJggg==",
>>>>>>> 4e77793 (Got rid of initial notebook in favor of underscored name)
      "text/plain": [
       "<Figure size 640x480 with 1 Axes>"
      ]
     },
     "metadata": {},
     "output_type": "display_data"
    },
    {
     "name": "stdout",
     "output_type": "stream",
     "text": [
<<<<<<< HEAD
      "Classifier output: tensor([[ -7.9862, -12.8659,  -0.3887,  -0.5868, -20.5802,  -9.2470, -25.0677,\n",
      "           5.4034,  -6.7708,  -4.9613]])\n",
=======
      "Classifier output: tensor([[-12.7750,  -9.0838,  -6.0284,  -5.3377,  -9.7191, -11.3401, -22.6542,\n",
      "          -0.0626,  -8.2077,  -5.3953]])\n",
>>>>>>> 4e77793 (Got rid of initial notebook in favor of underscored name)
      "Classifier prediction: 7\n"
     ]
    }
   ],
   "source": [
    "# We are using the same sample input x as before.\n",
    "x.requires_grad = True\n",
    "x_prime = FGSM(x, labels, net, eps)\n",
    "imshow(x_prime[0,0].cpu())\n",
    "out = net(x_prime)\n",
    "\n",
    "print('Classifier output:', out.data)\n",
    "print('Classifier prediction:', torch.argmax(out).item())"
   ]
  },
  {
   "cell_type": "markdown",
   "id": "83e3de7e",
   "metadata": {},
   "source": [
    "From original assignment:\n",
    "We should evaluate the classifier's performance on FGSM-perturbed data by the same metric that we will later use in the primal adversarial problem. That is, for the classifier's output vector $\\vec{\\hat{z}}_3$, we want to compute\n",
    "$$\n",
    "\\vec{c}_j^\\top \\vec{\\hat{z}}_3\n",
    "$$\n",
    "where\n",
    "$$\\vec{c}_j={\\vec{y}_{\\text{true}}}-\\vec{e}_{j}$$\n",
    "for each $j\\in[10]$.\n",
    "\n",
    "Recall that \n",
    "$$\\vec{c}_j^\\top \\vec{\\hat{z}}_3=\\vec{\\hat{z}}_{3i_{\\text{true}}}-\\vec{\\hat{z}}_{3j},$$\n",
    "i.e. $\\vec{c}_j^\\top \\vec{\\hat{z}}_3$ is the difference between the classifier's confidence on the true class and the $j$th (incorrect) class. If $\\vec{c}_j^\\top \\vec{\\hat{z}}_3$ is positive for all incorrect $j$, then the classifier was not fooled by the adversarial perturbation."
   ]
  },
  {
   "cell_type": "code",
<<<<<<< HEAD
   "execution_count": 19,
=======
   "execution_count": 25,
>>>>>>> 4e77793 (Got rid of initial notebook in favor of underscored name)
   "id": "14e89790",
   "metadata": {},
   "outputs": [
    {
     "name": "stdout",
     "output_type": "stream",
     "text": [
<<<<<<< HEAD
      "0 13.389642715454102\n",
      "1 18.26932144165039\n",
      "2 5.792145252227783\n",
      "3 5.990193843841553\n",
      "4 25.983566284179688\n",
      "5 14.650418281555176\n",
      "6 30.4710693359375\n",
      "8 12.17419147491455\n",
      "9 10.364696502685547\n"
=======
      "0 12.712385177612305\n",
      "1 9.021232604980469\n",
      "2 5.965825080871582\n",
      "3 5.275109767913818\n",
      "4 9.656526565551758\n",
      "5 11.277496337890625\n",
      "6 22.591657638549805\n",
      "8 8.145132064819336\n",
      "9 5.332682132720947\n"
>>>>>>> 4e77793 (Got rid of initial notebook in favor of underscored name)
     ]
    }
   ],
   "source": [
    "for i in range(10):\n",
    "    c = torch.zeros(10, 1).to(device)\n",
    "    if i != labels:\n",
    "        c[i] = -1\n",
    "        c[labels] = 1\n",
    "        print(i, (out @ c).item())"
   ]
  },
  {
   "cell_type": "code",
   "execution_count": 26,
   "id": "988e339c",
   "metadata": {},
   "outputs": [],
   "source": [
    "def accuracy_on_FGSM(net, testloader, eps):\n",
    "    '''\n",
    "    Returns the accuracy of classifier NET on test\n",
    "    data from TESTLOADER that has been perturbed by\n",
    "    EPS using FSGM.\n",
    "    '''\n",
    "    correct = 0\n",
    "    total = 0\n",
    "    for data in testloader:\n",
    "        x, labels = data[0].to(device), data[1].to(device)\n",
    "        x_prime = FGSM(x, labels, net, eps)\n",
    "        outputs = net(x_prime)\n",
    "        _, predicted = torch.max(outputs.data, 1)\n",
    "        total += labels.size(0)\n",
    "        correct += (predicted == labels).sum().item()\n",
    "\n",
    "    return correct / total"
   ]
  },
  {
   "cell_type": "code",
   "execution_count": 27,
   "id": "c224a172",
   "metadata": {},
   "outputs": [
    {
     "name": "stdout",
     "output_type": "stream",
     "text": [
      "Classifier accuracy on test dataset perturbed with FGSM: 0.8731\n"
     ]
    }
   ],
   "source": [
    "print('Classifier accuracy on test dataset perturbed with FGSM:', accuracy_on_FGSM(net, testloader, eps))"
   ]
  },
  {
   "cell_type": "markdown",
   "id": "f58d6284",
   "metadata": {},
   "source": [
    "# Dual Network"
   ]
  },
  {
   "cell_type": "markdown",
   "id": "2578abfa",
   "metadata": {},
   "source": [
    "From original assignment: $\\newline$\n",
    "Here, we will implement the dual network. First, we write the function to compute upper and lower bounds for the dual network. This function should take an input image, the trained classifier, and an epsilon value, and return the tuple\n",
    "$$(\\vec{l},\\vec{u},S,S^-,S^+)$$\n",
    "where $\\vec{u}$ and $\\vec{l}$ are the upper and lower bounds, respectively, for the input to the ReLU layer, and $S^-,S^+,S$ are sets defined by\n",
    "\n",
    "$$\n",
    "\\begin{aligned}\n",
    "&S:=\\{j\\in [n_2]\\mid l_{j}\\leq 0\\leq u_{j}\\}\\\\\n",
    "&S^{-}:=\\{j\\in [n_2]\\mid l_{j}\\leq u_{j}\\leq 0\\}\\\\\n",
    "&S^{+}:=\\{j\\in [n_2]\\mid 0\\leq l_{j}\\leq u_{j}\\}.\n",
    "\\end{aligned}\n",
    "$$\n",
    "\n",
    "See Section 6 of the PDF for more details."
   ]
  },
  {
   "cell_type": "code",
   "execution_count": 22,
   "id": "f3a885eb",
   "metadata": {},
   "outputs": [],
   "source": [
    "def dual_bounds(x, net, eps):\n",
    "    '''\n",
    "    Given a classifier NET, an input image X,\n",
    "    and the epsilon parameter EPS, returns the lower\n",
    "    and upper bounds L and U respectively, as well as\n",
    "    the corresponding sets S, S_MIN, S_PLUS.\n",
    "    '''\n",
    "    x = x[0].reshape(-1, 1)    # Reshape input to more convenient dimensions\n",
    "    W = [layer.weight for layer in net.layers]    # Array of network weights (W matrices)\n",
    "    b = [layer.bias.reshape(-1, 1) for layer in net.layers]    # Array of network biases (b vectors)\n",
    "    n = W[1].shape[1]    # Dimensionality of hidden layer\n",
    "    # print(W[0])\n",
    "    # W_norm = torch.linalg.matrix_norm(torch.stack(W), ord=1)\n",
    "    U = []\n",
    "    L = []\n",
    "    S = []\n",
    "    S_plus = []\n",
    "    S_min = []\n",
    "\n",
    "    for j in range(0, net.depth - 2):\n",
    "        u = (W[j] @ x + b[j] + torch.Tensor([eps * torch.norm(W[j][i], 1) for i in range(0, n)]))[0]\n",
    "        l = (W[j] @ x + b[j] - torch.Tensor([eps * torch.norm(W[j][i], 1) for i in range(0, n)]))[0]\n",
    "        U.append(u)\n",
    "        L.append(l)\n",
    "\n",
    "        s = [i for i in range(0, n) if l[i] <= 0 and u[i] >= 0]\n",
    "        s_plus = [i for i in range(0, n) if l[i] <= u[i] and l[i] >= 0]\n",
    "        s_min = [i for i in range(0, n) if u[i] <= 0 and u[i] >= l[i]]\n",
    "        S.append(s)\n",
    "        S_plus.append(s_plus)\n",
    "        S_min.append(s_min)\n",
    "\n",
    "\n",
    "    return U, L, S, S_min, S_plus"
   ]
  },
  {
   "cell_type": "markdown",
   "id": "53882d78",
   "metadata": {},
   "source": [
    "From original assignment: $\\newline$\n",
    "Given the tuple $(l,u,S,S^-,S^+)$, we are ready to calculate the dual objective itself. This function should take in an input image, the classifier, a vector $c$, and the $(l,u,S,S^-,S^+)$ from the previous function in order to output \n",
    "$$\n",
    "d^*(\\vec{x},\\vec{c})= \n",
    "-\\vec{\\hat{\\nu}}_1^\\top \\vec{x}-\\varepsilon\\|\\vec{\\hat{\\nu}}_1\\|_1-\\sum_{i=1}^{2}\\vec{\\nu}_{i+1}^\\top \\vec{b}_i+\\sum_{j\\in S\\\n",
    "}l_{j}\\text{ReLU}(\\nu_{2j})\n",
    "$$\n",
    "\n",
    "Where the $\\vec{\\nu}$ vectors are computed as\n",
    "$$\n",
    "\\begin{aligned}\n",
    "&\\vec{\\nu}_3=-\\vec{c}\\\\\n",
    "&\\vec{\\hat{\\nu}}_2=W_2^\\top \\vec{\\nu}_{3}\\\\\n",
    "&\\nu_{2j}=0 && \\forall j\\in S^-\\\\\n",
    "&\\nu_{2j}=\\hat{\\nu}_{2j} && \\forall j\\in S^+\\\\\n",
    "&\\nu_{2j}=\\dfrac{u_{j}}{u_{j}-l_{j}}\\hat{\\nu}_{2j} && \\forall j\\in S\\\\\n",
    "&\\vec{\\hat{\\nu}}_1=W_1^\\top \\vec{\\nu_{2}}\n",
    "&\\end{aligned}.\n",
    "$$\n",
    "\n",
    "Again, see Section 6 of the PDF for more details.\n",
    "\n",
    "One efficient way to compute $\\vec{\\nu}_2$ is to rewrite it as\n",
    "$$\\vec{\\nu}_2= D\\vec{\\hat{\\nu}}_2,$$\n",
    "where $D$ is a diagonal matrix defined  by\n",
    "$$\n",
    "D_{jj}=\\begin{cases}\n",
    "0 & j\\in S^-\\\\\n",
    "\\hat{\\nu}_{2j} & j\\in S^+\\\\\n",
    "\\dfrac{u_{j}}{u_{j}-l_{j}}\\hat{\\nu}_{2j} & j\\in S.\n",
    "\\end{cases}\n",
    "$$"
   ]
  },
  {
   "cell_type": "code",
   "execution_count": 30,
   "id": "7fbd7687",
   "metadata": {},
   "outputs": [],
   "source": [
    "# Constructs the diagonal D matrix from the S sets, n (the dimensionality\n",
    "# of the hidden layer), u, and l.\n",
    "def StoD(S_min, S_plus, S, n, U, L):\n",
    "    '''\n",
    "    Given upper and lower bounds U and L, as well\n",
    "    as the corresponding sets S_MIN, S_PLUS, and S,\n",
    "    as well as the dimension of the hidden layer N,\n",
    "    returns the corresponding diagonal matrix D.\n",
    "    '''\n",
    "    D = []\n",
    "    for i in range(0, net.depth - 2):\n",
    "        d = []\n",
    "        for j in range(n):\n",
    "            if j in S[i]:\n",
    "                d.append((U[i][j] / (U[i][j] - L[i][j])).item())\n",
    "            elif j in S_plus[i]:\n",
    "                d.append(1)\n",
    "            elif j in S_min[i]:\n",
    "                d.append(0)\n",
    "            else:\n",
    "                assert False, 'StoD error.'\n",
    "        D.append(torch.diag(torch.Tensor(d)).to(device))\n",
    "    return D\n",
    "\n",
    "def dual_forward(x, net, c, eps, L, U, S, S_min, S_plus):\n",
    "    '''\n",
    "    Calculates the dual objective for classifier NET with input X\n",
    "    and dual input C and epsilon parameter S. Depends on lower\n",
    "    and upper bounds L and U, as well as the corresponding sets\n",
    "    S, S_MIN, S_PLUS.\n",
    "    '''\n",
    "    x = x[0].reshape(-1, 1)    # Reshape input to more convenient dimensions\n",
    "    W = [layer.weight for layer in net.layers]    # Array of network weights (W matrices)\n",
    "    b = [layer.bias.reshape(-1, 1) for layer in net.layers]    # Array of network biases (b vectors)\n",
    "    n = W[1].shape[1]    # Dimensionality of hidden layer\n",
    "    D = StoD(S_min, S_plus, S, n, U, L)\n",
    "    # TODO: Your code here!\n",
    "    # nu3 = -c\n",
    "    # nuh2 = W[1].T @ nu3\n",
    "    # nu2 = D @ nuh2\n",
    "    # nuh1 = W[0].T @ nu2\n",
    "\n",
    "    # dual = -1 * (nuh1.T @ x) - eps * (torch.norm(nuh1, 1)) - (nu2.T @ b[0]) - (nu3.T @ b[1]) + l.T @ torch.relu(nu2)\n",
    "\n",
    "    nu = []\n",
    "    nuh = []\n",
    "    for i in range(0, net.depth - 1):\n",
    "        if i == 0:\n",
    "            nu.append(-c)\n",
    "        else:\n",
    "            nu.append(D[i - 1] @ nuh[i - 1])\n",
    "        nuh.append(W[net.depth - 2 - i].T @ nu[i])\n",
    "    \n",
    "    dual = -1 * (nuh[0].T @ x) - eps * (torch.norm(nuh[0], 1)) \n",
    "\n",
    "    for i in range(0, net.depth - 1):\n",
    "        dual -= nu[i].T @ b[i]\n",
    "        if i != 0 and i != net.depth - 2:\n",
    "            dual += L[i - 1].T @ torch.relu(nu[i])\n",
    "\n",
    "    return dual"
   ]
  },
  {
   "cell_type": "code",
   "execution_count": 31,
   "id": "a770ada9",
   "metadata": {},
   "outputs": [],
   "source": [
    "eps = 0.05"
   ]
  },
  {
   "cell_type": "code",
   "execution_count": 32,
   "id": "09899893",
   "metadata": {},
   "outputs": [
    {
     "ename": "RuntimeError",
     "evalue": "mat1 and mat2 shapes cannot be multiplied (1x256 and 784x1)",
     "output_type": "error",
     "traceback": [
      "\u001b[0;31m---------------------------------------------------------------------------\u001b[0m",
      "\u001b[0;31mRuntimeError\u001b[0m                              Traceback (most recent call last)",
      "Cell \u001b[0;32mIn[32], line 12\u001b[0m\n\u001b[1;32m     10\u001b[0m c[i] \u001b[38;5;241m=\u001b[39m \u001b[38;5;241m-\u001b[39m\u001b[38;5;241m1\u001b[39m\n\u001b[1;32m     11\u001b[0m c[labels] \u001b[38;5;241m=\u001b[39m \u001b[38;5;241m1\u001b[39m\n\u001b[0;32m---> 12\u001b[0m \u001b[38;5;28mprint\u001b[39m(i, \u001b[43mdual_forward\u001b[49m\u001b[43m(\u001b[49m\u001b[43mx\u001b[49m\u001b[43m,\u001b[49m\u001b[43m \u001b[49m\u001b[43mnet\u001b[49m\u001b[43m,\u001b[49m\u001b[43m \u001b[49m\u001b[43mc\u001b[49m\u001b[43m,\u001b[49m\u001b[43m \u001b[49m\u001b[38;5;241;43m0.1\u001b[39;49m\u001b[43m,\u001b[49m\u001b[43m \u001b[49m\u001b[43mL\u001b[49m\u001b[43m,\u001b[49m\u001b[43m \u001b[49m\u001b[43mU\u001b[49m\u001b[43m,\u001b[49m\u001b[43m \u001b[49m\u001b[43mS\u001b[49m\u001b[43m,\u001b[49m\u001b[43m \u001b[49m\u001b[43mS_min\u001b[49m\u001b[43m,\u001b[49m\u001b[43m \u001b[49m\u001b[43mS_plus\u001b[49m\u001b[43m)\u001b[49m\u001b[38;5;241m.\u001b[39mitem())\n",
      "Cell \u001b[0;32mIn[30], line 54\u001b[0m, in \u001b[0;36mdual_forward\u001b[0;34m(x, net, c, eps, L, U, S, S_min, S_plus)\u001b[0m\n\u001b[1;32m     51\u001b[0m         nu\u001b[38;5;241m.\u001b[39mappend(D[i \u001b[38;5;241m-\u001b[39m \u001b[38;5;241m1\u001b[39m] \u001b[38;5;241m@\u001b[39m nuh[i \u001b[38;5;241m-\u001b[39m \u001b[38;5;241m1\u001b[39m])\n\u001b[1;32m     52\u001b[0m     nuh\u001b[38;5;241m.\u001b[39mappend(W[net\u001b[38;5;241m.\u001b[39mdepth \u001b[38;5;241m-\u001b[39m \u001b[38;5;241m2\u001b[39m \u001b[38;5;241m-\u001b[39m i]\u001b[38;5;241m.\u001b[39mT \u001b[38;5;241m@\u001b[39m nu[i])\n\u001b[0;32m---> 54\u001b[0m dual \u001b[38;5;241m=\u001b[39m \u001b[38;5;241m-\u001b[39m\u001b[38;5;241m1\u001b[39m \u001b[38;5;241m*\u001b[39m (\u001b[43mnuh\u001b[49m\u001b[43m[\u001b[49m\u001b[38;5;241;43m0\u001b[39;49m\u001b[43m]\u001b[49m\u001b[38;5;241;43m.\u001b[39;49m\u001b[43mT\u001b[49m\u001b[43m \u001b[49m\u001b[38;5;241;43m@\u001b[39;49m\u001b[43m \u001b[49m\u001b[43mx\u001b[49m) \u001b[38;5;241m-\u001b[39m eps \u001b[38;5;241m*\u001b[39m (torch\u001b[38;5;241m.\u001b[39mnorm(nuh[\u001b[38;5;241m0\u001b[39m], \u001b[38;5;241m1\u001b[39m)) \n\u001b[1;32m     56\u001b[0m \u001b[38;5;28;01mfor\u001b[39;00m i \u001b[38;5;129;01min\u001b[39;00m \u001b[38;5;28mrange\u001b[39m(\u001b[38;5;241m0\u001b[39m, net\u001b[38;5;241m.\u001b[39mdepth \u001b[38;5;241m-\u001b[39m \u001b[38;5;241m1\u001b[39m):\n\u001b[1;32m     57\u001b[0m     dual \u001b[38;5;241m-\u001b[39m\u001b[38;5;241m=\u001b[39m nu[i]\u001b[38;5;241m.\u001b[39mT \u001b[38;5;241m@\u001b[39m b[i]\n",
      "\u001b[0;31mRuntimeError\u001b[0m: mat1 and mat2 shapes cannot be multiplied (1x256 and 784x1)"
     ]
    }
   ],
   "source": [
    "# We are still using the same sample input x as before.\n",
    "L, U, S, S_min, S_plus = dual_bounds(x, net, eps)\n",
    "\n",
    "# print(l, u, S, S_min, S_plus)\n",
    "# Here, we loop through each column c_j defined above, and output the \n",
    "# objective value for the dual function with input c.\n",
    "for i in range(10):\n",
    "    c = torch.zeros(10, 1).to(device)\n",
    "    if i != labels:\n",
    "        c[i] = -1\n",
    "        c[labels] = 1\n",
    "        print(i, dual_forward(x, net, c, 0.1, L, U, S, S_min, S_plus).item())"
   ]
  },
  {
   "cell_type": "code",
   "execution_count": null,
   "id": "16b801c2",
   "metadata": {},
   "outputs": [],
   "source": []
  }
 ],
 "metadata": {
  "kernelspec": {
   "display_name": "Python 3.10.6 64-bit",
   "language": "python",
   "name": "python3"
  },
  "language_info": {
   "codemirror_mode": {
    "name": "ipython",
    "version": 3
   },
   "file_extension": ".py",
   "mimetype": "text/x-python",
   "name": "python",
   "nbconvert_exporter": "python",
   "pygments_lexer": "ipython3",
   "version": "3.9.6"
  },
  "vscode": {
   "interpreter": {
    "hash": "916dbcbb3f70747c44a77c7bcd40155683ae19c65e1c03b4aa3499c5328201f1"
   }
  }
 },
 "nbformat": 4,
 "nbformat_minor": 5
}
