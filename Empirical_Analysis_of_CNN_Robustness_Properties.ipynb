{
 "cells": [
  {
   "cell_type": "code",
   "execution_count": 53,
   "id": "661cde4e",
   "metadata": {},
   "outputs": [
    {
     "name": "stdout",
     "output_type": "stream",
     "text": [
      "Requirement already satisfied: torch in /Library/Frameworks/Python.framework/Versions/3.9/lib/python3.9/site-packages (2.0.0)\n",
      "Requirement already satisfied: filelock in /Library/Frameworks/Python.framework/Versions/3.9/lib/python3.9/site-packages (from torch) (3.12.0)\n",
      "Requirement already satisfied: sympy in /Library/Frameworks/Python.framework/Versions/3.9/lib/python3.9/site-packages (from torch) (1.11.1)\n",
      "Requirement already satisfied: jinja2 in /Users/patrickbales/Library/Python/3.9/lib/python/site-packages (from torch) (3.1.2)\n",
      "Requirement already satisfied: networkx in /Library/Frameworks/Python.framework/Versions/3.9/lib/python3.9/site-packages (from torch) (3.1)\n",
      "Requirement already satisfied: typing-extensions in /Library/Frameworks/Python.framework/Versions/3.9/lib/python3.9/site-packages (from torch) (4.5.0)\n",
      "Requirement already satisfied: MarkupSafe>=2.0 in /Users/patrickbales/Library/Python/3.9/lib/python/site-packages (from jinja2->torch) (2.1.1)\n",
      "Requirement already satisfied: mpmath>=0.19 in /Library/Frameworks/Python.framework/Versions/3.9/lib/python3.9/site-packages (from sympy->torch) (1.3.0)\n",
      "\u001b[33mWARNING: You are using pip version 21.1.3; however, version 23.1.2 is available.\n",
      "You should consider upgrading via the '/usr/local/bin/python3 -m pip install --upgrade pip' command.\u001b[0m\n",
      "Requirement already satisfied: torchvision in /Library/Frameworks/Python.framework/Versions/3.9/lib/python3.9/site-packages (0.15.1)\n",
      "Requirement already satisfied: requests in /Library/Frameworks/Python.framework/Versions/3.9/lib/python3.9/site-packages (from torchvision) (2.29.0)\n",
      "Requirement already satisfied: numpy in /Library/Frameworks/Python.framework/Versions/3.9/lib/python3.9/site-packages (from torchvision) (1.24.3)\n",
      "Requirement already satisfied: torch==2.0.0 in /Library/Frameworks/Python.framework/Versions/3.9/lib/python3.9/site-packages (from torchvision) (2.0.0)\n",
      "Requirement already satisfied: pillow!=8.3.*,>=5.3.0 in /Library/Frameworks/Python.framework/Versions/3.9/lib/python3.9/site-packages (from torchvision) (9.5.0)\n",
      "Requirement already satisfied: networkx in /Library/Frameworks/Python.framework/Versions/3.9/lib/python3.9/site-packages (from torch==2.0.0->torchvision) (3.1)\n",
      "Requirement already satisfied: filelock in /Library/Frameworks/Python.framework/Versions/3.9/lib/python3.9/site-packages (from torch==2.0.0->torchvision) (3.12.0)\n",
      "Requirement already satisfied: typing-extensions in /Library/Frameworks/Python.framework/Versions/3.9/lib/python3.9/site-packages (from torch==2.0.0->torchvision) (4.5.0)\n",
      "Requirement already satisfied: sympy in /Library/Frameworks/Python.framework/Versions/3.9/lib/python3.9/site-packages (from torch==2.0.0->torchvision) (1.11.1)\n",
      "Requirement already satisfied: jinja2 in /Users/patrickbales/Library/Python/3.9/lib/python/site-packages (from torch==2.0.0->torchvision) (3.1.2)\n",
      "Requirement already satisfied: MarkupSafe>=2.0 in /Users/patrickbales/Library/Python/3.9/lib/python/site-packages (from jinja2->torch==2.0.0->torchvision) (2.1.1)\n",
      "Requirement already satisfied: certifi>=2017.4.17 in /Library/Frameworks/Python.framework/Versions/3.9/lib/python3.9/site-packages (from requests->torchvision) (2022.12.7)\n",
      "Requirement already satisfied: urllib3<1.27,>=1.21.1 in /Library/Frameworks/Python.framework/Versions/3.9/lib/python3.9/site-packages (from requests->torchvision) (1.26.15)\n",
      "Requirement already satisfied: charset-normalizer<4,>=2 in /Library/Frameworks/Python.framework/Versions/3.9/lib/python3.9/site-packages (from requests->torchvision) (3.1.0)\n",
      "Requirement already satisfied: idna<4,>=2.5 in /Users/patrickbales/Library/Python/3.9/lib/python/site-packages (from requests->torchvision) (3.4)\n",
      "Requirement already satisfied: mpmath>=0.19 in /Library/Frameworks/Python.framework/Versions/3.9/lib/python3.9/site-packages (from sympy->torch==2.0.0->torchvision) (1.3.0)\n",
      "\u001b[33mWARNING: You are using pip version 21.1.3; however, version 23.1.2 is available.\n",
      "You should consider upgrading via the '/usr/local/bin/python3 -m pip install --upgrade pip' command.\u001b[0m\n",
      "Requirement already satisfied: numpy in /Library/Frameworks/Python.framework/Versions/3.9/lib/python3.9/site-packages (1.24.3)\n",
      "\u001b[33mWARNING: You are using pip version 21.1.3; however, version 23.1.2 is available.\n",
      "You should consider upgrading via the '/usr/local/bin/python3 -m pip install --upgrade pip' command.\u001b[0m\n",
      "Requirement already satisfied: matplotlib in /Library/Frameworks/Python.framework/Versions/3.9/lib/python3.9/site-packages (3.7.1)\n",
      "Requirement already satisfied: python-dateutil>=2.7 in /Users/patrickbales/Library/Python/3.9/lib/python/site-packages (from matplotlib) (2.8.2)\n",
      "Requirement already satisfied: packaging>=20.0 in /Users/patrickbales/Library/Python/3.9/lib/python/site-packages (from matplotlib) (21.3)\n",
      "Requirement already satisfied: numpy>=1.20 in /Library/Frameworks/Python.framework/Versions/3.9/lib/python3.9/site-packages (from matplotlib) (1.24.3)\n",
      "Requirement already satisfied: pyparsing>=2.3.1 in /Users/patrickbales/Library/Python/3.9/lib/python/site-packages (from matplotlib) (3.0.9)\n",
      "Requirement already satisfied: cycler>=0.10 in /Library/Frameworks/Python.framework/Versions/3.9/lib/python3.9/site-packages (from matplotlib) (0.11.0)\n",
      "Requirement already satisfied: fonttools>=4.22.0 in /Library/Frameworks/Python.framework/Versions/3.9/lib/python3.9/site-packages (from matplotlib) (4.39.3)\n",
      "Requirement already satisfied: pillow>=6.2.0 in /Library/Frameworks/Python.framework/Versions/3.9/lib/python3.9/site-packages (from matplotlib) (9.5.0)\n",
      "Requirement already satisfied: importlib-resources>=3.2.0 in /Library/Frameworks/Python.framework/Versions/3.9/lib/python3.9/site-packages (from matplotlib) (5.12.0)\n",
      "Requirement already satisfied: contourpy>=1.0.1 in /Library/Frameworks/Python.framework/Versions/3.9/lib/python3.9/site-packages (from matplotlib) (1.0.7)\n",
      "Requirement already satisfied: kiwisolver>=1.0.1 in /Library/Frameworks/Python.framework/Versions/3.9/lib/python3.9/site-packages (from matplotlib) (1.4.4)\n",
      "Requirement already satisfied: zipp>=3.1.0 in /Users/patrickbales/Library/Python/3.9/lib/python/site-packages (from importlib-resources>=3.2.0->matplotlib) (3.10.0)\n",
      "Requirement already satisfied: six>=1.5 in /Users/patrickbales/Library/Python/3.9/lib/python/site-packages (from python-dateutil>=2.7->matplotlib) (1.16.0)\n",
      "\u001b[33mWARNING: You are using pip version 21.1.3; however, version 23.1.2 is available.\n",
      "You should consider upgrading via the '/usr/local/bin/python3 -m pip install --upgrade pip' command.\u001b[0m\n"
     ]
    }
   ],
   "source": [
    "import sys\n",
    "!{sys.executable} -m pip install torch\n",
    "!{sys.executable} -m pip install torchvision\n",
    "!{sys.executable} -m pip install numpy\n",
    "!{sys.executable} -m pip install matplotlib\n",
    "import numpy as np\n",
    "import matplotlib.pyplot as plt\n",
    "import torch\n",
    "import torchvision\n",
    "import torchvision.transforms as transforms\n",
    "import torch.nn as nn\n",
    "import torch.nn.functional as F\n",
    "import torch.optim as optim\n",
    "\n",
    "import copy\n",
    "\n",
    "#import warnings\n",
    "#warnings.filterwarnings('ignore')"
   ]
  },
  {
   "attachments": {},
   "cell_type": "markdown",
   "id": "2f796aee",
   "metadata": {},
   "source": [
    "Detect if GPU available, otherwise use CPU"
   ]
  },
  {
   "cell_type": "code",
   "execution_count": 54,
   "id": "2f282b10",
   "metadata": {},
   "outputs": [
    {
     "name": "stdout",
     "output_type": "stream",
     "text": [
      "cpu\n"
     ]
    }
   ],
   "source": [
    "# device = torch.device(\"cuda:0\" if torch.cuda.is_available() else \"cpu\")\n",
    "device = torch.device(\"cpu\")\n",
    "print(device)"
   ]
  },
  {
   "attachments": {},
   "cell_type": "markdown",
   "id": "bab4c9a3",
   "metadata": {},
   "source": [
    "Load MNIST dataset of $28 \\times 28$ images. Training does NOT use the test set."
   ]
  },
  {
   "cell_type": "code",
   "execution_count": 55,
   "id": "051e4c87",
   "metadata": {},
   "outputs": [],
   "source": [
    "transform = transforms.Compose(\n",
    "    [transforms.ToTensor(),\n",
    "     transforms.Normalize((0.5,), (0.5,))])\n",
    "\n",
    "trainset = torchvision.datasets.MNIST(root='../data', train=True, download=True, transform=transform)\n",
    "\n",
    "trainloader = torch.utils.data.DataLoader(trainset, batch_size=4,\n",
    "                                          shuffle=True, num_workers=2)\n",
    "\n",
    "testset = torchvision.datasets.MNIST(root='../data', train=False,\n",
    "                                       download=True, transform=transform)\n",
    "\n",
    "testloader = torch.utils.data.DataLoader(testset, batch_size=4,\n",
    "                                         shuffle=False, num_workers=2)"
   ]
  },
  {
   "cell_type": "code",
   "execution_count": 56,
   "id": "87eea90d",
   "metadata": {},
   "outputs": [],
   "source": [
    "def imshow(img):\n",
    "    '''\n",
    "    Visualizes IMG.\n",
    "    IMG should be a 2D torch Tensor.\n",
    "    '''\n",
    "    img = img / 2 + 0.5     # unnormalize\n",
    "    npimg = img.detach().numpy()\n",
    "    plt.imshow(npimg, cmap='gray')\n",
    "    plt.show()"
   ]
  },
  {
   "attachments": {},
   "cell_type": "markdown",
   "metadata": {
    "colab": {},
    "colab_type": "code",
    "id": "y3oepvCSLyfi"
   },
   "source": [
    "# Primal Network"
   ]
  },
  {
   "attachments": {},
   "cell_type": "markdown",
   "id": "98adced1",
   "metadata": {},
   "source": [
    "This is the definition of the neural classifier for a custom number of layers (depth) and width. The first layer still has $28 \\times 28$ features, and the output layer still has ten output classes (0-9)."
   ]
  },
  {
   "cell_type": "code",
   "execution_count": 57,
   "id": "9cb6c3c2",
   "metadata": {},
   "outputs": [],
   "source": [
    "class Net(nn.Module):\n",
    "  \n",
    "  #Constructor with default NN width = 256 and default NN depth = 3\n",
    "  def __init__(self, width=256, depth=3):\n",
    "    super().__init__()\n",
    "    self.layers = nn.ModuleList()\n",
    "    self.width = width\n",
    "    self.depth = depth\n",
    "    for w in range(0, depth - 1):\n",
    "      if w == 0:\n",
    "        self.layers.append(nn.Linear(in_features = 28*28, out_features = width))\n",
    "      elif w == depth - 2:\n",
    "        self.layers.append(nn.Linear(in_features = width, out_features = 10))   \n",
    "      else:\n",
    "        self.layers.append(nn.Linear(in_features = width, out_features = width))\n",
    "  \n",
    "  def forward(self, t):\n",
    "    '''\n",
    "    On input T, performs a affine transformation, then\n",
    "    a ReLU, then another affine transformation.\n",
    "    '''\n",
    "    self.z = []\n",
    "    \n",
    "    t = t.reshape(-1, 28*28)\n",
    "    for i in range(0, self.depth - 1):\n",
    "      t = self.layers[i](t)\n",
    "      self.z.append(t)\n",
    "      if i != self.depth - 2:\n",
    "        t = F.relu(t)\n",
    "    return t\n",
    "  "
   ]
  },
  {
   "attachments": {},
   "cell_type": "markdown",
   "id": "62d149ab",
   "metadata": {},
   "source": [
    "Provided training code using Adam."
   ]
  },
  {
   "cell_type": "code",
   "execution_count": 58,
   "id": "8e70c44e",
   "metadata": {},
   "outputs": [],
   "source": [
    "def train(net, criterion, trainloader, lr=0.001):\n",
    "    '''\n",
    "    Uses the Adam optimization algorithm to train \n",
    "    the classifier NET on training data from TRAINLOADER,\n",
    "    on loss function CRITERION, with learning rate LR.\n",
    "    \n",
    "    Note that we half the learning rate each epoch.\n",
    "    '''\n",
    "    optimizer = optim.Adam(net.parameters(), lr=lr)\n",
    "    \n",
    "    for epoch in range(3):\n",
    "        for i, data in enumerate(trainloader, 0):\n",
    "            for param_group in optimizer.param_groups:\n",
    "                param_group['lr'] = lr * 0.5 ** (epoch)\n",
    "\n",
    "            inputs, labels = data[0].to(device), data[1].to(device)\n",
    "            optimizer.zero_grad()\n",
    "            outputs = net(inputs)\n",
    "            loss = criterion(outputs, labels)\n",
    "            loss.backward()\n",
    "            optimizer.step()\n",
    "    \n",
    "            if i % 500 == 0:\n",
    "                print('Epoch', epoch, 'Iter:', i, 'Loss', loss.item())"
   ]
  },
  {
   "attachments": {},
   "cell_type": "markdown",
   "id": "e43d9cc3",
   "metadata": {},
   "source": [
    "Train the network using cross entropy loss. Note that this is equivalent to maximizing the KL-divergence."
   ]
  },
  {
   "cell_type": "code",
   "execution_count": 59,
   "id": "ea0df5c7",
   "metadata": {},
   "outputs": [
    {
     "name": "stdout",
     "output_type": "stream",
     "text": [
      "Epoch 0 Iter: 0 Loss 2.502608299255371\n",
      "Epoch 0 Iter: 500 Loss 0.07966722548007965\n",
      "Epoch 0 Iter: 1000 Loss 0.9743422269821167\n",
      "Epoch 0 Iter: 1500 Loss 0.02243562415242195\n",
      "Epoch 0 Iter: 2000 Loss 0.4867195188999176\n",
      "Epoch 0 Iter: 2500 Loss 0.350511372089386\n",
      "Epoch 0 Iter: 3000 Loss 0.007807440590113401\n",
      "Epoch 0 Iter: 3500 Loss 0.3324016332626343\n",
      "Epoch 0 Iter: 4000 Loss 0.05015603080391884\n",
      "Epoch 0 Iter: 4500 Loss 0.004775994457304478\n",
      "Epoch 0 Iter: 5000 Loss 0.21036922931671143\n",
      "Epoch 0 Iter: 5500 Loss 0.0537693090736866\n",
      "Epoch 0 Iter: 6000 Loss 0.10740910470485687\n",
      "Epoch 0 Iter: 6500 Loss 0.15155261754989624\n",
      "Epoch 0 Iter: 7000 Loss 0.3481142222881317\n",
      "Epoch 0 Iter: 7500 Loss 0.14592552185058594\n",
      "Epoch 0 Iter: 8000 Loss 0.005882141645997763\n",
      "Epoch 0 Iter: 8500 Loss 0.047482140362262726\n",
      "Epoch 0 Iter: 9000 Loss 1.1869630813598633\n",
      "Epoch 0 Iter: 9500 Loss 0.2239532619714737\n",
      "Epoch 0 Iter: 10000 Loss 0.08213788270950317\n",
      "Epoch 0 Iter: 10500 Loss 0.07336251437664032\n",
      "Epoch 0 Iter: 11000 Loss 0.0069764116778969765\n",
      "Epoch 0 Iter: 11500 Loss 0.0024584061466157436\n",
      "Epoch 0 Iter: 12000 Loss 0.10340379178524017\n",
      "Epoch 0 Iter: 12500 Loss 0.0028257928788661957\n",
      "Epoch 0 Iter: 13000 Loss 0.004159468226134777\n",
      "Epoch 0 Iter: 13500 Loss 0.25934940576553345\n",
      "Epoch 0 Iter: 14000 Loss 0.0026548709720373154\n",
      "Epoch 0 Iter: 14500 Loss 0.13660480082035065\n",
      "Epoch 1 Iter: 0 Loss 0.001114727114327252\n",
      "Epoch 1 Iter: 500 Loss 0.005450833588838577\n",
      "Epoch 1 Iter: 1000 Loss 0.006172940135002136\n",
      "Epoch 1 Iter: 1500 Loss 0.0013230721233412623\n",
      "Epoch 1 Iter: 2000 Loss 0.00397106446325779\n",
      "Epoch 1 Iter: 2500 Loss 0.045156918466091156\n",
      "Epoch 1 Iter: 3000 Loss 0.03414164483547211\n",
      "Epoch 1 Iter: 3500 Loss 0.0006883663008920848\n",
      "Epoch 1 Iter: 4000 Loss 0.2355610728263855\n",
      "Epoch 1 Iter: 4500 Loss 0.03416046127676964\n",
      "Epoch 1 Iter: 5000 Loss 0.012563018128275871\n",
      "Epoch 1 Iter: 5500 Loss 0.5318499207496643\n",
      "Epoch 1 Iter: 6000 Loss 0.16706259548664093\n",
      "Epoch 1 Iter: 6500 Loss 0.0016566964332014322\n",
      "Epoch 1 Iter: 7000 Loss 0.008890179917216301\n",
      "Epoch 1 Iter: 7500 Loss 0.05082936957478523\n",
      "Epoch 1 Iter: 8000 Loss 0.18873882293701172\n",
      "Epoch 1 Iter: 8500 Loss 0.00365276588127017\n",
      "Epoch 1 Iter: 9000 Loss 0.01739947497844696\n",
      "Epoch 1 Iter: 9500 Loss 1.1254435777664185\n",
      "Epoch 1 Iter: 10000 Loss 0.08945582062005997\n",
      "Epoch 1 Iter: 10500 Loss 0.013712708838284016\n",
      "Epoch 1 Iter: 11000 Loss 0.66387540102005\n",
      "Epoch 1 Iter: 11500 Loss 0.02016008272767067\n",
      "Epoch 1 Iter: 12000 Loss 0.02306760847568512\n",
      "Epoch 1 Iter: 12500 Loss 0.18207573890686035\n",
      "Epoch 1 Iter: 13000 Loss 0.013368673622608185\n",
      "Epoch 1 Iter: 13500 Loss 0.0013761096633970737\n",
      "Epoch 1 Iter: 14000 Loss 0.006586658302694559\n",
      "Epoch 1 Iter: 14500 Loss 1.1557098627090454\n",
      "Epoch 2 Iter: 0 Loss 0.0064837876707315445\n",
      "Epoch 2 Iter: 500 Loss 0.1466420739889145\n",
      "Epoch 2 Iter: 1000 Loss 0.00096227036556229\n",
      "Epoch 2 Iter: 1500 Loss 0.008534186519682407\n",
      "Epoch 2 Iter: 2000 Loss 0.008320801891386509\n",
      "Epoch 2 Iter: 2500 Loss 0.026689773425459862\n",
      "Epoch 2 Iter: 3000 Loss 0.0020196905825287104\n",
      "Epoch 2 Iter: 3500 Loss 0.6325557231903076\n",
      "Epoch 2 Iter: 4000 Loss 0.04945864528417587\n",
      "Epoch 2 Iter: 4500 Loss 0.006844093557447195\n",
      "Epoch 2 Iter: 5000 Loss 0.026174120604991913\n",
      "Epoch 2 Iter: 5500 Loss 0.0015685214893892407\n",
      "Epoch 2 Iter: 6000 Loss 0.018283003941178322\n",
      "Epoch 2 Iter: 6500 Loss 0.03130863234400749\n",
      "Epoch 2 Iter: 7000 Loss 0.03877469152212143\n",
      "Epoch 2 Iter: 7500 Loss 0.0009905279148370028\n",
      "Epoch 2 Iter: 8000 Loss 0.0010221204720437527\n",
      "Epoch 2 Iter: 8500 Loss 0.00142483611125499\n",
      "Epoch 2 Iter: 9000 Loss 0.004735167603939772\n",
      "Epoch 2 Iter: 9500 Loss 0.0005059987306594849\n",
      "Epoch 2 Iter: 10000 Loss 0.07684808224439621\n",
      "Epoch 2 Iter: 10500 Loss 0.0338435061275959\n",
      "Epoch 2 Iter: 11000 Loss 0.0045267618261277676\n",
      "Epoch 2 Iter: 11500 Loss 0.0003475445555523038\n",
      "Epoch 2 Iter: 12000 Loss 0.7593150734901428\n",
      "Epoch 2 Iter: 12500 Loss 0.2937467098236084\n",
      "Epoch 2 Iter: 13000 Loss 0.0027264966629445553\n",
      "Epoch 2 Iter: 13500 Loss 0.03449569270014763\n",
      "Epoch 2 Iter: 14000 Loss 0.00018908239144366235\n",
      "Epoch 2 Iter: 14500 Loss 0.06121281906962395\n"
     ]
    }
   ],
   "source": [
    "net = Net(width=256, depth=3)\n",
    "net.to(device)\n",
    "\n",
    "criterion = nn.CrossEntropyLoss()\n",
    "\n",
    "train(net, criterion, trainloader, 0.001)"
   ]
  },
  {
   "cell_type": "code",
   "execution_count": 60,
   "id": "7a3a2618",
   "metadata": {},
   "outputs": [],
   "source": [
    "test_iter = iter(testloader)"
   ]
  },
  {
   "cell_type": "code",
   "execution_count": 61,
   "id": "cd97fc13",
   "metadata": {},
   "outputs": [
    {
     "data": {
      "image/png": "[encoded data removed]",
      "text/plain": [
       "<Figure size 640x480 with 1 Axes>"
      ]
     },
     "metadata": {},
     "output_type": "display_data"
    },
    {
     "name": "stdout",
     "output_type": "stream",
     "text": [
      "Classifier output: tensor([[ -7.4212,  -8.2965,  -1.3704,   1.4152, -19.9524,  -5.8395, -17.7020,\n",
      "           8.4853,  -7.3803,  -2.3017]])\n",
      "Classifier prediction: 7\n"
     ]
    }
   ],
   "source": [
    "x, labels = next(test_iter)\n",
    "x = x[0].unsqueeze(0)\n",
    "labels = labels[0].unsqueeze(0)\n",
    "imshow(x[0,0])\n",
    "\n",
    "x = x.to(device)\n",
    "labels = labels.to(device)\n",
    "\n",
    "out = net(x).data\n",
    "print('Classifier output:', out)\n",
    "print('Classifier prediction:', torch.argmax(out).item())"
   ]
  },
  {
   "attachments": {},
   "cell_type": "markdown",
   "id": "d65bfa74",
   "metadata": {},
   "source": [
    "Let's look at accuracy now."
   ]
  },
  {
   "cell_type": "code",
   "execution_count": 62,
   "id": "d016288f",
   "metadata": {},
   "outputs": [],
   "source": [
    "def accuracy(net, testloader):\n",
    "    '''\n",
    "    Returns the accuracy of classifier NET\n",
    "    on test data from TESTLOADER.\n",
    "    '''\n",
    "    correct = 0\n",
    "    total = 0\n",
    "    with torch.no_grad():\n",
    "        for data in testloader:\n",
    "            images, labels = data[0].to(device), data[1].to(device)\n",
    "            outputs = net(images)\n",
    "            _, predicted = torch.max(outputs.data, 1)\n",
    "            total += labels.size(0)\n",
    "            correct += (predicted == labels).sum().item()\n",
    "\n",
    "    return correct / total"
   ]
  },
  {
   "cell_type": "code",
   "execution_count": 63,
   "id": "d681f096",
   "metadata": {},
   "outputs": [
    {
     "name": "stdout",
     "output_type": "stream",
     "text": [
      "Classifier accuracy on original test dataset: 0.9701\n"
     ]
    }
   ],
   "source": [
    "print('Classifier accuracy on original test dataset:', accuracy(net, testloader))"
   ]
  },
  {
   "cell_type": "markdown",
   "id": "26ceb29d",
   "metadata": {},
   "source": [
    "Implement FGSM Method:"
   ]
  },
  {
   "cell_type": "code",
   "execution_count": 64,
   "id": "f095acd9",
   "metadata": {},
   "outputs": [],
   "source": [
    "def FGSM(x, labels, net, eps):\n",
    "    '''\n",
    "    Given an input image X and its corresponding labels\n",
    "    LABELS, as well as a classifier NET, returns X\n",
    "    perturbed by EPS using the fast gradient sign method.\n",
    "    '''\n",
    "    net.zero_grad()    # Zero out any gradients from before\n",
    "    x.requires_grad=True    # Keep track of gradients\n",
    "    out = net(x)    # Output of classifier\n",
    "    criterion = nn.CrossEntropyLoss()\n",
    "    loss = criterion(out, labels)   # Classifier's loss\n",
    "    loss.backward()\n",
    "    grads = x.grad.data    # Gradient of loss w/r/t input\n",
    "    return x + eps*torch.sign(grads)"
   ]
  },
  {
   "cell_type": "markdown",
   "id": "0661e90e",
   "metadata": {},
   "source": [
    "Now we define an epsilon value for FGSM perturbation:"
   ]
  },
  {
   "cell_type": "code",
   "execution_count": 65,
   "id": "56a880d3",
   "metadata": {},
   "outputs": [],
   "source": [
    "eps = 0.05"
   ]
  },
  {
   "cell_type": "code",
   "execution_count": 66,
   "id": "7dee895e",
   "metadata": {},
   "outputs": [
    {
     "data": {
      "image/png": "[encoded data removed]",
      "text/plain": [
       "<Figure size 640x480 with 1 Axes>"
      ]
     },
     "metadata": {},
     "output_type": "display_data"
    },
    {
     "name": "stdout",
     "output_type": "stream",
     "text": [
      "Classifier output: tensor([[ -5.8237,  -7.1637,  -0.6898,   2.2410, -19.7546,  -4.9855, -15.8454,\n",
      "           6.7375,  -5.0913,  -2.3708]])\n",
      "Classifier prediction: 7\n"
     ]
    }
   ],
   "source": [
    "# We are using the same sample input x as before.\n",
    "x.requires_grad = True\n",
    "x_prime = FGSM(x, labels, net, eps)\n",
    "imshow(x_prime[0,0].cpu())\n",
    "out = net(x_prime)\n",
    "\n",
    "print('Classifier output:', out.data)\n",
    "print('Classifier prediction:', torch.argmax(out).item())"
   ]
  },
  {
   "cell_type": "markdown",
   "id": "83e3de7e",
   "metadata": {},
   "source": [
    "From original assignment:\n",
    "We should evaluate the classifier's performance on FGSM-perturbed data by the same metric that we will later use in the primal adversarial problem. That is, for the classifier's output vector $\\vec{\\hat{z}}_3$, we want to compute\n",
    "$$\n",
    "\\vec{c}_j^\\top \\vec{\\hat{z}}_3\n",
    "$$\n",
    "where\n",
    "$$\\vec{c}_j={\\vec{y}_{\\text{true}}}-\\vec{e}_{j}$$\n",
    "for each $j\\in[10]$.\n",
    "\n",
    "Recall that \n",
    "$$\\vec{c}_j^\\top \\vec{\\hat{z}}_3=\\vec{\\hat{z}}_{3i_{\\text{true}}}-\\vec{\\hat{z}}_{3j},$$\n",
    "i.e. $\\vec{c}_j^\\top \\vec{\\hat{z}}_3$ is the difference between the classifier's confidence on the true class and the $j$th (incorrect) class. If $\\vec{c}_j^\\top \\vec{\\hat{z}}_3$ is positive for all incorrect $j$, then the classifier was not fooled by the adversarial perturbation."
   ]
  },
  {
   "cell_type": "code",
   "execution_count": 67,
   "id": "14e89790",
   "metadata": {},
   "outputs": [
    {
     "name": "stdout",
     "output_type": "stream",
     "text": [
      "0 12.561123847961426\n",
      "1 13.901138305664062\n",
      "2 7.427278995513916\n",
      "3 4.496448516845703\n",
      "4 26.492033004760742\n",
      "5 11.722925186157227\n",
      "6 22.582866668701172\n",
      "8 11.828751564025879\n",
      "9 9.108213424682617\n"
     ]
    }
   ],
   "source": [
    "for i in range(10):\n",
    "    c = torch.zeros(10, 1).to(device)\n",
    "    if i != labels:\n",
    "        c[i] = -1\n",
    "        c[labels] = 1\n",
    "        print(i, (out @ c).item())"
   ]
  },
  {
   "cell_type": "code",
   "execution_count": 68,
   "id": "988e339c",
   "metadata": {},
   "outputs": [],
   "source": [
    "def accuracy_on_FGSM(net, testloader, eps):\n",
    "    '''\n",
    "    Returns the accuracy of classifier NET on test\n",
    "    data from TESTLOADER that has been perturbed by\n",
    "    EPS using FSGM.\n",
    "    '''\n",
    "    correct = 0\n",
    "    total = 0\n",
    "    for data in testloader:\n",
    "        x, labels = data[0].to(device), data[1].to(device)\n",
    "        x_prime = FGSM(x, labels, net, eps)\n",
    "        outputs = net(x_prime)\n",
    "        _, predicted = torch.max(outputs.data, 1)\n",
    "        total += labels.size(0)\n",
    "        correct += (predicted == labels).sum().item()\n",
    "\n",
    "    return correct / total"
   ]
  },
  {
   "cell_type": "code",
   "execution_count": 69,
   "id": "c224a172",
   "metadata": {},
   "outputs": [
    {
     "name": "stdout",
     "output_type": "stream",
     "text": [
      "Classifier accuracy on test dataset perturbed with FGSM: 0.8766\n"
     ]
    }
   ],
   "source": [
    "print('Classifier accuracy on test dataset perturbed with FGSM:', accuracy_on_FGSM(net, testloader, eps))"
   ]
  },
  {
   "cell_type": "markdown",
   "id": "f58d6284",
   "metadata": {},
   "source": [
    "# Dual Network"
   ]
  },
  {
   "cell_type": "markdown",
   "id": "2578abfa",
   "metadata": {},
   "source": [
    "From original assignment: $\\newline$\n",
    "Here, we will implement the dual network. First, we write the function to compute upper and lower bounds for the dual network. This function should take an input image, the trained classifier, and an epsilon value, and return the tuple\n",
    "$$(\\vec{l},\\vec{u},S,S^-,S^+)$$\n",
    "where $\\vec{u}$ and $\\vec{l}$ are the upper and lower bounds, respectively, for the input to the ReLU layer, and $S^-,S^+,S$ are sets defined by\n",
    "\n",
    "$$\n",
    "\\begin{aligned}\n",
    "&S:=\\{j\\in [n_2]\\mid l_{j}\\leq 0\\leq u_{j}\\}\\\\\n",
    "&S^{-}:=\\{j\\in [n_2]\\mid l_{j}\\leq u_{j}\\leq 0\\}\\\\\n",
    "&S^{+}:=\\{j\\in [n_2]\\mid 0\\leq l_{j}\\leq u_{j}\\}.\n",
    "\\end{aligned}\n",
    "$$\n",
    "\n",
    "See Section 6 of the PDF for more details."
   ]
  },
  {
   "cell_type": "code",
   "execution_count": 70,
   "id": "f3a885eb",
   "metadata": {},
   "outputs": [],
   "source": [
    "def dual_bounds(x, net, eps):\n",
    "    '''\n",
    "    Given a classifier NET, an input image X,\n",
    "    and the epsilon parameter EPS, returns the lower\n",
    "    and upper bounds L and U respectively, as well as\n",
    "    the corresponding sets S, S_MIN, S_PLUS.\n",
    "    '''\n",
    "    x = x[0].reshape(-1, 1)    # Reshape input to more convenient dimensions\n",
    "    W = [layer.weight for layer in net.layers]    # Array of network weights (W matrices)\n",
    "    b = [layer.bias.reshape(-1, 1) for layer in net.layers]    # Array of network biases (b vectors)\n",
    "    n = W[1].shape[1]    # Dimensionality of hidden layer\n",
    "\n",
    "    U = []\n",
    "    L = []\n",
    "    S = []\n",
    "    S_plus = []\n",
    "    S_min = []\n",
    "\n",
    "    for j in range(0, net.depth - 2):\n",
    "\n",
    "        u = torch.Tensor([W[0][i] @ x + b[j][i] + eps * torch.norm(W[0][i], 1) for i in range(0, n)])\n",
    "        l = torch.Tensor([W[0][i] @ x + b[j][i] - eps * torch.norm(W[0][i], 1) for i in range(0, n)])\n",
    "        #u = torch.Tensor([W[j][i] @ net.z[j-1] + b[j][i] + eps * torch.norm(W[j][i], 1) for i in range(0, n)])\n",
    "        #l = torch.Tensor([W[j][i] @ net.z[j-1] + b[j][i] - eps * torch.norm(W[j][i], 1) for i in range(0, n)])\n",
    "        \n",
    "        U.append(u)\n",
    "        L.append(l)\n",
    "\n",
    "        s = [i for i in range(0, n) if l[i] <= 0 and u[i] >= 0]\n",
    "        s_plus = [i for i in range(0, n) if l[i] <= u[i] and l[i] >= 0]\n",
    "        s_min = [i for i in range(0, n) if u[i] <= 0 and u[i] >= l[i]]\n",
    "        S.append(s)\n",
    "        S_plus.append(s_plus)\n",
    "        S_min.append(s_min)\n",
    "\n",
    "    return L, U, S, S_min, S_plus"
   ]
  },
  {
   "cell_type": "markdown",
   "id": "53882d78",
   "metadata": {},
   "source": [
    "From original assignment: $\\newline$\n",
    "Given the tuple $(l,u,S,S^-,S^+)$, we are ready to calculate the dual objective itself. This function should take in an input image, the classifier, a vector $c$, and the $(l,u,S,S^-,S^+)$ from the previous function in order to output \n",
    "$$\n",
    "d^*(\\vec{x},\\vec{c})= \n",
    "-\\vec{\\hat{\\nu}}_1^\\top \\vec{x}-\\varepsilon\\|\\vec{\\hat{\\nu}}_1\\|_1-\\sum_{i=1}^{2}\\vec{\\nu}_{i+1}^\\top \\vec{b}_i+\\sum_{j\\in S\\\n",
    "}l_{j}\\text{ReLU}(\\nu_{2j})\n",
    "$$\n",
    "\n",
    "Where the $\\vec{\\nu}$ vectors are computed as\n",
    "$$\n",
    "\\begin{aligned}\n",
    "&\\vec{\\nu}_3=-\\vec{c}\\\\\n",
    "&\\vec{\\hat{\\nu}}_2=W_2^\\top \\vec{\\nu}_{3}\\\\\n",
    "&\\nu_{2j}=0 && \\forall j\\in S^-\\\\\n",
    "&\\nu_{2j}=\\hat{\\nu}_{2j} && \\forall j\\in S^+\\\\\n",
    "&\\nu_{2j}=\\dfrac{u_{j}}{u_{j}-l_{j}}\\hat{\\nu}_{2j} && \\forall j\\in S\\\\\n",
    "&\\vec{\\hat{\\nu}}_1=W_1^\\top \\vec{\\nu_{2}}\n",
    "&\\end{aligned}.\n",
    "$$\n",
    "\n",
    "Again, see Section 6 of the PDF for more details.\n",
    "\n",
    "One efficient way to compute $\\vec{\\nu}_2$ is to rewrite it as\n",
    "$$\\vec{\\nu}_2= D\\vec{\\hat{\\nu}}_2,$$\n",
    "where $D$ is a diagonal matrix defined  by\n",
    "$$\n",
    "D_{jj}=\\begin{cases}\n",
    "0 & j\\in S^-\\\\\n",
    "\\hat{\\nu}_{2j} & j\\in S^+\\\\\n",
    "\\dfrac{u_{j}}{u_{j}-l_{j}}\\hat{\\nu}_{2j} & j\\in S.\n",
    "\\end{cases}\n",
    "$$"
   ]
  },
  {
   "cell_type": "code",
   "execution_count": 71,
   "id": "7fbd7687",
   "metadata": {},
   "outputs": [],
   "source": [
    "# Constructs the diagonal D matrix from the S sets, n (the dimensionality\n",
    "# of the hidden layer), u, and l.\n",
    "def StoD(S_min, S_plus, S, n, U, L):\n",
    "    '''\n",
    "    Given upper and lower bounds U and L, as well\n",
    "    as the corresponding sets S_MIN, S_PLUS, and S,\n",
    "    as well as the dimension of the hidden layer N,\n",
    "    returns the corresponding diagonal matrix D.\n",
    "    '''\n",
    "    D = []\n",
    "    for i in range(0, net.depth - 2):\n",
    "        d = []\n",
    "        for j in range(n):\n",
    "            if j in S[i]:\n",
    "                d.append((U[i][j] / (U[i][j] - L[i][j])).item())\n",
    "            elif j in S_plus[i]:\n",
    "                d.append(1)\n",
    "            elif j in S_min[i]:\n",
    "                d.append(0)\n",
    "            else:\n",
    "                assert False, 'StoD error.'\n",
    "        D.append(torch.diag(torch.Tensor(d)).to(device))\n",
    "    return D\n",
    "\n",
    "def dual_forward(x, net, c, eps, L, U, S, S_min, S_plus):\n",
    "    '''\n",
    "    Calculates the dual objective for classifier NET with input X\n",
    "    and dual input C and epsilon parameter S. Depends on lower\n",
    "    and upper bounds L and U, as well as the corresponding sets\n",
    "    S, S_MIN, S_PLUS.\n",
    "    '''\n",
    "    x = x[0].reshape(-1, 1)    # Reshape input to more convenient dimensions\n",
    "    W = [layer.weight for layer in net.layers]    # Array of network weights (W matrices)\n",
    "    b = [layer.bias.reshape(-1, 1) for layer in net.layers]    # Array of network biases (b vectors)\n",
    "    n = W[1].shape[1]    # Dimensionality of hidden layer\n",
    "    D = StoD(S_min, S_plus, S, n, U, L)\n",
    "    nu = []\n",
    "    nuh = []\n",
    "\n",
    "    for i in range(0, net.depth - 1):\n",
    "        if i == 0:\n",
    "            nu.append(-c)\n",
    "        else:\n",
    "            nu.append(D[net.depth - 2 - i] @ nuh[i - 1])\n",
    "        nuh.append(W[net.depth - 2 - i].T @ nu[i])\n",
    "    \n",
    "    nuh = nuh[::-1]\n",
    "    nu = nu[::-1]\n",
    "    \n",
    "    nu_sum = 0\n",
    "    for i in range(1, net.depth - 1):\n",
    "        nu_sum += nu[i].T @ b[i]\n",
    "    \n",
    "    relu_sum = 0\n",
    "    for i in range(0, net.depth - 2):\n",
    "        for j in range(len(nu[i])):\n",
    "            if j in S[i]:\n",
    "                relu_sum += L[i][j] * torch.relu(nu[i][j])\n",
    "    dual = -1 * (nuh[0].T @ x) - eps * (torch.norm(nuh[0], 1)) - nu_sum + relu_sum\n",
    "\n",
    "    return dual\n"
   ]
  },
  {
   "cell_type": "code",
   "execution_count": 72,
   "id": "a770ada9",
   "metadata": {},
   "outputs": [],
   "source": [
    "eps = 0.05"
   ]
  },
  {
   "cell_type": "code",
   "execution_count": 76,
   "id": "09899893",
   "metadata": {},
   "outputs": [
    {
     "name": "stdout",
     "output_type": "stream",
     "text": [
      "0 10.683659553527832\n",
      "1 11.813409805297852\n",
      "2 5.454894065856934\n",
      "3 3.1524598598480225\n",
      "4 22.298559188842773\n",
      "5 8.471338272094727\n",
      "6 19.583816528320312\n",
      "8 9.837532043457031\n",
      "9 5.825117588043213\n"
     ]
    }
   ],
   "source": [
    "# We are still using the same sample input x as before.\n",
    "L, U, S, S_min, S_plus = dual_bounds(x, net, eps)\n",
    "\n",
    "# print(l, u, S, S_min, S_plus)\n",
    "# Here, we loop through each column c_j defined above, and output the \n",
    "# objective value for the dual function with input c.\n",
    "for i in range(10):\n",
    "    c = torch.zeros(10, 1).to(device)\n",
    "    if i != labels:\n",
    "        c[i] = -1\n",
    "        c[labels] = 1\n",
    "        print(i, dual_forward(x, net, c, 0.1, L, U, S, S_min, S_plus).item())"
   ]
  },
  {
   "cell_type": "code",
   "execution_count": 81,
   "id": "16b801c2",
   "metadata": {},
   "outputs": [],
   "source": [
    "def robust_loss(x, label, net, eps, criterion):\n",
    "    '''\n",
    "    Given a batch of input images X, its corresponding lables LABEL,\n",
    "    the classifier NET, epsilon value EPS, and original loss\n",
    "    function CRITERION, returns the robust loss of NET w/r/t\n",
    "    the original loss function, on the input image.\n",
    "    '''\n",
    "    l, u, S, S_min, S_plus = dual_bounds(x, net, eps)\n",
    "    # We assume there are 10 classes.\n",
    "    e_y = torch.zeros(10, 1)\n",
    "    e_y[label] = 1\n",
    "    c = e_y @ torch.ones(1, 10) - torch.eye(10)\n",
    "    J = dual_forward(x, net, c, 0.1, l, u, S, S_min, S_plus).unsqueeze(0)\n",
    "    try:\n",
    "        temp = criterion(-J, label.unsqueeze(0))\n",
    "    except:\n",
    "        temp = criterion(-J, label.unsqueeze(0).expand(1,10))\n",
    "    return temp"
   ]
  },
  {
   "cell_type": "code",
   "execution_count": 84,
   "id": "20e25dde",
   "metadata": {},
   "outputs": [],
   "source": [
    "def robust_train(net, criterion, trainloader, eps, lr=0.001):\n",
    "    '''\n",
    "    Trains the classifier NET using the robust version\n",
    "    of the original loss function CRITERION with paramater EPS,\n",
    "    using training data from TRAINLOADER and with learning rate LR.\n",
    "    \n",
    "    Note that we half the learning rate each epoch.\n",
    "    '''\n",
    "    optimizer = optim.Adam(net.parameters(), lr=lr)\n",
    "        \n",
    "    for epoch in range(1):\n",
    "        for i, data in enumerate(trainloader, 0):\n",
    "            for param_group in optimizer.param_groups:\n",
    "                param_group['lr'] = lr * 0.5 ** (epoch)\n",
    "\n",
    "            inputs, labels = data\n",
    "            optimizer.zero_grad()\n",
    "            loss = 0.0\n",
    "            for k in range(inputs.shape[0]):\n",
    "                x = inputs[k].unsqueeze(0)\n",
    "                label = labels[k].unsqueeze(0)\n",
    "                loss += robust_loss(x, label, net, eps, criterion)\n",
    "            loss.backward()\n",
    "            optimizer.step()\n",
    "            if i % 500 == 0:\n",
    "                print('Epoch', epoch, 'Iter:', i, 'Loss', loss.item())"
   ]
  },
  {
   "cell_type": "code",
   "execution_count": 85,
   "id": "c8df2282",
   "metadata": {},
   "outputs": [],
   "source": [
    "transform = transforms.Compose(\n",
    "    [transforms.ToTensor(),\n",
    "     transforms.Normalize((0.5,), (0.5,))])\n",
    "\n",
    "trainset = torchvision.datasets.MNIST(root='../data', train=True, download=True, transform=transform)\n",
    "\n",
    "trainloader = torch.utils.data.DataLoader(trainset, batch_size=4,\n",
    "                                          shuffle=True, num_workers=2)\n",
    "\n",
    "testset = torchvision.datasets.MNIST(root='../data', train=False,\n",
    "                                       download=True, transform=transform)\n",
    "\n",
    "testloader = torch.utils.data.DataLoader(testset, batch_size=4,\n",
    "                                         shuffle=False, num_workers=2)"
   ]
  },
  {
   "cell_type": "code",
   "execution_count": 86,
   "id": "603259b6",
   "metadata": {},
   "outputs": [
    {
     "name": "stdout",
     "output_type": "stream",
     "text": [
      "Epoch 0 Iter: 0 Loss 9.559327125549316\n",
      "Epoch 0 Iter: 500 Loss 3.7745330333709717\n",
      "Epoch 0 Iter: 1000 Loss 1.194089651107788\n",
      "Epoch 0 Iter: 1500 Loss 1.4322056770324707\n",
      "Epoch 0 Iter: 2000 Loss 3.178664207458496\n",
      "Epoch 0 Iter: 2500 Loss 1.4843199253082275\n",
      "Epoch 0 Iter: 3000 Loss 1.3523077964782715\n"
     ]
    },
    {
     "ename": "KeyboardInterrupt",
     "evalue": "",
     "output_type": "error",
     "traceback": [
      "\u001b[0;31m---------------------------------------------------------------------------\u001b[0m",
      "\u001b[0;31mKeyboardInterrupt\u001b[0m                         Traceback (most recent call last)",
      "\u001b[1;32m/Users/patrickbales/Desktop/GitHub/AdversarialML/Empirical_Analysis_of_CNN_Robustness_Properties.ipynb Cell 38\u001b[0m in \u001b[0;36m7\n\u001b[1;32m      <a href='vscode-notebook-cell:/Users/patrickbales/Desktop/GitHub/AdversarialML/Empirical_Analysis_of_CNN_Robustness_Properties.ipynb#X52sZmlsZQ%3D%3D?line=3'>4</a>\u001b[0m eps \u001b[39m=\u001b[39m \u001b[39m0.05\u001b[39m\n\u001b[1;32m      <a href='vscode-notebook-cell:/Users/patrickbales/Desktop/GitHub/AdversarialML/Empirical_Analysis_of_CNN_Robustness_Properties.ipynb#X52sZmlsZQ%3D%3D?line=4'>5</a>\u001b[0m criterion \u001b[39m=\u001b[39m nn\u001b[39m.\u001b[39mCrossEntropyLoss()\n\u001b[0;32m----> <a href='vscode-notebook-cell:/Users/patrickbales/Desktop/GitHub/AdversarialML/Empirical_Analysis_of_CNN_Robustness_Properties.ipynb#X52sZmlsZQ%3D%3D?line=6'>7</a>\u001b[0m robust_train(net, criterion, trainloader, eps, \u001b[39m0.001\u001b[39;49m)\n",
      "\u001b[1;32m/Users/patrickbales/Desktop/GitHub/AdversarialML/Empirical_Analysis_of_CNN_Robustness_Properties.ipynb Cell 38\u001b[0m in \u001b[0;36m2\n\u001b[1;32m     <a href='vscode-notebook-cell:/Users/patrickbales/Desktop/GitHub/AdversarialML/Empirical_Analysis_of_CNN_Robustness_Properties.ipynb#X52sZmlsZQ%3D%3D?line=19'>20</a>\u001b[0m     x \u001b[39m=\u001b[39m inputs[k]\u001b[39m.\u001b[39munsqueeze(\u001b[39m0\u001b[39m)\n\u001b[1;32m     <a href='vscode-notebook-cell:/Users/patrickbales/Desktop/GitHub/AdversarialML/Empirical_Analysis_of_CNN_Robustness_Properties.ipynb#X52sZmlsZQ%3D%3D?line=20'>21</a>\u001b[0m     label \u001b[39m=\u001b[39m labels[k]\u001b[39m.\u001b[39munsqueeze(\u001b[39m0\u001b[39m)\n\u001b[0;32m---> <a href='vscode-notebook-cell:/Users/patrickbales/Desktop/GitHub/AdversarialML/Empirical_Analysis_of_CNN_Robustness_Properties.ipynb#X52sZmlsZQ%3D%3D?line=21'>22</a>\u001b[0m     loss \u001b[39m+\u001b[39m\u001b[39m=\u001b[39m robust_loss(x, label, net, eps, criterion)\n\u001b[1;32m     <a href='vscode-notebook-cell:/Users/patrickbales/Desktop/GitHub/AdversarialML/Empirical_Analysis_of_CNN_Robustness_Properties.ipynb#X52sZmlsZQ%3D%3D?line=22'>23</a>\u001b[0m loss\u001b[39m.\u001b[39mbackward()\n\u001b[1;32m     <a href='vscode-notebook-cell:/Users/patrickbales/Desktop/GitHub/AdversarialML/Empirical_Analysis_of_CNN_Robustness_Properties.ipynb#X52sZmlsZQ%3D%3D?line=23'>24</a>\u001b[0m optimizer\u001b[39m.\u001b[39mstep()\n",
      "\u001b[1;32m/Users/patrickbales/Desktop/GitHub/AdversarialML/Empirical_Analysis_of_CNN_Robustness_Properties.ipynb Cell 38\u001b[0m in \u001b[0;36m8\n\u001b[1;32m      <a href='vscode-notebook-cell:/Users/patrickbales/Desktop/GitHub/AdversarialML/Empirical_Analysis_of_CNN_Robustness_Properties.ipynb#X52sZmlsZQ%3D%3D?line=0'>1</a>\u001b[0m \u001b[39mdef\u001b[39;00m \u001b[39mrobust_loss\u001b[39m(x, label, net, eps, criterion):\n\u001b[1;32m      <a href='vscode-notebook-cell:/Users/patrickbales/Desktop/GitHub/AdversarialML/Empirical_Analysis_of_CNN_Robustness_Properties.ipynb#X52sZmlsZQ%3D%3D?line=1'>2</a>\u001b[0m     \u001b[39m'''\u001b[39;00m\n\u001b[1;32m      <a href='vscode-notebook-cell:/Users/patrickbales/Desktop/GitHub/AdversarialML/Empirical_Analysis_of_CNN_Robustness_Properties.ipynb#X52sZmlsZQ%3D%3D?line=2'>3</a>\u001b[0m \u001b[39m    Given a batch of input images X, its corresponding lables LABEL,\u001b[39;00m\n\u001b[1;32m      <a href='vscode-notebook-cell:/Users/patrickbales/Desktop/GitHub/AdversarialML/Empirical_Analysis_of_CNN_Robustness_Properties.ipynb#X52sZmlsZQ%3D%3D?line=3'>4</a>\u001b[0m \u001b[39m    the classifier NET, epsilon value EPS, and original loss\u001b[39;00m\n\u001b[1;32m      <a href='vscode-notebook-cell:/Users/patrickbales/Desktop/GitHub/AdversarialML/Empirical_Analysis_of_CNN_Robustness_Properties.ipynb#X52sZmlsZQ%3D%3D?line=4'>5</a>\u001b[0m \u001b[39m    function CRITERION, returns the robust loss of NET w/r/t\u001b[39;00m\n\u001b[1;32m      <a href='vscode-notebook-cell:/Users/patrickbales/Desktop/GitHub/AdversarialML/Empirical_Analysis_of_CNN_Robustness_Properties.ipynb#X52sZmlsZQ%3D%3D?line=5'>6</a>\u001b[0m \u001b[39m    the original loss function, on the input image.\u001b[39;00m\n\u001b[1;32m      <a href='vscode-notebook-cell:/Users/patrickbales/Desktop/GitHub/AdversarialML/Empirical_Analysis_of_CNN_Robustness_Properties.ipynb#X52sZmlsZQ%3D%3D?line=6'>7</a>\u001b[0m \u001b[39m    '''\u001b[39;00m\n\u001b[0;32m----> <a href='vscode-notebook-cell:/Users/patrickbales/Desktop/GitHub/AdversarialML/Empirical_Analysis_of_CNN_Robustness_Properties.ipynb#X52sZmlsZQ%3D%3D?line=7'>8</a>\u001b[0m     l, u, S, S_min, S_plus \u001b[39m=\u001b[39m dual_bounds(x, net, eps)\n\u001b[1;32m      <a href='vscode-notebook-cell:/Users/patrickbales/Desktop/GitHub/AdversarialML/Empirical_Analysis_of_CNN_Robustness_Properties.ipynb#X52sZmlsZQ%3D%3D?line=8'>9</a>\u001b[0m     \u001b[39m# We assume there are 10 classes.\u001b[39;00m\n\u001b[1;32m     <a href='vscode-notebook-cell:/Users/patrickbales/Desktop/GitHub/AdversarialML/Empirical_Analysis_of_CNN_Robustness_Properties.ipynb#X52sZmlsZQ%3D%3D?line=9'>10</a>\u001b[0m     e_y \u001b[39m=\u001b[39m torch\u001b[39m.\u001b[39mzeros(\u001b[39m10\u001b[39m, \u001b[39m1\u001b[39m)\n",
      "\u001b[1;32m/Users/patrickbales/Desktop/GitHub/AdversarialML/Empirical_Analysis_of_CNN_Robustness_Properties.ipynb Cell 38\u001b[0m in \u001b[0;36m2\n\u001b[1;32m     <a href='vscode-notebook-cell:/Users/patrickbales/Desktop/GitHub/AdversarialML/Empirical_Analysis_of_CNN_Robustness_Properties.ipynb#X52sZmlsZQ%3D%3D?line=18'>19</a>\u001b[0m \u001b[39mfor\u001b[39;00m j \u001b[39min\u001b[39;00m \u001b[39mrange\u001b[39m(\u001b[39m0\u001b[39m, net\u001b[39m.\u001b[39mdepth \u001b[39m-\u001b[39m \u001b[39m2\u001b[39m):\n\u001b[1;32m     <a href='vscode-notebook-cell:/Users/patrickbales/Desktop/GitHub/AdversarialML/Empirical_Analysis_of_CNN_Robustness_Properties.ipynb#X52sZmlsZQ%3D%3D?line=20'>21</a>\u001b[0m     u \u001b[39m=\u001b[39m torch\u001b[39m.\u001b[39mTensor([W[\u001b[39m0\u001b[39m][i] \u001b[39m@\u001b[39m x \u001b[39m+\u001b[39m b[j][i] \u001b[39m+\u001b[39m eps \u001b[39m*\u001b[39m torch\u001b[39m.\u001b[39mnorm(W[\u001b[39m0\u001b[39m][i], \u001b[39m1\u001b[39m) \u001b[39mfor\u001b[39;00m i \u001b[39min\u001b[39;00m \u001b[39mrange\u001b[39m(\u001b[39m0\u001b[39m, n)])\n\u001b[0;32m---> <a href='vscode-notebook-cell:/Users/patrickbales/Desktop/GitHub/AdversarialML/Empirical_Analysis_of_CNN_Robustness_Properties.ipynb#X52sZmlsZQ%3D%3D?line=21'>22</a>\u001b[0m     l \u001b[39m=\u001b[39m torch\u001b[39m.\u001b[39mTensor([W[\u001b[39m0\u001b[39m][i] \u001b[39m@\u001b[39m x \u001b[39m+\u001b[39m b[j][i] \u001b[39m-\u001b[39m eps \u001b[39m*\u001b[39m torch\u001b[39m.\u001b[39mnorm(W[\u001b[39m0\u001b[39m][i], \u001b[39m1\u001b[39m) \u001b[39mfor\u001b[39;00m i \u001b[39min\u001b[39;00m \u001b[39mrange\u001b[39m(\u001b[39m0\u001b[39m, n)])\n\u001b[1;32m     <a href='vscode-notebook-cell:/Users/patrickbales/Desktop/GitHub/AdversarialML/Empirical_Analysis_of_CNN_Robustness_Properties.ipynb#X52sZmlsZQ%3D%3D?line=22'>23</a>\u001b[0m     \u001b[39m#u = torch.Tensor([W[j][i] @ net.z[j-1] + b[j][i] + eps * torch.norm(W[j][i], 1) for i in range(0, n)])\u001b[39;00m\n\u001b[1;32m     <a href='vscode-notebook-cell:/Users/patrickbales/Desktop/GitHub/AdversarialML/Empirical_Analysis_of_CNN_Robustness_Properties.ipynb#X52sZmlsZQ%3D%3D?line=23'>24</a>\u001b[0m     \u001b[39m#l = torch.Tensor([W[j][i] @ net.z[j-1] + b[j][i] - eps * torch.norm(W[j][i], 1) for i in range(0, n)])\u001b[39;00m\n\u001b[1;32m     <a href='vscode-notebook-cell:/Users/patrickbales/Desktop/GitHub/AdversarialML/Empirical_Analysis_of_CNN_Robustness_Properties.ipynb#X52sZmlsZQ%3D%3D?line=25'>26</a>\u001b[0m     U\u001b[39m.\u001b[39mappend(u)\n",
      "\u001b[1;32m/Users/patrickbales/Desktop/GitHub/AdversarialML/Empirical_Analysis_of_CNN_Robustness_Properties.ipynb Cell 38\u001b[0m in \u001b[0;36m2\n\u001b[1;32m     <a href='vscode-notebook-cell:/Users/patrickbales/Desktop/GitHub/AdversarialML/Empirical_Analysis_of_CNN_Robustness_Properties.ipynb#X52sZmlsZQ%3D%3D?line=18'>19</a>\u001b[0m \u001b[39mfor\u001b[39;00m j \u001b[39min\u001b[39;00m \u001b[39mrange\u001b[39m(\u001b[39m0\u001b[39m, net\u001b[39m.\u001b[39mdepth \u001b[39m-\u001b[39m \u001b[39m2\u001b[39m):\n\u001b[1;32m     <a href='vscode-notebook-cell:/Users/patrickbales/Desktop/GitHub/AdversarialML/Empirical_Analysis_of_CNN_Robustness_Properties.ipynb#X52sZmlsZQ%3D%3D?line=20'>21</a>\u001b[0m     u \u001b[39m=\u001b[39m torch\u001b[39m.\u001b[39mTensor([W[\u001b[39m0\u001b[39m][i] \u001b[39m@\u001b[39m x \u001b[39m+\u001b[39m b[j][i] \u001b[39m+\u001b[39m eps \u001b[39m*\u001b[39m torch\u001b[39m.\u001b[39mnorm(W[\u001b[39m0\u001b[39m][i], \u001b[39m1\u001b[39m) \u001b[39mfor\u001b[39;00m i \u001b[39min\u001b[39;00m \u001b[39mrange\u001b[39m(\u001b[39m0\u001b[39m, n)])\n\u001b[0;32m---> <a href='vscode-notebook-cell:/Users/patrickbales/Desktop/GitHub/AdversarialML/Empirical_Analysis_of_CNN_Robustness_Properties.ipynb#X52sZmlsZQ%3D%3D?line=21'>22</a>\u001b[0m     l \u001b[39m=\u001b[39m torch\u001b[39m.\u001b[39mTensor([W[\u001b[39m0\u001b[39;49m][i] \u001b[39m@\u001b[39;49m x \u001b[39m+\u001b[39m b[j][i] \u001b[39m-\u001b[39m eps \u001b[39m*\u001b[39m torch\u001b[39m.\u001b[39mnorm(W[\u001b[39m0\u001b[39m][i], \u001b[39m1\u001b[39m) \u001b[39mfor\u001b[39;00m i \u001b[39min\u001b[39;00m \u001b[39mrange\u001b[39m(\u001b[39m0\u001b[39m, n)])\n\u001b[1;32m     <a href='vscode-notebook-cell:/Users/patrickbales/Desktop/GitHub/AdversarialML/Empirical_Analysis_of_CNN_Robustness_Properties.ipynb#X52sZmlsZQ%3D%3D?line=22'>23</a>\u001b[0m     \u001b[39m#u = torch.Tensor([W[j][i] @ net.z[j-1] + b[j][i] + eps * torch.norm(W[j][i], 1) for i in range(0, n)])\u001b[39;00m\n\u001b[1;32m     <a href='vscode-notebook-cell:/Users/patrickbales/Desktop/GitHub/AdversarialML/Empirical_Analysis_of_CNN_Robustness_Properties.ipynb#X52sZmlsZQ%3D%3D?line=23'>24</a>\u001b[0m     \u001b[39m#l = torch.Tensor([W[j][i] @ net.z[j-1] + b[j][i] - eps * torch.norm(W[j][i], 1) for i in range(0, n)])\u001b[39;00m\n\u001b[1;32m     <a href='vscode-notebook-cell:/Users/patrickbales/Desktop/GitHub/AdversarialML/Empirical_Analysis_of_CNN_Robustness_Properties.ipynb#X52sZmlsZQ%3D%3D?line=25'>26</a>\u001b[0m     U\u001b[39m.\u001b[39mappend(u)\n",
      "\u001b[0;31mKeyboardInterrupt\u001b[0m: "
     ]
    }
   ],
   "source": [
    "net = Net(width=256, depth=3)\n",
    "net.to(device)\n",
    "\n",
    "eps = 0.05\n",
    "criterion = nn.CrossEntropyLoss()\n",
    "\n",
    "robust_train(net, criterion, trainloader, eps, 0.001)"
   ]
  },
  {
   "cell_type": "code",
   "execution_count": 87,
   "id": "f0648b19",
   "metadata": {},
   "outputs": [],
   "source": [
    "test_iter = iter(testloader)"
   ]
  },
  {
   "cell_type": "code",
   "execution_count": 88,
   "id": "a80cf4c2",
   "metadata": {},
   "outputs": [
    {
     "data": {
      "image/png": "[encoded data removed]",
      "text/plain": [
       "<Figure size 640x480 with 1 Axes>"
      ]
     },
     "metadata": {},
     "output_type": "display_data"
    },
    {
     "name": "stdout",
     "output_type": "stream",
     "text": [
      "Classifier output: tensor([[ -3.7131,  -8.7330,   0.6014,   1.1360,  -4.1296,  -5.9634, -12.0019,\n",
      "          10.5534,  -6.5526,   1.8342]])\n",
      "Classifier prediction: 7\n"
     ]
    }
   ],
   "source": [
    "x, labels = next(test_iter)\n",
    "x = x[0].unsqueeze(0)\n",
    "labels = labels[0].unsqueeze(0)\n",
    "imshow(x[0,0])\n",
    "\n",
    "x = x.to(device)\n",
    "labels = labels.to(device)\n",
    "\n",
    "out = net(x).data\n",
    "print('Classifier output:', out)\n",
    "print('Classifier prediction:', torch.argmax(out).item())"
   ]
  },
  {
   "cell_type": "code",
   "execution_count": 89,
   "id": "bc3623c2",
   "metadata": {},
   "outputs": [],
   "source": [
    "def accuracy(net, testloader):\n",
    "    '''\n",
    "    Returns the accuracy of classifier NET\n",
    "    on test data from TESTLOADER.\n",
    "    '''\n",
    "    correct = 0\n",
    "    total = 0\n",
    "    with torch.no_grad():\n",
    "        for data in testloader:\n",
    "            images, labels = data[0].to(device), data[1].to(device)\n",
    "            outputs = net(images)\n",
    "            _, predicted = torch.max(outputs.data, 1)\n",
    "            total += labels.size(0)\n",
    "            correct += (predicted == labels).sum().item()\n",
    "\n",
    "    return correct / total"
   ]
  },
  {
   "cell_type": "code",
   "execution_count": 90,
   "id": "d24d1203",
   "metadata": {},
   "outputs": [
    {
     "name": "stdout",
     "output_type": "stream",
     "text": [
      "Classifier accuracy on original test dataset: 0.8974\n"
     ]
    }
   ],
   "source": [
    "print('Classifier accuracy on original test dataset:', accuracy(net, testloader))"
   ]
  },
  {
   "cell_type": "code",
   "execution_count": null,
   "id": "aa645196",
   "metadata": {},
   "outputs": [],
   "source": []
  }
 ],
 "metadata": {
  "kernelspec": {
   "display_name": "Python 3.10.6 64-bit",
   "language": "python",
   "name": "python3"
  },
  "language_info": {
   "codemirror_mode": {
    "name": "ipython",
    "version": 3
   },
   "file_extension": ".py",
   "mimetype": "text/x-python",
   "name": "python",
   "nbconvert_exporter": "python",
   "pygments_lexer": "ipython3",
   "version": "3.9.6"
  },
  "vscode": {
   "interpreter": {
    "hash": "916dbcbb3f70747c44a77c7bcd40155683ae19c65e1c03b4aa3499c5328201f1"
   }
  }
 },
 "nbformat": 4,
 "nbformat_minor": 5
}
