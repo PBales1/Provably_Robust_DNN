{
 "cells": [
  {
   "cell_type": "code",
   "execution_count": 91,
   "id": "661cde4e",
   "metadata": {},
   "outputs": [
    {
     "name": "stdout",
     "output_type": "stream",
     "text": [
      "Requirement already satisfied: torch in /Library/Frameworks/Python.framework/Versions/3.9/lib/python3.9/site-packages (2.0.0)\n",
      "Requirement already satisfied: sympy in /Library/Frameworks/Python.framework/Versions/3.9/lib/python3.9/site-packages (from torch) (1.11.1)\n",
      "Requirement already satisfied: filelock in /Library/Frameworks/Python.framework/Versions/3.9/lib/python3.9/site-packages (from torch) (3.12.0)\n",
      "Requirement already satisfied: typing-extensions in /Library/Frameworks/Python.framework/Versions/3.9/lib/python3.9/site-packages (from torch) (4.5.0)\n",
      "Requirement already satisfied: jinja2 in /Users/patrickbales/Library/Python/3.9/lib/python/site-packages (from torch) (3.1.2)\n",
      "Requirement already satisfied: networkx in /Library/Frameworks/Python.framework/Versions/3.9/lib/python3.9/site-packages (from torch) (3.1)\n",
      "Requirement already satisfied: MarkupSafe>=2.0 in /Users/patrickbales/Library/Python/3.9/lib/python/site-packages (from jinja2->torch) (2.1.1)\n",
      "Requirement already satisfied: mpmath>=0.19 in /Library/Frameworks/Python.framework/Versions/3.9/lib/python3.9/site-packages (from sympy->torch) (1.3.0)\n",
      "\u001b[33mWARNING: You are using pip version 21.1.3; however, version 23.1.2 is available.\n",
      "You should consider upgrading via the '/usr/local/bin/python3 -m pip install --upgrade pip' command.\u001b[0m\n",
      "Requirement already satisfied: torchvision in /Library/Frameworks/Python.framework/Versions/3.9/lib/python3.9/site-packages (0.15.1)\n",
      "Requirement already satisfied: requests in /Library/Frameworks/Python.framework/Versions/3.9/lib/python3.9/site-packages (from torchvision) (2.29.0)\n",
      "Requirement already satisfied: torch==2.0.0 in /Library/Frameworks/Python.framework/Versions/3.9/lib/python3.9/site-packages (from torchvision) (2.0.0)\n",
      "Requirement already satisfied: pillow!=8.3.*,>=5.3.0 in /Library/Frameworks/Python.framework/Versions/3.9/lib/python3.9/site-packages (from torchvision) (9.5.0)\n",
      "Requirement already satisfied: numpy in /Library/Frameworks/Python.framework/Versions/3.9/lib/python3.9/site-packages (from torchvision) (1.24.3)\n",
      "Requirement already satisfied: typing-extensions in /Library/Frameworks/Python.framework/Versions/3.9/lib/python3.9/site-packages (from torch==2.0.0->torchvision) (4.5.0)\n",
      "Requirement already satisfied: sympy in /Library/Frameworks/Python.framework/Versions/3.9/lib/python3.9/site-packages (from torch==2.0.0->torchvision) (1.11.1)\n",
      "Requirement already satisfied: jinja2 in /Users/patrickbales/Library/Python/3.9/lib/python/site-packages (from torch==2.0.0->torchvision) (3.1.2)\n",
      "Requirement already satisfied: networkx in /Library/Frameworks/Python.framework/Versions/3.9/lib/python3.9/site-packages (from torch==2.0.0->torchvision) (3.1)\n",
      "Requirement already satisfied: filelock in /Library/Frameworks/Python.framework/Versions/3.9/lib/python3.9/site-packages (from torch==2.0.0->torchvision) (3.12.0)\n",
      "Requirement already satisfied: MarkupSafe>=2.0 in /Users/patrickbales/Library/Python/3.9/lib/python/site-packages (from jinja2->torch==2.0.0->torchvision) (2.1.1)\n",
      "Requirement already satisfied: charset-normalizer<4,>=2 in /Library/Frameworks/Python.framework/Versions/3.9/lib/python3.9/site-packages (from requests->torchvision) (3.1.0)\n",
      "Requirement already satisfied: idna<4,>=2.5 in /Users/patrickbales/Library/Python/3.9/lib/python/site-packages (from requests->torchvision) (3.4)\n",
      "Requirement already satisfied: urllib3<1.27,>=1.21.1 in /Library/Frameworks/Python.framework/Versions/3.9/lib/python3.9/site-packages (from requests->torchvision) (1.26.15)\n",
      "Requirement already satisfied: certifi>=2017.4.17 in /Library/Frameworks/Python.framework/Versions/3.9/lib/python3.9/site-packages (from requests->torchvision) (2022.12.7)\n",
      "Requirement already satisfied: mpmath>=0.19 in /Library/Frameworks/Python.framework/Versions/3.9/lib/python3.9/site-packages (from sympy->torch==2.0.0->torchvision) (1.3.0)\n",
      "\u001b[33mWARNING: You are using pip version 21.1.3; however, version 23.1.2 is available.\n",
      "You should consider upgrading via the '/usr/local/bin/python3 -m pip install --upgrade pip' command.\u001b[0m\n",
      "Requirement already satisfied: numpy in /Library/Frameworks/Python.framework/Versions/3.9/lib/python3.9/site-packages (1.24.3)\n",
      "\u001b[33mWARNING: You are using pip version 21.1.3; however, version 23.1.2 is available.\n",
      "You should consider upgrading via the '/usr/local/bin/python3 -m pip install --upgrade pip' command.\u001b[0m\n",
      "Requirement already satisfied: matplotlib in /Library/Frameworks/Python.framework/Versions/3.9/lib/python3.9/site-packages (3.7.1)\n",
      "Requirement already satisfied: numpy>=1.20 in /Library/Frameworks/Python.framework/Versions/3.9/lib/python3.9/site-packages (from matplotlib) (1.24.3)\n",
      "Requirement already satisfied: pillow>=6.2.0 in /Library/Frameworks/Python.framework/Versions/3.9/lib/python3.9/site-packages (from matplotlib) (9.5.0)\n",
      "Requirement already satisfied: fonttools>=4.22.0 in /Library/Frameworks/Python.framework/Versions/3.9/lib/python3.9/site-packages (from matplotlib) (4.39.3)\n",
      "Requirement already satisfied: importlib-resources>=3.2.0 in /Library/Frameworks/Python.framework/Versions/3.9/lib/python3.9/site-packages (from matplotlib) (5.12.0)\n",
      "Requirement already satisfied: cycler>=0.10 in /Library/Frameworks/Python.framework/Versions/3.9/lib/python3.9/site-packages (from matplotlib) (0.11.0)\n",
      "Requirement already satisfied: kiwisolver>=1.0.1 in /Library/Frameworks/Python.framework/Versions/3.9/lib/python3.9/site-packages (from matplotlib) (1.4.4)\n",
      "Requirement already satisfied: packaging>=20.0 in /Users/patrickbales/Library/Python/3.9/lib/python/site-packages (from matplotlib) (21.3)\n",
      "Requirement already satisfied: contourpy>=1.0.1 in /Library/Frameworks/Python.framework/Versions/3.9/lib/python3.9/site-packages (from matplotlib) (1.0.7)\n",
      "Requirement already satisfied: pyparsing>=2.3.1 in /Users/patrickbales/Library/Python/3.9/lib/python/site-packages (from matplotlib) (3.0.9)\n",
      "Requirement already satisfied: python-dateutil>=2.7 in /Users/patrickbales/Library/Python/3.9/lib/python/site-packages (from matplotlib) (2.8.2)\n",
      "Requirement already satisfied: zipp>=3.1.0 in /Users/patrickbales/Library/Python/3.9/lib/python/site-packages (from importlib-resources>=3.2.0->matplotlib) (3.10.0)\n",
      "Requirement already satisfied: six>=1.5 in /Users/patrickbales/Library/Python/3.9/lib/python/site-packages (from python-dateutil>=2.7->matplotlib) (1.16.0)\n",
      "\u001b[33mWARNING: You are using pip version 21.1.3; however, version 23.1.2 is available.\n",
      "You should consider upgrading via the '/usr/local/bin/python3 -m pip install --upgrade pip' command.\u001b[0m\n"
     ]
    }
   ],
   "source": [
    "import sys\n",
    "!{sys.executable} -m pip install torch\n",
    "!{sys.executable} -m pip install torchvision\n",
    "!{sys.executable} -m pip install numpy\n",
    "!{sys.executable} -m pip install matplotlib\n",
    "import numpy as np\n",
    "import matplotlib.pyplot as plt\n",
    "import torch\n",
    "import torchvision\n",
    "import torchvision.transforms as transforms\n",
    "import torch.nn as nn\n",
    "import torch.nn.functional as F\n",
    "import torch.optim as optim\n",
    "\n",
    "import copy\n",
    "\n",
    "#import warnings\n",
    "#warnings.filterwarnings('ignore')"
   ]
  },
  {
   "attachments": {},
   "cell_type": "markdown",
   "id": "2f796aee",
   "metadata": {},
   "source": [
    "Detect if GPU available, otherwise use CPU"
   ]
  },
  {
   "cell_type": "code",
   "execution_count": 92,
   "id": "2f282b10",
   "metadata": {},
   "outputs": [
    {
     "name": "stdout",
     "output_type": "stream",
     "text": [
      "cpu\n"
     ]
    }
   ],
   "source": [
    "# device = torch.device(\"cuda:0\" if torch.cuda.is_available() else \"cpu\")\n",
    "device = torch.device(\"cpu\")\n",
    "print(device)"
   ]
  },
  {
   "attachments": {},
   "cell_type": "markdown",
   "id": "bab4c9a3",
   "metadata": {},
   "source": [
    "Load MNIST dataset of $28 \\times 28$ images. Training does NOT use the test set."
   ]
  },
  {
   "cell_type": "code",
   "execution_count": 93,
   "id": "051e4c87",
   "metadata": {},
   "outputs": [],
   "source": [
    "transform = transforms.Compose(\n",
    "    [transforms.ToTensor(),\n",
    "     transforms.Normalize((0.5,), (0.5,))])\n",
    "\n",
    "trainset = torchvision.datasets.MNIST(root='../data', train=True, download=True, transform=transform)\n",
    "\n",
    "trainloader = torch.utils.data.DataLoader(trainset, batch_size=4,\n",
    "                                          shuffle=True, num_workers=2)\n",
    "\n",
    "testset = torchvision.datasets.MNIST(root='../data', train=False,\n",
    "                                       download=True, transform=transform)\n",
    "\n",
    "testloader = torch.utils.data.DataLoader(testset, batch_size=4,\n",
    "                                         shuffle=False, num_workers=2)"
   ]
  },
  {
   "cell_type": "code",
   "execution_count": 94,
   "id": "87eea90d",
   "metadata": {},
   "outputs": [],
   "source": [
    "def imshow(img):\n",
    "    '''\n",
    "    Visualizes IMG.\n",
    "    IMG should be a 2D torch Tensor.\n",
    "    '''\n",
    "    img = img / 2 + 0.5     # unnormalize\n",
    "    npimg = img.detach().numpy()\n",
    "    plt.imshow(npimg, cmap='gray')\n",
    "    plt.show()"
   ]
  },
  {
   "attachments": {},
   "cell_type": "markdown",
   "metadata": {
    "colab": {},
    "colab_type": "code",
    "id": "y3oepvCSLyfi"
   },
   "source": [
    "# Primal Network"
   ]
  },
  {
   "attachments": {},
   "cell_type": "markdown",
   "id": "98adced1",
   "metadata": {},
   "source": [
    "This is the definition of the neural classifier for a custom number of layers (depth) and width. The first layer still has $28 \\times 28$ features, and the output layer still has ten output classes (0-9)."
   ]
  },
  {
   "cell_type": "code",
   "execution_count": 95,
   "id": "9cb6c3c2",
   "metadata": {},
   "outputs": [],
   "source": [
    "class Net(nn.Module):\n",
    "  \n",
    "  #Constructor with default NN width = 256 and default NN depth = 3\n",
    "  def __init__(self, width=256, depth=3):\n",
    "    super().__init__()\n",
    "    self.layers = nn.ModuleList()\n",
    "    self.width = width\n",
    "    self.depth = depth\n",
    "    for w in range(0, depth - 1):\n",
    "      if w == 0:\n",
    "        self.layers.append(nn.Linear(in_features = 28*28, out_features = width))\n",
    "      elif w == depth - 2:\n",
    "        self.layers.append(nn.Linear(in_features = width, out_features = 10))   \n",
    "      else:\n",
    "        self.layers.append(nn.Linear(in_features = width, out_features = width))\n",
    "  \n",
    "  def forward(self, t):\n",
    "    '''\n",
    "    On input T, performs a affine transformation, then\n",
    "    a ReLU, then another affine transformation.\n",
    "    '''\n",
    "    self.z = []\n",
    "    \n",
    "    t = t.reshape(-1, 28*28)\n",
    "    for i in range(0, self.depth - 1):\n",
    "      t = self.layers[i](t)\n",
    "      self.z.append(t)\n",
    "      if i != self.depth - 2:\n",
    "        t = F.relu(t)\n",
    "    return t\n",
    "  "
   ]
  },
  {
   "attachments": {},
   "cell_type": "markdown",
   "id": "62d149ab",
   "metadata": {},
   "source": [
    "Provided training code using Adam."
   ]
  },
  {
   "cell_type": "code",
   "execution_count": 96,
   "id": "8e70c44e",
   "metadata": {},
   "outputs": [],
   "source": [
    "def train(net, criterion, trainloader, lr=0.001):\n",
    "    '''\n",
    "    Uses the Adam optimization algorithm to train \n",
    "    the classifier NET on training data from TRAINLOADER,\n",
    "    on loss function CRITERION, with learning rate LR.\n",
    "    \n",
    "    Note that we half the learning rate each epoch.\n",
    "    '''\n",
    "    optimizer = optim.Adam(net.parameters(), lr=lr)\n",
    "    \n",
    "    for epoch in range(3):\n",
    "        for i, data in enumerate(trainloader, 0):\n",
    "            for param_group in optimizer.param_groups:\n",
    "                param_group['lr'] = lr * 0.5 ** (epoch)\n",
    "\n",
    "            inputs, labels = data[0].to(device), data[1].to(device)\n",
    "            optimizer.zero_grad()\n",
    "            outputs = net(inputs)\n",
    "            loss = criterion(outputs, labels)\n",
    "            loss.backward()\n",
    "            optimizer.step()\n",
    "    \n",
    "            if i % 500 == 0:\n",
    "                print('Epoch', epoch, 'Iter:', i, 'Loss', loss.item())"
   ]
  },
  {
   "attachments": {},
   "cell_type": "markdown",
   "id": "e43d9cc3",
   "metadata": {},
   "source": [
    "Train the network using cross entropy loss. Note that this is equivalent to maximizing the KL-divergence."
   ]
  },
  {
   "cell_type": "code",
   "execution_count": 97,
   "id": "ea0df5c7",
   "metadata": {},
   "outputs": [
    {
     "name": "stdout",
     "output_type": "stream",
     "text": [
      "Epoch 0 Iter: 0 Loss 2.4570345878601074\n",
      "Epoch 0 Iter: 500 Loss 0.5465792417526245\n",
      "Epoch 0 Iter: 1000 Loss 0.25039124488830566\n",
      "Epoch 0 Iter: 1500 Loss 0.33524635434150696\n",
      "Epoch 0 Iter: 2000 Loss 1.2989203929901123\n",
      "Epoch 0 Iter: 2500 Loss 0.09017926454544067\n",
      "Epoch 0 Iter: 3000 Loss 0.030109332874417305\n",
      "Epoch 0 Iter: 3500 Loss 0.045318085700273514\n",
      "Epoch 0 Iter: 4000 Loss 0.0339912585914135\n",
      "Epoch 0 Iter: 4500 Loss 0.6339851021766663\n",
      "Epoch 0 Iter: 5000 Loss 0.012992043979465961\n",
      "Epoch 0 Iter: 5500 Loss 0.04812215641140938\n",
      "Epoch 0 Iter: 6000 Loss 1.0319757461547852\n",
      "Epoch 0 Iter: 6500 Loss 0.28269773721694946\n",
      "Epoch 0 Iter: 7000 Loss 0.009229596704244614\n",
      "Epoch 0 Iter: 7500 Loss 0.5691196322441101\n",
      "Epoch 0 Iter: 8000 Loss 0.005976501852273941\n",
      "Epoch 0 Iter: 8500 Loss 0.015561417676508427\n",
      "Epoch 0 Iter: 9000 Loss 0.0759267583489418\n",
      "Epoch 0 Iter: 9500 Loss 0.1143803596496582\n",
      "Epoch 0 Iter: 10000 Loss 0.0059463707730174065\n",
      "Epoch 0 Iter: 10500 Loss 0.00723766116425395\n",
      "Epoch 0 Iter: 11000 Loss 0.007901610806584358\n",
      "Epoch 0 Iter: 11500 Loss 0.09791730344295502\n",
      "Epoch 0 Iter: 12000 Loss 0.01444072276353836\n",
      "Epoch 0 Iter: 12500 Loss 0.007356332615017891\n",
      "Epoch 0 Iter: 13000 Loss 0.04290319234132767\n",
      "Epoch 0 Iter: 13500 Loss 0.003022049320861697\n",
      "Epoch 0 Iter: 14000 Loss 0.06483698636293411\n",
      "Epoch 0 Iter: 14500 Loss 0.0034419975709170103\n",
      "Epoch 1 Iter: 0 Loss 0.007093382067978382\n",
      "Epoch 1 Iter: 500 Loss 0.01037859171628952\n",
      "Epoch 1 Iter: 1000 Loss 0.001529795816168189\n",
      "Epoch 1 Iter: 1500 Loss 1.5477924346923828\n",
      "Epoch 1 Iter: 2000 Loss 0.01952832192182541\n",
      "Epoch 1 Iter: 2500 Loss 0.39396485686302185\n",
      "Epoch 1 Iter: 3000 Loss 0.00041335789137519896\n",
      "Epoch 1 Iter: 3500 Loss 0.30391010642051697\n",
      "Epoch 1 Iter: 4000 Loss 0.0009087836369872093\n",
      "Epoch 1 Iter: 4500 Loss 0.0010140304220840335\n",
      "Epoch 1 Iter: 5000 Loss 0.012628192082047462\n",
      "Epoch 1 Iter: 5500 Loss 0.12598516047000885\n",
      "Epoch 1 Iter: 6000 Loss 0.008305703289806843\n",
      "Epoch 1 Iter: 6500 Loss 0.0030606715008616447\n",
      "Epoch 1 Iter: 7000 Loss 0.044974762946367264\n",
      "Epoch 1 Iter: 7500 Loss 0.005749543663114309\n",
      "Epoch 1 Iter: 8000 Loss 0.006652842741459608\n",
      "Epoch 1 Iter: 8500 Loss 0.01261984184384346\n",
      "Epoch 1 Iter: 9000 Loss 0.006866796873509884\n",
      "Epoch 1 Iter: 9500 Loss 0.08773001283407211\n",
      "Epoch 1 Iter: 10000 Loss 0.2347969114780426\n",
      "Epoch 1 Iter: 10500 Loss 0.002699486445635557\n",
      "Epoch 1 Iter: 11000 Loss 1.4950478076934814\n",
      "Epoch 1 Iter: 11500 Loss 0.022511497139930725\n",
      "Epoch 1 Iter: 12000 Loss 0.0006575715378858149\n",
      "Epoch 1 Iter: 12500 Loss 0.6678046584129333\n",
      "Epoch 1 Iter: 13000 Loss 0.01453294139355421\n",
      "Epoch 1 Iter: 13500 Loss 0.05212467908859253\n",
      "Epoch 1 Iter: 14000 Loss 0.0016828544903546572\n",
      "Epoch 1 Iter: 14500 Loss 0.00020463153487071395\n",
      "Epoch 2 Iter: 0 Loss 0.01984761282801628\n",
      "Epoch 2 Iter: 500 Loss 0.005702958907932043\n",
      "Epoch 2 Iter: 1000 Loss 0.0018168281530961394\n",
      "Epoch 2 Iter: 1500 Loss 0.0024530738592147827\n",
      "Epoch 2 Iter: 2000 Loss 0.007260047364979982\n",
      "Epoch 2 Iter: 2500 Loss 0.006696394644677639\n",
      "Epoch 2 Iter: 3000 Loss 0.036185648292303085\n",
      "Epoch 2 Iter: 3500 Loss 0.0015637961914762855\n",
      "Epoch 2 Iter: 4000 Loss 0.00012831055209971964\n",
      "Epoch 2 Iter: 4500 Loss 0.01164629589766264\n",
      "Epoch 2 Iter: 5000 Loss 0.0017735984874889255\n",
      "Epoch 2 Iter: 5500 Loss 0.009889496490359306\n",
      "Epoch 2 Iter: 6000 Loss 0.0015035358956083655\n",
      "Epoch 2 Iter: 6500 Loss 0.29787853360176086\n",
      "Epoch 2 Iter: 7000 Loss 0.017922045662999153\n",
      "Epoch 2 Iter: 7500 Loss 0.008063776418566704\n",
      "Epoch 2 Iter: 8000 Loss 0.05305107682943344\n",
      "Epoch 2 Iter: 8500 Loss 0.003703427966684103\n",
      "Epoch 2 Iter: 9000 Loss 0.23468881845474243\n",
      "Epoch 2 Iter: 9500 Loss 0.01565898396074772\n",
      "Epoch 2 Iter: 10000 Loss 0.01607399620115757\n",
      "Epoch 2 Iter: 10500 Loss 0.028256280347704887\n",
      "Epoch 2 Iter: 11000 Loss 0.00033355329651385546\n",
      "Epoch 2 Iter: 11500 Loss 0.018739689141511917\n",
      "Epoch 2 Iter: 12000 Loss 0.338876336812973\n",
      "Epoch 2 Iter: 12500 Loss 0.009724424220621586\n",
      "Epoch 2 Iter: 13000 Loss 0.037790872156620026\n",
      "Epoch 2 Iter: 13500 Loss 0.16597235202789307\n",
      "Epoch 2 Iter: 14000 Loss 0.008920767344534397\n",
      "Epoch 2 Iter: 14500 Loss 0.11073758453130722\n"
     ]
    }
   ],
   "source": [
    "net = Net(width=256, depth=5)\n",
    "net.to(device)\n",
    "\n",
    "criterion = nn.CrossEntropyLoss()\n",
    "\n",
    "train(net, criterion, trainloader, 0.001)"
   ]
  },
  {
   "cell_type": "code",
   "execution_count": 98,
   "id": "7a3a2618",
   "metadata": {},
   "outputs": [],
   "source": [
    "test_iter = iter(testloader)"
   ]
  },
  {
   "cell_type": "code",
   "execution_count": 99,
   "id": "cd97fc13",
   "metadata": {},
   "outputs": [
    {
     "data": {
      "image/png": "[encoded data removed]",
      "text/plain": [
       "<Figure size 640x480 with 1 Axes>"
      ]
     },
     "metadata": {},
     "output_type": "display_data"
    },
    {
     "name": "stdout",
     "output_type": "stream",
     "text": [
      "Classifier output: tensor([[ -8.3079,  -6.3957,  -0.4523,  -2.1444, -15.5134, -10.5019, -23.6269,\n",
      "           8.9820,  -8.2108,  -1.6679]])\n",
      "Classifier prediction: 7\n"
     ]
    }
   ],
   "source": [
    "x, labels = next(test_iter)\n",
    "x = x[0].unsqueeze(0)\n",
    "labels = labels[0].unsqueeze(0)\n",
    "imshow(x[0,0])\n",
    "\n",
    "x = x.to(device)\n",
    "labels = labels.to(device)\n",
    "\n",
    "out = net(x).data\n",
    "print('Classifier output:', out)\n",
    "print('Classifier prediction:', torch.argmax(out).item())"
   ]
  },
  {
   "attachments": {},
   "cell_type": "markdown",
   "id": "d65bfa74",
   "metadata": {},
   "source": [
    "Let's look at accuracy now."
   ]
  },
  {
   "cell_type": "code",
   "execution_count": 100,
   "id": "d016288f",
   "metadata": {},
   "outputs": [],
   "source": [
    "def accuracy(net, testloader):\n",
    "    '''\n",
    "    Returns the accuracy of classifier NET\n",
    "    on test data from TESTLOADER.\n",
    "    '''\n",
    "    correct = 0\n",
    "    total = 0\n",
    "    with torch.no_grad():\n",
    "        for data in testloader:\n",
    "            images, labels = data[0].to(device), data[1].to(device)\n",
    "            outputs = net(images)\n",
    "            _, predicted = torch.max(outputs.data, 1)\n",
    "            total += labels.size(0)\n",
    "            correct += (predicted == labels).sum().item()\n",
    "\n",
    "    return correct / total"
   ]
  },
  {
   "cell_type": "code",
   "execution_count": 101,
   "id": "d681f096",
   "metadata": {},
   "outputs": [
    {
     "name": "stdout",
     "output_type": "stream",
     "text": [
      "Classifier accuracy on original test dataset: 0.9681\n"
     ]
    }
   ],
   "source": [
    "print('Classifier accuracy on original test dataset:', accuracy(net, testloader))"
   ]
  },
  {
   "cell_type": "markdown",
   "id": "26ceb29d",
   "metadata": {},
   "source": [
    "Implement FGSM Method:"
   ]
  },
  {
   "cell_type": "code",
   "execution_count": 102,
   "id": "f095acd9",
   "metadata": {},
   "outputs": [],
   "source": [
    "def FGSM(x, labels, net, eps):\n",
    "    '''\n",
    "    Given an input image X and its corresponding labels\n",
    "    LABELS, as well as a classifier NET, returns X\n",
    "    perturbed by EPS using the fast gradient sign method.\n",
    "    '''\n",
    "    net.zero_grad()    # Zero out any gradients from before\n",
    "    x.requires_grad=True    # Keep track of gradients\n",
    "    out = net(x)    # Output of classifier\n",
    "    criterion = nn.CrossEntropyLoss()\n",
    "    loss = criterion(out, labels)   # Classifier's loss\n",
    "    loss.backward()\n",
    "    grads = x.grad.data    # Gradient of loss w/r/t input\n",
    "    return x + eps*torch.sign(grads)"
   ]
  },
  {
   "cell_type": "markdown",
   "id": "0661e90e",
   "metadata": {},
   "source": [
    "Now we define an epsilon value for FGSM perturbation:"
   ]
  },
  {
   "cell_type": "code",
   "execution_count": 103,
   "id": "56a880d3",
   "metadata": {},
   "outputs": [],
   "source": [
    "eps = 0.05"
   ]
  },
  {
   "cell_type": "code",
   "execution_count": 104,
   "id": "7dee895e",
   "metadata": {},
   "outputs": [
    {
     "data": {
      "image/png": "[encoded data removed]",
      "text/plain": [
       "<Figure size 640x480 with 1 Axes>"
      ]
     },
     "metadata": {},
     "output_type": "display_data"
    },
    {
     "name": "stdout",
     "output_type": "stream",
     "text": [
      "Classifier output: tensor([[ -6.4617,  -6.1596,  -0.1138,  -1.7403, -13.0208, -10.1145, -20.2228,\n",
      "           7.0109,  -5.9707,  -0.6640]])\n",
      "Classifier prediction: 7\n"
     ]
    }
   ],
   "source": [
    "# We are using the same sample input x as before.\n",
    "x.requires_grad = True\n",
    "x_prime = FGSM(x, labels, net, eps)\n",
    "imshow(x_prime[0,0].cpu())\n",
    "out = net(x_prime)\n",
    "\n",
    "print('Classifier output:', out.data)\n",
    "print('Classifier prediction:', torch.argmax(out).item())"
   ]
  },
  {
   "cell_type": "markdown",
   "id": "83e3de7e",
   "metadata": {},
   "source": [
    "From original assignment:\n",
    "We should evaluate the classifier's performance on FGSM-perturbed data by the same metric that we will later use in the primal adversarial problem. That is, for the classifier's output vector $\\vec{\\hat{z}}_3$, we want to compute\n",
    "$$\n",
    "\\vec{c}_j^\\top \\vec{\\hat{z}}_3\n",
    "$$\n",
    "where\n",
    "$$\\vec{c}_j={\\vec{y}_{\\text{true}}}-\\vec{e}_{j}$$\n",
    "for each $j\\in[10]$.\n",
    "\n",
    "Recall that \n",
    "$$\\vec{c}_j^\\top \\vec{\\hat{z}}_3=\\vec{\\hat{z}}_{3i_{\\text{true}}}-\\vec{\\hat{z}}_{3j},$$\n",
    "i.e. $\\vec{c}_j^\\top \\vec{\\hat{z}}_3$ is the difference between the classifier's confidence on the true class and the $j$th (incorrect) class. If $\\vec{c}_j^\\top \\vec{\\hat{z}}_3$ is positive for all incorrect $j$, then the classifier was not fooled by the adversarial perturbation."
   ]
  },
  {
   "cell_type": "code",
   "execution_count": 105,
   "id": "14e89790",
   "metadata": {},
   "outputs": [
    {
     "name": "stdout",
     "output_type": "stream",
     "text": [
      "0 13.472633361816406\n",
      "1 13.170486450195312\n",
      "2 7.12475061416626\n",
      "3 8.751242637634277\n",
      "4 20.031742095947266\n",
      "5 17.125381469726562\n",
      "6 27.23370361328125\n",
      "8 12.98165225982666\n",
      "9 7.674871444702148\n"
     ]
    }
   ],
   "source": [
    "for i in range(10):\n",
    "    c = torch.zeros(10, 1).to(device)\n",
    "    if i != labels:\n",
    "        c[i] = -1\n",
    "        c[labels] = 1\n",
    "        print(i, (out @ c).item())"
   ]
  },
  {
   "cell_type": "code",
   "execution_count": 106,
   "id": "988e339c",
   "metadata": {},
   "outputs": [],
   "source": [
    "def accuracy_on_FGSM(net, testloader, eps):\n",
    "    '''\n",
    "    Returns the accuracy of classifier NET on test\n",
    "    data from TESTLOADER that has been perturbed by\n",
    "    EPS using FSGM.\n",
    "    '''\n",
    "    correct = 0\n",
    "    total = 0\n",
    "    for data in testloader:\n",
    "        x, labels = data[0].to(device), data[1].to(device)\n",
    "        x_prime = FGSM(x, labels, net, eps)\n",
    "        outputs = net(x_prime)\n",
    "        _, predicted = torch.max(outputs.data, 1)\n",
    "        total += labels.size(0)\n",
    "        correct += (predicted == labels).sum().item()\n",
    "\n",
    "    return correct / total"
   ]
  },
  {
   "cell_type": "code",
   "execution_count": 107,
   "id": "c224a172",
   "metadata": {},
   "outputs": [
    {
     "name": "stdout",
     "output_type": "stream",
     "text": [
      "Classifier accuracy on test dataset perturbed with FGSM: 0.8816\n"
     ]
    }
   ],
   "source": [
    "print('Classifier accuracy on test dataset perturbed with FGSM:', accuracy_on_FGSM(net, testloader, eps))"
   ]
  },
  {
   "cell_type": "markdown",
   "id": "f58d6284",
   "metadata": {},
   "source": [
    "# Dual Network"
   ]
  },
  {
   "cell_type": "markdown",
   "id": "2578abfa",
   "metadata": {},
   "source": [
    "From original assignment: $\\newline$\n",
    "Here, we will implement the dual network. First, we write the function to compute upper and lower bounds for the dual network. This function should take an input image, the trained classifier, and an epsilon value, and return the tuple\n",
    "$$(\\vec{l},\\vec{u},S,S^-,S^+)$$\n",
    "where $\\vec{u}$ and $\\vec{l}$ are the upper and lower bounds, respectively, for the input to the ReLU layer, and $S^-,S^+,S$ are sets defined by\n",
    "\n",
    "$$\n",
    "\\begin{aligned}\n",
    "&S:=\\{j\\in [n_2]\\mid l_{j}\\leq 0\\leq u_{j}\\}\\\\\n",
    "&S^{-}:=\\{j\\in [n_2]\\mid l_{j}\\leq u_{j}\\leq 0\\}\\\\\n",
    "&S^{+}:=\\{j\\in [n_2]\\mid 0\\leq l_{j}\\leq u_{j}\\}.\n",
    "\\end{aligned}\n",
    "$$\n",
    "\n",
    "See Section 6 of the PDF for more details."
   ]
  },
  {
   "cell_type": "code",
   "execution_count": 108,
   "id": "f3a885eb",
   "metadata": {},
   "outputs": [],
   "source": [
    "def dual_bounds(x, net, eps):\n",
    "    '''\n",
    "    Given a classifier NET, an input image X,\n",
    "    and the epsilon parameter EPS, returns the lower\n",
    "    and upper bounds L and U respectively, as well as\n",
    "    the corresponding sets S, S_MIN, S_PLUS.\n",
    "    '''\n",
    "    x = x[0].reshape(-1, 1)    # Reshape input to more convenient dimensions\n",
    "    W = [layer.weight for layer in net.layers]    # Array of network weights (W matrices)\n",
    "    b = [layer.bias.reshape(-1, 1) for layer in net.layers]    # Array of network biases (b vectors)\n",
    "    n = W[1].shape[1]    # Dimensionality of hidden layer\n",
    "\n",
    "    U = []\n",
    "    L = []\n",
    "    S = []\n",
    "    S_plus = []\n",
    "    S_min = []\n",
    "\n",
    "    for j in range(0, net.depth - 2):\n",
    "\n",
    "        u = torch.Tensor([W[0][i] @ x + b[j][i] + eps * torch.norm(W[0][i], 1) for i in range(0, n)])\n",
    "        l = torch.Tensor([W[0][i] @ x + b[j][i] - eps * torch.norm(W[0][i], 1) for i in range(0, n)])\n",
    "        #u = torch.Tensor([W[j][i] @ net.z[j-1] + b[j][i] + eps * torch.norm(W[j][i], 1) for i in range(0, n)])\n",
    "        #l = torch.Tensor([W[j][i] @ net.z[j-1] + b[j][i] - eps * torch.norm(W[j][i], 1) for i in range(0, n)])\n",
    "        \n",
    "        U.append(u)\n",
    "        L.append(l)\n",
    "\n",
    "        s = [i for i in range(0, n) if l[i] <= 0 and u[i] >= 0]\n",
    "        s_plus = [i for i in range(0, n) if l[i] <= u[i] and l[i] >= 0]\n",
    "        s_min = [i for i in range(0, n) if u[i] <= 0 and u[i] >= l[i]]\n",
    "        S.append(s)\n",
    "        S_plus.append(s_plus)\n",
    "        S_min.append(s_min)\n",
    "\n",
    "    return L, U, S, S_min, S_plus"
   ]
  },
  {
   "cell_type": "markdown",
   "id": "53882d78",
   "metadata": {},
   "source": [
    "From original assignment: $\\newline$\n",
    "Given the tuple $(l,u,S,S^-,S^+)$, we are ready to calculate the dual objective itself. This function should take in an input image, the classifier, a vector $c$, and the $(l,u,S,S^-,S^+)$ from the previous function in order to output \n",
    "$$\n",
    "d^*(\\vec{x},\\vec{c})= \n",
    "-\\vec{\\hat{\\nu}}_1^\\top \\vec{x}-\\varepsilon\\|\\vec{\\hat{\\nu}}_1\\|_1-\\sum_{i=1}^{2}\\vec{\\nu}_{i+1}^\\top \\vec{b}_i+\\sum_{j\\in S\\\n",
    "}l_{j}\\text{ReLU}(\\nu_{2j})\n",
    "$$\n",
    "\n",
    "Where the $\\vec{\\nu}$ vectors are computed as\n",
    "$$\n",
    "\\begin{aligned}\n",
    "&\\vec{\\nu}_3=-\\vec{c}\\\\\n",
    "&\\vec{\\hat{\\nu}}_2=W_2^\\top \\vec{\\nu}_{3}\\\\\n",
    "&\\nu_{2j}=0 && \\forall j\\in S^-\\\\\n",
    "&\\nu_{2j}=\\hat{\\nu}_{2j} && \\forall j\\in S^+\\\\\n",
    "&\\nu_{2j}=\\dfrac{u_{j}}{u_{j}-l_{j}}\\hat{\\nu}_{2j} && \\forall j\\in S\\\\\n",
    "&\\vec{\\hat{\\nu}}_1=W_1^\\top \\vec{\\nu_{2}}\n",
    "&\\end{aligned}.\n",
    "$$\n",
    "\n",
    "Again, see Section 6 of the PDF for more details.\n",
    "\n",
    "One efficient way to compute $\\vec{\\nu}_2$ is to rewrite it as\n",
    "$$\\vec{\\nu}_2= D\\vec{\\hat{\\nu}}_2,$$\n",
    "where $D$ is a diagonal matrix defined  by\n",
    "$$\n",
    "D_{jj}=\\begin{cases}\n",
    "0 & j\\in S^-\\\\\n",
    "\\hat{\\nu}_{2j} & j\\in S^+\\\\\n",
    "\\dfrac{u_{j}}{u_{j}-l_{j}}\\hat{\\nu}_{2j} & j\\in S.\n",
    "\\end{cases}\n",
    "$$"
   ]
  },
  {
   "cell_type": "code",
   "execution_count": 109,
   "id": "7fbd7687",
   "metadata": {},
   "outputs": [],
   "source": [
    "# Constructs the diagonal D matrix from the S sets, n (the dimensionality\n",
    "# of the hidden layer), u, and l.\n",
    "def StoD(S_min, S_plus, S, n, U, L):\n",
    "    '''\n",
    "    Given upper and lower bounds U and L, as well\n",
    "    as the corresponding sets S_MIN, S_PLUS, and S,\n",
    "    as well as the dimension of the hidden layer N,\n",
    "    returns the corresponding diagonal matrix D.\n",
    "    '''\n",
    "    D = []\n",
    "    for i in range(0, net.depth - 2):\n",
    "        d = []\n",
    "        for j in range(n):\n",
    "            if j in S[i]:\n",
    "                d.append((U[i][j] / (U[i][j] - L[i][j])).item())\n",
    "            elif j in S_plus[i]:\n",
    "                d.append(1)\n",
    "            elif j in S_min[i]:\n",
    "                d.append(0)\n",
    "            else:\n",
    "                assert False, 'StoD error.'\n",
    "        D.append(torch.diag(torch.Tensor(d)).to(device))\n",
    "    return D\n",
    "\n",
    "def dual_forward(x, net, c, eps, L, U, S, S_min, S_plus):\n",
    "    '''\n",
    "    Calculates the dual objective for classifier NET with input X\n",
    "    and dual input C and epsilon parameter S. Depends on lower\n",
    "    and upper bounds L and U, as well as the corresponding sets\n",
    "    S, S_MIN, S_PLUS.\n",
    "    '''\n",
    "    x = x[0].reshape(-1, 1)    # Reshape input to more convenient dimensions\n",
    "    W = [layer.weight for layer in net.layers]    # Array of network weights (W matrices)\n",
    "    b = [layer.bias.reshape(-1, 1) for layer in net.layers]    # Array of network biases (b vectors)\n",
    "    n = W[1].shape[1]    # Dimensionality of hidden layer\n",
    "    D = StoD(S_min, S_plus, S, n, U, L)\n",
    "    nu = []\n",
    "    nuh = []\n",
    "\n",
    "    for i in range(0, net.depth - 1):\n",
    "        if i == 0:\n",
    "            nu.append(-c)\n",
    "        else:\n",
    "            nu.append(D[net.depth - 2 - i] @ nuh[i - 1])\n",
    "        nuh.append(W[net.depth - 2 - i].T @ nu[i])\n",
    "    \n",
    "    nuh = nuh[::-1]\n",
    "    nu = nu[::-1]\n",
    "    \n",
    "    nu_sum = 0\n",
    "    for i in range(1, net.depth - 1):\n",
    "        nu_sum += nu[i].T @ b[i]\n",
    "    \n",
    "    relu_sum = 0\n",
    "    for i in range(0, net.depth - 2):\n",
    "        for j in range(len(nu[i])):\n",
    "            if j in S[i]:\n",
    "                relu_sum += L[i][j] * torch.relu(nu[i][j])\n",
    "    dual = -1 * (nuh[0].T @ x) - eps * (torch.norm(nuh[0], 1)) - nu_sum + relu_sum\n",
    "\n",
    "    return dual\n"
   ]
  },
  {
   "cell_type": "code",
   "execution_count": 110,
   "id": "a770ada9",
   "metadata": {},
   "outputs": [],
   "source": [
    "eps = 0.05"
   ]
  },
  {
   "cell_type": "code",
   "execution_count": 111,
   "id": "09899893",
   "metadata": {},
   "outputs": [
    {
     "name": "stdout",
     "output_type": "stream",
     "text": [
      "0 5.794294357299805\n",
      "1 7.093062877655029\n",
      "2 1.7028238773345947\n",
      "3 2.868713140487671\n",
      "4 9.339393615722656\n",
      "5 9.15179443359375\n",
      "6 17.316980361938477\n",
      "8 5.242504119873047\n",
      "9 0.7964228391647339\n"
     ]
    }
   ],
   "source": [
    "# We are still using the same sample input x as before.\n",
    "L, U, S, S_min, S_plus = dual_bounds(x, net, eps)\n",
    "\n",
    "# print(l, u, S, S_min, S_plus)\n",
    "# Here, we loop through each column c_j defined above, and output the \n",
    "# objective value for the dual function with input c.\n",
    "for i in range(10):\n",
    "    c = torch.zeros(10, 1).to(device)\n",
    "    if i != labels:\n",
    "        c[i] = -1\n",
    "        c[labels] = 1\n",
    "        print(i, dual_forward(x, net, c, 0.1, L, U, S, S_min, S_plus).item())"
   ]
  },
  {
   "cell_type": "code",
   "execution_count": 112,
   "id": "16b801c2",
   "metadata": {},
   "outputs": [],
   "source": [
    "def robust_loss(x, label, net, eps, criterion):\n",
    "    '''\n",
    "    Given a batch of input images X, its corresponding lables LABEL,\n",
    "    the classifier NET, epsilon value EPS, and original loss\n",
    "    function CRITERION, returns the robust loss of NET w/r/t\n",
    "    the original loss function, on the input image.\n",
    "    '''\n",
    "    l, u, S, S_min, S_plus = dual_bounds(x, net, eps)\n",
    "    # We assume there are 10 classes.\n",
    "    e_y = torch.zeros(10, 1)\n",
    "    e_y[label] = 1\n",
    "    c = e_y @ torch.ones(1, 10) - torch.eye(10)\n",
    "    J = dual_forward(x, net, c, 0.1, l, u, S, S_min, S_plus).unsqueeze(0)\n",
    "    try:\n",
    "        temp = criterion(-J, label.unsqueeze(0))\n",
    "    except:\n",
    "        temp = criterion(-J, label.unsqueeze(0).expand(1,10))\n",
    "    return temp"
   ]
  },
  {
   "cell_type": "code",
   "execution_count": 113,
   "id": "20e25dde",
   "metadata": {},
   "outputs": [],
   "source": [
    "def robust_train(net, criterion, trainloader, eps, lr=0.001):\n",
    "    '''\n",
    "    Trains the classifier NET using the robust version\n",
    "    of the original loss function CRITERION with paramater EPS,\n",
    "    using training data from TRAINLOADER and with learning rate LR.\n",
    "    \n",
    "    Note that we half the learning rate each epoch.\n",
    "    '''\n",
    "    optimizer = optim.Adam(net.parameters(), lr=lr)\n",
    "        \n",
    "    for epoch in range(3):\n",
    "        for i, data in enumerate(trainloader, 0):\n",
    "            for param_group in optimizer.param_groups:\n",
    "                param_group['lr'] = lr * 0.5 ** (epoch)\n",
    "\n",
    "            inputs, labels = data\n",
    "            optimizer.zero_grad()\n",
    "            loss = 0.0\n",
    "            for k in range(inputs.shape[0]):\n",
    "                x = inputs[k].unsqueeze(0)\n",
    "                label = labels[k].unsqueeze(0)\n",
    "                loss += robust_loss(x, label, net, eps, criterion)\n",
    "            loss.backward()\n",
    "            optimizer.step()\n",
    "            if i % 500 == 0:\n",
    "                print('Epoch', epoch, 'Iter:', i, 'Loss', loss.item())"
   ]
  },
  {
   "cell_type": "code",
   "execution_count": 114,
   "id": "c8df2282",
   "metadata": {},
   "outputs": [],
   "source": [
    "transform = transforms.Compose(\n",
    "    [transforms.ToTensor(),\n",
    "     transforms.Normalize((0.5,), (0.5,))])\n",
    "\n",
    "trainset = torchvision.datasets.MNIST(root='../data', train=True, download=True, transform=transform)\n",
    "\n",
    "trainloader = torch.utils.data.DataLoader(trainset, batch_size=4,\n",
    "                                          shuffle=True, num_workers=2)\n",
    "\n",
    "testset = torchvision.datasets.MNIST(root='../data', train=False,\n",
    "                                       download=True, transform=transform)\n",
    "\n",
    "testloader = torch.utils.data.DataLoader(testset, batch_size=4,\n",
    "                                         shuffle=False, num_workers=2)"
   ]
  },
  {
   "cell_type": "code",
   "execution_count": 115,
   "id": "603259b6",
   "metadata": {},
   "outputs": [
    {
     "name": "stdout",
     "output_type": "stream",
     "text": [
      "Epoch 0 Iter: 0 Loss 8.609464645385742\n",
      "Epoch 0 Iter: 500 Loss 4.92970609664917\n",
      "Epoch 0 Iter: 1000 Loss 2.255551338195801\n",
      "Epoch 0 Iter: 1500 Loss 0.10498781502246857\n",
      "Epoch 0 Iter: 2000 Loss 2.66758131980896\n",
      "Epoch 0 Iter: 2500 Loss 0.7871852517127991\n",
      "Epoch 0 Iter: 3000 Loss 0.0451810397207737\n",
      "Epoch 0 Iter: 3500 Loss 0.2741907835006714\n",
      "Epoch 0 Iter: 4000 Loss 1.05824613571167\n",
      "Epoch 0 Iter: 4500 Loss 0.34902891516685486\n",
      "Epoch 0 Iter: 5000 Loss 1.2454783916473389\n",
      "Epoch 0 Iter: 5500 Loss 5.586648941040039\n",
      "Epoch 0 Iter: 6000 Loss 1.120821237564087\n",
      "Epoch 0 Iter: 6500 Loss 0.03691275045275688\n",
      "Epoch 0 Iter: 7000 Loss 0.024600278586149216\n",
      "Epoch 0 Iter: 7500 Loss 0.07102087140083313\n",
      "Epoch 0 Iter: 8000 Loss 7.181100845336914\n",
      "Epoch 0 Iter: 8500 Loss 0.23928265273571014\n",
      "Epoch 0 Iter: 9000 Loss 0.12368249893188477\n",
      "Epoch 0 Iter: 9500 Loss 2.7950377464294434\n",
      "Epoch 0 Iter: 10000 Loss 0.23784565925598145\n",
      "Epoch 0 Iter: 10500 Loss 0.01970362477004528\n",
      "Epoch 0 Iter: 11000 Loss 1.0196408033370972\n",
      "Epoch 0 Iter: 11500 Loss 0.023141194134950638\n",
      "Epoch 0 Iter: 12000 Loss 0.06160784885287285\n",
      "Epoch 0 Iter: 12500 Loss 0.10309881716966629\n",
      "Epoch 0 Iter: 13000 Loss 0.07546509057283401\n",
      "Epoch 0 Iter: 13500 Loss 0.00047482820809818804\n",
      "Epoch 0 Iter: 14000 Loss 0.08845501393079758\n",
      "Epoch 0 Iter: 14500 Loss 0.15138845145702362\n"
     ]
    }
   ],
   "source": [
    "net = Net(width=256, depth=5)\n",
    "net.to(device)\n",
    "\n",
    "eps = 0.05\n",
    "criterion = nn.CrossEntropyLoss()\n",
    "\n",
    "robust_train(net, criterion, trainloader, eps, 0.001)"
   ]
  },
  {
   "cell_type": "code",
   "execution_count": 116,
   "id": "f0648b19",
   "metadata": {},
   "outputs": [],
   "source": [
    "test_iter = iter(testloader)"
   ]
  },
  {
   "cell_type": "code",
   "execution_count": 117,
   "id": "a80cf4c2",
   "metadata": {},
   "outputs": [
    {
     "data": {
      "image/png": "[encoded data removed]",
      "text/plain": [
       "<Figure size 640x480 with 1 Axes>"
      ]
     },
     "metadata": {},
     "output_type": "display_data"
    },
    {
     "name": "stdout",
     "output_type": "stream",
     "text": [
      "Classifier output: tensor([[ -7.7124,  -6.7953,  -1.6014,  -0.9017, -13.9903,  -3.8141, -21.9031,\n",
      "           6.2065,  -8.6349,  -1.7945]])\n",
      "Classifier prediction: 7\n"
     ]
    }
   ],
   "source": [
    "x, labels = next(test_iter)\n",
    "x = x[0].unsqueeze(0)\n",
    "labels = labels[0].unsqueeze(0)\n",
    "imshow(x[0,0])\n",
    "\n",
    "x = x.to(device)\n",
    "labels = labels.to(device)\n",
    "\n",
    "out = net(x).data\n",
    "print('Classifier output:', out)\n",
    "print('Classifier prediction:', torch.argmax(out).item())"
   ]
  },
  {
   "cell_type": "code",
   "execution_count": 122,
   "id": "bb6c6bca",
   "metadata": {},
   "outputs": [
    {
     "data": {
      "image/png": "[encoded data removed]",
      "text/plain": [
       "<Figure size 640x480 with 1 Axes>"
      ]
     },
     "metadata": {},
     "output_type": "display_data"
    },
    {
     "name": "stdout",
     "output_type": "stream",
     "text": [
      "Classifier output: tensor([[ -7.3082,  -5.2159,  -0.8041,   0.9720, -13.3191,  -2.1906, -20.4274,\n",
      "           4.1395,  -6.5087,  -1.7465]])\n",
      "Classifier prediction: 7\n"
     ]
    }
   ],
   "source": [
    "# We are using the same sample input x as before.\n",
    "x.requires_grad = True\n",
    "x_prime = FGSM(x, labels, net, eps)\n",
    "imshow(x_prime[0,0].cpu())\n",
    "out = net(x_prime)\n",
    "\n",
    "print('Classifier output:', out.data)\n",
    "print('Classifier prediction:', torch.argmax(out).item())"
   ]
  },
  {
   "cell_type": "code",
   "execution_count": 118,
   "id": "bc3623c2",
   "metadata": {},
   "outputs": [],
   "source": [
    "def accuracy(net, testloader):\n",
    "    '''\n",
    "    Returns the accuracy of classifier NET\n",
    "    on test data from TESTLOADER.\n",
    "    '''\n",
    "    correct = 0\n",
    "    total = 0\n",
    "    with torch.no_grad():\n",
    "        for data in testloader:\n",
    "            images, labels = data[0].to(device), data[1].to(device)\n",
    "            outputs = net(images)\n",
    "            _, predicted = torch.max(outputs.data, 1)\n",
    "            total += labels.size(0)\n",
    "            correct += (predicted == labels).sum().item()\n",
    "\n",
    "    return correct / total"
   ]
  },
  {
   "cell_type": "code",
   "execution_count": 119,
   "id": "d24d1203",
   "metadata": {},
   "outputs": [
    {
     "name": "stdout",
     "output_type": "stream",
     "text": [
      "Classifier accuracy on original test dataset: 0.9364\n"
     ]
    }
   ],
   "source": [
    "print('Classifier accuracy on original test dataset:', accuracy(net, testloader))"
   ]
  },
  {
   "cell_type": "code",
   "execution_count": 120,
   "id": "aa645196",
   "metadata": {},
   "outputs": [],
   "source": [
    "def accuracy_on_FGSM(net, testloader, eps):\n",
    "    '''\n",
    "    Returns the accuracy of classifier NET on test\n",
    "    data from TESTLOADER that has been perturbed by\n",
    "    EPS using FSGM.\n",
    "    '''\n",
    "    correct = 0\n",
    "    total = 0\n",
    "    for data in testloader:\n",
    "        x, labels = data[0].to(device), data[1].to(device)\n",
    "        x_prime = FGSM(x, labels, net, eps)\n",
    "        outputs = net(x_prime)\n",
    "        _, predicted = torch.max(outputs.data, 1)\n",
    "        total += labels.size(0)\n",
    "        correct += (predicted == labels).sum().item()\n",
    "\n",
    "    return correct / total"
   ]
  },
  {
   "cell_type": "code",
   "execution_count": 121,
   "id": "e9596d7b",
   "metadata": {},
   "outputs": [
    {
     "name": "stdout",
     "output_type": "stream",
     "text": [
      "Classifier accuracy on test dataset perturbed with FGSM: 0.8267\n"
     ]
    }
   ],
   "source": [
    "print('Classifier accuracy on test dataset perturbed with FGSM:', accuracy_on_FGSM(net, testloader, eps))"
   ]
  },
  {
   "cell_type": "code",
   "execution_count": null,
   "id": "7505da59",
   "metadata": {},
   "outputs": [],
   "source": []
  }
 ],
 "metadata": {
  "kernelspec": {
   "display_name": "Python 3.10.6 64-bit",
   "language": "python",
   "name": "python3"
  },
  "language_info": {
   "codemirror_mode": {
    "name": "ipython",
    "version": 3
   },
   "file_extension": ".py",
   "mimetype": "text/x-python",
   "name": "python",
   "nbconvert_exporter": "python",
   "pygments_lexer": "ipython3",
   "version": "3.9.6"
  },
  "vscode": {
   "interpreter": {
    "hash": "916dbcbb3f70747c44a77c7bcd40155683ae19c65e1c03b4aa3499c5328201f1"
   }
  }
 },
 "nbformat": 4,
 "nbformat_minor": 5
}
