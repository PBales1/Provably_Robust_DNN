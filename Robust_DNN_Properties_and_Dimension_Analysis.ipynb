{
 "cells": [
  {
   "cell_type": "code",
   "execution_count": 245,
   "id": "661cde4e",
   "metadata": {},
   "outputs": [
    {
     "name": "stdout",
     "output_type": "stream",
     "text": [
      "Requirement already satisfied: torch in /Library/Frameworks/Python.framework/Versions/3.9/lib/python3.9/site-packages (2.0.0)\n",
      "Requirement already satisfied: sympy in /Library/Frameworks/Python.framework/Versions/3.9/lib/python3.9/site-packages (from torch) (1.11.1)\n",
      "Requirement already satisfied: jinja2 in /Users/patrickbales/Library/Python/3.9/lib/python/site-packages (from torch) (3.1.2)\n",
      "Requirement already satisfied: typing-extensions in /Library/Frameworks/Python.framework/Versions/3.9/lib/python3.9/site-packages (from torch) (4.5.0)\n",
      "Requirement already satisfied: filelock in /Library/Frameworks/Python.framework/Versions/3.9/lib/python3.9/site-packages (from torch) (3.12.0)\n",
      "Requirement already satisfied: networkx in /Library/Frameworks/Python.framework/Versions/3.9/lib/python3.9/site-packages (from torch) (3.1)\n",
      "Requirement already satisfied: MarkupSafe>=2.0 in /Users/patrickbales/Library/Python/3.9/lib/python/site-packages (from jinja2->torch) (2.1.1)\n",
      "Requirement already satisfied: mpmath>=0.19 in /Library/Frameworks/Python.framework/Versions/3.9/lib/python3.9/site-packages (from sympy->torch) (1.3.0)\n",
      "\u001b[33mWARNING: You are using pip version 21.1.3; however, version 23.1.2 is available.\n",
      "You should consider upgrading via the '/usr/local/bin/python3 -m pip install --upgrade pip' command.\u001b[0m\n",
      "Requirement already satisfied: torchvision in /Library/Frameworks/Python.framework/Versions/3.9/lib/python3.9/site-packages (0.15.1)\n",
      "Requirement already satisfied: numpy in /Library/Frameworks/Python.framework/Versions/3.9/lib/python3.9/site-packages (from torchvision) (1.24.3)\n",
      "Requirement already satisfied: pillow!=8.3.*,>=5.3.0 in /Library/Frameworks/Python.framework/Versions/3.9/lib/python3.9/site-packages (from torchvision) (9.5.0)\n",
      "Requirement already satisfied: torch==2.0.0 in /Library/Frameworks/Python.framework/Versions/3.9/lib/python3.9/site-packages (from torchvision) (2.0.0)\n",
      "Requirement already satisfied: requests in /Library/Frameworks/Python.framework/Versions/3.9/lib/python3.9/site-packages (from torchvision) (2.29.0)\n",
      "Requirement already satisfied: networkx in /Library/Frameworks/Python.framework/Versions/3.9/lib/python3.9/site-packages (from torch==2.0.0->torchvision) (3.1)\n",
      "Requirement already satisfied: filelock in /Library/Frameworks/Python.framework/Versions/3.9/lib/python3.9/site-packages (from torch==2.0.0->torchvision) (3.12.0)\n",
      "Requirement already satisfied: typing-extensions in /Library/Frameworks/Python.framework/Versions/3.9/lib/python3.9/site-packages (from torch==2.0.0->torchvision) (4.5.0)\n",
      "Requirement already satisfied: jinja2 in /Users/patrickbales/Library/Python/3.9/lib/python/site-packages (from torch==2.0.0->torchvision) (3.1.2)\n",
      "Requirement already satisfied: sympy in /Library/Frameworks/Python.framework/Versions/3.9/lib/python3.9/site-packages (from torch==2.0.0->torchvision) (1.11.1)\n",
      "Requirement already satisfied: MarkupSafe>=2.0 in /Users/patrickbales/Library/Python/3.9/lib/python/site-packages (from jinja2->torch==2.0.0->torchvision) (2.1.1)\n",
      "Requirement already satisfied: idna<4,>=2.5 in /Users/patrickbales/Library/Python/3.9/lib/python/site-packages (from requests->torchvision) (3.4)\n",
      "Requirement already satisfied: certifi>=2017.4.17 in /Library/Frameworks/Python.framework/Versions/3.9/lib/python3.9/site-packages (from requests->torchvision) (2022.12.7)\n",
      "Requirement already satisfied: charset-normalizer<4,>=2 in /Library/Frameworks/Python.framework/Versions/3.9/lib/python3.9/site-packages (from requests->torchvision) (3.1.0)\n",
      "Requirement already satisfied: urllib3<1.27,>=1.21.1 in /Library/Frameworks/Python.framework/Versions/3.9/lib/python3.9/site-packages (from requests->torchvision) (1.26.15)\n",
      "Requirement already satisfied: mpmath>=0.19 in /Library/Frameworks/Python.framework/Versions/3.9/lib/python3.9/site-packages (from sympy->torch==2.0.0->torchvision) (1.3.0)\n",
      "\u001b[33mWARNING: You are using pip version 21.1.3; however, version 23.1.2 is available.\n",
      "You should consider upgrading via the '/usr/local/bin/python3 -m pip install --upgrade pip' command.\u001b[0m\n",
      "Requirement already satisfied: numpy in /Library/Frameworks/Python.framework/Versions/3.9/lib/python3.9/site-packages (1.24.3)\n",
      "\u001b[33mWARNING: You are using pip version 21.1.3; however, version 23.1.2 is available.\n",
      "You should consider upgrading via the '/usr/local/bin/python3 -m pip install --upgrade pip' command.\u001b[0m\n",
      "Requirement already satisfied: matplotlib in /Library/Frameworks/Python.framework/Versions/3.9/lib/python3.9/site-packages (3.7.1)\n",
      "Requirement already satisfied: contourpy>=1.0.1 in /Library/Frameworks/Python.framework/Versions/3.9/lib/python3.9/site-packages (from matplotlib) (1.0.7)\n",
      "Requirement already satisfied: kiwisolver>=1.0.1 in /Library/Frameworks/Python.framework/Versions/3.9/lib/python3.9/site-packages (from matplotlib) (1.4.4)\n",
      "Requirement already satisfied: python-dateutil>=2.7 in /Users/patrickbales/Library/Python/3.9/lib/python/site-packages (from matplotlib) (2.8.2)\n",
      "Requirement already satisfied: pillow>=6.2.0 in /Library/Frameworks/Python.framework/Versions/3.9/lib/python3.9/site-packages (from matplotlib) (9.5.0)\n",
      "Requirement already satisfied: importlib-resources>=3.2.0 in /Library/Frameworks/Python.framework/Versions/3.9/lib/python3.9/site-packages (from matplotlib) (5.12.0)\n",
      "Requirement already satisfied: pyparsing>=2.3.1 in /Users/patrickbales/Library/Python/3.9/lib/python/site-packages (from matplotlib) (3.0.9)\n",
      "Requirement already satisfied: fonttools>=4.22.0 in /Library/Frameworks/Python.framework/Versions/3.9/lib/python3.9/site-packages (from matplotlib) (4.39.3)\n",
      "Requirement already satisfied: numpy>=1.20 in /Library/Frameworks/Python.framework/Versions/3.9/lib/python3.9/site-packages (from matplotlib) (1.24.3)\n",
      "Requirement already satisfied: cycler>=0.10 in /Library/Frameworks/Python.framework/Versions/3.9/lib/python3.9/site-packages (from matplotlib) (0.11.0)\n",
      "Requirement already satisfied: packaging>=20.0 in /Users/patrickbales/Library/Python/3.9/lib/python/site-packages (from matplotlib) (21.3)\n",
      "Requirement already satisfied: zipp>=3.1.0 in /Users/patrickbales/Library/Python/3.9/lib/python/site-packages (from importlib-resources>=3.2.0->matplotlib) (3.10.0)\n",
      "Requirement already satisfied: six>=1.5 in /Users/patrickbales/Library/Python/3.9/lib/python/site-packages (from python-dateutil>=2.7->matplotlib) (1.16.0)\n",
      "\u001b[33mWARNING: You are using pip version 21.1.3; however, version 23.1.2 is available.\n",
      "You should consider upgrading via the '/usr/local/bin/python3 -m pip install --upgrade pip' command.\u001b[0m\n"
     ]
    }
   ],
   "source": [
    "import sys\n",
    "!{sys.executable} -m pip install torch\n",
    "!{sys.executable} -m pip install torchvision\n",
    "!{sys.executable} -m pip install numpy\n",
    "!{sys.executable} -m pip install matplotlib\n",
    "import numpy as np\n",
    "import matplotlib.pyplot as plt\n",
    "import torch\n",
    "import torchvision\n",
    "import torchvision.transforms as transforms\n",
    "import torch.nn as nn\n",
    "import torch.nn.functional as F\n",
    "import torch.optim as optim\n",
    "\n",
    "import copy\n",
    "\n",
    "#import warnings\n",
    "#warnings.filterwarnings('ignore')"
   ]
  },
  {
   "cell_type": "markdown",
   "id": "2f796aee",
   "metadata": {},
   "source": [
    "Detect if GPU available, otherwise use CPU"
   ]
  },
  {
   "cell_type": "code",
   "execution_count": 246,
   "id": "2f282b10",
   "metadata": {},
   "outputs": [
    {
     "name": "stdout",
     "output_type": "stream",
     "text": [
      "cpu\n"
     ]
    }
   ],
   "source": [
    "# device = torch.device(\"cuda:0\" if torch.cuda.is_available() else \"cpu\")\n",
    "device = torch.device(\"cpu\")\n",
    "print(device)"
   ]
  },
  {
   "cell_type": "markdown",
   "id": "bab4c9a3",
   "metadata": {},
   "source": [
    "Load MNIST dataset of $28 \\times 28$ images. Training does NOT use the test set."
   ]
  },
  {
   "cell_type": "code",
   "execution_count": 247,
   "id": "051e4c87",
   "metadata": {},
   "outputs": [],
   "source": [
    "transform = transforms.Compose(\n",
    "    [transforms.ToTensor(),\n",
    "     transforms.Normalize((0.5,), (0.5,))])\n",
    "\n",
    "trainset = torchvision.datasets.MNIST(root='../data', train=True, download=True, transform=transform)\n",
    "\n",
    "trainloader = torch.utils.data.DataLoader(trainset, batch_size=4,\n",
    "                                          shuffle=True, num_workers=2)\n",
    "\n",
    "testset = torchvision.datasets.MNIST(root='../data', train=False,\n",
    "                                       download=True, transform=transform)\n",
    "\n",
    "testloader = torch.utils.data.DataLoader(testset, batch_size=4,\n",
    "                                         shuffle=False, num_workers=2)"
   ]
  },
  {
   "cell_type": "code",
   "execution_count": 248,
   "id": "87eea90d",
   "metadata": {},
   "outputs": [],
   "source": [
    "def imshow(img):\n",
    "    '''\n",
    "    Visualizes IMG.\n",
    "    IMG should be a 2D torch Tensor.\n",
    "    '''\n",
    "    img = img / 2 + 0.5     # unnormalize\n",
    "    npimg = img.detach().numpy()\n",
    "    plt.imshow(npimg, cmap='gray')\n",
    "    plt.show()"
   ]
  },
  {
   "cell_type": "markdown",
   "id": "4409f781",
   "metadata": {
    "colab": {},
    "colab_type": "code",
    "id": "y3oepvCSLyfi"
   },
   "source": [
    "# Primal Network"
   ]
  },
  {
   "cell_type": "markdown",
   "id": "98adced1",
   "metadata": {},
   "source": [
    "This is the definition of the neural classifier for a custom number of layers (depth) and width. The first layer has $28 \\times 28$ features, and the output layer has ten output classes (0-9)."
   ]
  },
  {
   "cell_type": "code",
   "execution_count": 249,
   "id": "9cb6c3c2",
   "metadata": {},
   "outputs": [],
   "source": [
    "class Net(nn.Module):\n",
    "  \n",
    "  #Constructor with default NN width = 256 and default NN depth = 3\n",
    "  def __init__(self, width=256, depth=3):\n",
    "    super().__init__()\n",
    "    self.layers = nn.ModuleList()\n",
    "    self.width = width\n",
    "    self.depth = depth\n",
    "    for w in range(0, depth - 1):\n",
    "      if w == 0:\n",
    "        self.layers.append(nn.Linear(in_features = 28*28, out_features = width))\n",
    "      elif w == depth - 2:\n",
    "        self.layers.append(nn.Linear(in_features = width, out_features = 10))   \n",
    "      else:\n",
    "        self.layers.append(nn.Linear(in_features = width, out_features = width))\n",
    "  \n",
    "  def forward(self, t):\n",
    "    '''\n",
    "    On input T, performs a affine transformation, then\n",
    "    a ReLU, then another affine transformation.\n",
    "    '''\n",
    "    self.z = []\n",
    "    \n",
    "    t = t.reshape(-1, 28*28)\n",
    "    for i in range(0, self.depth - 1):\n",
    "      t = self.layers[i](t)\n",
    "      self.z.append(t)\n",
    "      if i != self.depth - 2:\n",
    "        t = F.relu(t)\n",
    "    return t\n",
    "  "
   ]
  },
  {
   "cell_type": "markdown",
   "id": "62d149ab",
   "metadata": {},
   "source": [
    "Provided training code using Adam."
   ]
  },
  {
   "cell_type": "code",
   "execution_count": 250,
   "id": "8e70c44e",
   "metadata": {},
   "outputs": [],
   "source": [
    "def train(net, criterion, trainloader, lr=0.001):\n",
    "    '''\n",
    "    Uses the Adam optimization algorithm to train \n",
    "    the classifier NET on training data from TRAINLOADER,\n",
    "    on loss function CRITERION, with learning rate LR.\n",
    "    \n",
    "    Note that we half the learning rate each epoch.\n",
    "    '''\n",
    "    optimizer = optim.Adam(net.parameters(), lr=lr)\n",
    "    \n",
    "    for epoch in range(3):\n",
    "        for i, data in enumerate(trainloader, 0):\n",
    "            for param_group in optimizer.param_groups:\n",
    "                param_group['lr'] = lr * 0.5 ** (epoch)\n",
    "\n",
    "            inputs, labels = data[0].to(device), data[1].to(device)\n",
    "            optimizer.zero_grad()\n",
    "            outputs = net(inputs)\n",
    "            loss = criterion(outputs, labels)\n",
    "            loss.backward()\n",
    "            optimizer.step()\n",
    "    \n",
    "            if i % 500 == 0:\n",
    "                print('Epoch', epoch, 'Iter:', i, 'Loss', loss.item())"
   ]
  },
  {
   "cell_type": "markdown",
   "id": "e43d9cc3",
   "metadata": {},
   "source": [
    "Train the network using cross entropy loss. Note that this is equivalent to maximizing the KL-divergence."
   ]
  },
  {
   "cell_type": "code",
   "execution_count": 251,
   "id": "ea0df5c7",
   "metadata": {},
   "outputs": [
    {
     "name": "stdout",
     "output_type": "stream",
     "text": [
      "Epoch 0 Iter: 0 Loss 2.26607346534729\n",
      "Epoch 0 Iter: 500 Loss 0.9088285565376282\n",
      "Epoch 0 Iter: 1000 Loss 0.4042428433895111\n",
      "Epoch 0 Iter: 1500 Loss 0.1429472118616104\n",
      "Epoch 0 Iter: 2000 Loss 0.03242764621973038\n",
      "Epoch 0 Iter: 2500 Loss 0.36778050661087036\n",
      "Epoch 0 Iter: 3000 Loss 0.04359967261552811\n",
      "Epoch 0 Iter: 3500 Loss 0.7173452973365784\n",
      "Epoch 0 Iter: 4000 Loss 0.01818818412721157\n",
      "Epoch 0 Iter: 4500 Loss 0.029021697118878365\n",
      "Epoch 0 Iter: 5000 Loss 0.003510676557198167\n",
      "Epoch 0 Iter: 5500 Loss 0.04818715900182724\n",
      "Epoch 0 Iter: 6000 Loss 0.026483720168471336\n",
      "Epoch 0 Iter: 6500 Loss 0.0012202704092487693\n",
      "Epoch 0 Iter: 7000 Loss 0.3827202320098877\n",
      "Epoch 0 Iter: 7500 Loss 0.01053999736905098\n",
      "Epoch 0 Iter: 8000 Loss 0.1369558423757553\n",
      "Epoch 0 Iter: 8500 Loss 0.03647216036915779\n",
      "Epoch 0 Iter: 9000 Loss 0.7867702841758728\n",
      "Epoch 0 Iter: 9500 Loss 0.02042834833264351\n",
      "Epoch 0 Iter: 10000 Loss 0.3600314259529114\n",
      "Epoch 0 Iter: 10500 Loss 0.44993892312049866\n",
      "Epoch 0 Iter: 11000 Loss 0.07733452320098877\n",
      "Epoch 0 Iter: 11500 Loss 0.1490086317062378\n",
      "Epoch 0 Iter: 12000 Loss 0.015695910900831223\n",
      "Epoch 0 Iter: 12500 Loss 0.4223730266094208\n",
      "Epoch 0 Iter: 13000 Loss 0.11932175606489182\n",
      "Epoch 0 Iter: 13500 Loss 0.002030677627772093\n",
      "Epoch 0 Iter: 14000 Loss 0.18683753907680511\n",
      "Epoch 0 Iter: 14500 Loss 0.8196009397506714\n",
      "Epoch 1 Iter: 0 Loss 0.15129977464675903\n",
      "Epoch 1 Iter: 500 Loss 0.006785383448004723\n",
      "Epoch 1 Iter: 1000 Loss 0.33190277218818665\n",
      "Epoch 1 Iter: 1500 Loss 2.403045177459717\n",
      "Epoch 1 Iter: 2000 Loss 0.17355138063430786\n",
      "Epoch 1 Iter: 2500 Loss 0.014433878473937511\n",
      "Epoch 1 Iter: 3000 Loss 0.03353423625230789\n",
      "Epoch 1 Iter: 3500 Loss 0.10957896709442139\n",
      "Epoch 1 Iter: 4000 Loss 0.10172051191329956\n",
      "Epoch 1 Iter: 4500 Loss 0.04609076678752899\n",
      "Epoch 1 Iter: 5000 Loss 0.001038642367348075\n",
      "Epoch 1 Iter: 5500 Loss 0.02676740102469921\n",
      "Epoch 1 Iter: 6000 Loss 0.5201875567436218\n",
      "Epoch 1 Iter: 6500 Loss 0.024067189544439316\n",
      "Epoch 1 Iter: 7000 Loss 0.06875937432050705\n",
      "Epoch 1 Iter: 7500 Loss 0.03573114424943924\n",
      "Epoch 1 Iter: 8000 Loss 0.44339704513549805\n",
      "Epoch 1 Iter: 8500 Loss 0.12759152054786682\n",
      "Epoch 1 Iter: 9000 Loss 0.0032260389998555183\n",
      "Epoch 1 Iter: 9500 Loss 0.077198326587677\n",
      "Epoch 1 Iter: 10000 Loss 0.005284018348902464\n",
      "Epoch 1 Iter: 10500 Loss 0.02870439738035202\n",
      "Epoch 1 Iter: 11000 Loss 0.00017974038200918585\n",
      "Epoch 1 Iter: 11500 Loss 0.00344081805087626\n",
      "Epoch 1 Iter: 12000 Loss 0.17322559654712677\n",
      "Epoch 1 Iter: 12500 Loss 0.000336080469423905\n",
      "Epoch 1 Iter: 13000 Loss 0.0005902753910049796\n",
      "Epoch 1 Iter: 13500 Loss 0.0004629154864232987\n",
      "Epoch 1 Iter: 14000 Loss 0.01533038541674614\n",
      "Epoch 1 Iter: 14500 Loss 0.1735685020685196\n",
      "Epoch 2 Iter: 0 Loss 0.0025647119618952274\n",
      "Epoch 2 Iter: 500 Loss 0.210296168923378\n",
      "Epoch 2 Iter: 1000 Loss 0.6957276463508606\n",
      "Epoch 2 Iter: 1500 Loss 0.0010663311695680022\n",
      "Epoch 2 Iter: 2000 Loss 0.017372984439134598\n",
      "Epoch 2 Iter: 2500 Loss 0.03055238351225853\n",
      "Epoch 2 Iter: 3000 Loss 0.04104340448975563\n",
      "Epoch 2 Iter: 3500 Loss 0.01549101434648037\n",
      "Epoch 2 Iter: 4000 Loss 0.0032476824708282948\n",
      "Epoch 2 Iter: 4500 Loss 0.22964920103549957\n",
      "Epoch 2 Iter: 5000 Loss 0.4350526034832001\n",
      "Epoch 2 Iter: 5500 Loss 0.0067566088400781155\n",
      "Epoch 2 Iter: 6000 Loss 0.22942356765270233\n",
      "Epoch 2 Iter: 6500 Loss 0.27544721961021423\n",
      "Epoch 2 Iter: 7000 Loss 0.008198123425245285\n",
      "Epoch 2 Iter: 7500 Loss 1.1461646556854248\n",
      "Epoch 2 Iter: 8000 Loss 4.604234345606528e-05\n",
      "Epoch 2 Iter: 8500 Loss 0.020379774272441864\n",
      "Epoch 2 Iter: 9000 Loss 0.08761493116617203\n",
      "Epoch 2 Iter: 9500 Loss 0.11132404208183289\n",
      "Epoch 2 Iter: 10000 Loss 0.08203524351119995\n",
      "Epoch 2 Iter: 10500 Loss 0.06927314400672913\n",
      "Epoch 2 Iter: 11000 Loss 0.07498639076948166\n",
      "Epoch 2 Iter: 11500 Loss 0.0025875370483845472\n",
      "Epoch 2 Iter: 12000 Loss 0.00033272826112806797\n",
      "Epoch 2 Iter: 12500 Loss 0.0010174744529649615\n",
      "Epoch 2 Iter: 13000 Loss 0.001177014783024788\n",
      "Epoch 2 Iter: 13500 Loss 0.44407787919044495\n",
      "Epoch 2 Iter: 14000 Loss 0.1986987441778183\n",
      "Epoch 2 Iter: 14500 Loss 0.08994431793689728\n"
     ]
    }
   ],
   "source": [
    "net = Net(width=256, depth=6)\n",
    "net.to(device)\n",
    "\n",
    "criterion = nn.CrossEntropyLoss()\n",
    "\n",
    "train(net, criterion, trainloader, 0.001)"
   ]
  },
  {
   "cell_type": "code",
   "execution_count": 252,
   "id": "7a3a2618",
   "metadata": {},
   "outputs": [],
   "source": [
    "test_iter = iter(testloader)"
   ]
  },
  {
   "cell_type": "code",
   "execution_count": 253,
   "id": "cd97fc13",
   "metadata": {},
   "outputs": [
    {
     "data": {
      "image/png": "[encoded data removed]",
      "text/plain": [
       "<Figure size 640x480 with 1 Axes>"
      ]
     },
     "metadata": {},
     "output_type": "display_data"
    },
    {
     "name": "stdout",
     "output_type": "stream",
     "text": [
      "Classifier output: tensor([[-22.3637, -22.6318, -14.1683, -13.9913, -18.4621, -18.0514, -33.2328,\n",
      "          -1.6376, -18.3488, -11.4744]])\n",
      "Classifier prediction: 7\n"
     ]
    }
   ],
   "source": [
    "x, labels = next(test_iter)\n",
    "x = x[0].unsqueeze(0)\n",
    "labels = labels[0].unsqueeze(0)\n",
    "imshow(x[0,0])\n",
    "\n",
    "x = x.to(device)\n",
    "labels = labels.to(device)\n",
    "\n",
    "out = net(x).data\n",
    "print('Classifier output:', out)\n",
    "print('Classifier prediction:', torch.argmax(out).item())"
   ]
  },
  {
   "cell_type": "markdown",
   "id": "d65bfa74",
   "metadata": {},
   "source": [
    "Let's look at accuracy now."
   ]
  },
  {
   "cell_type": "code",
   "execution_count": 254,
   "id": "d016288f",
   "metadata": {},
   "outputs": [],
   "source": [
    "def accuracy(net, testloader):\n",
    "    '''\n",
    "    Returns the accuracy of classifier NET\n",
    "    on test data from TESTLOADER.\n",
    "    '''\n",
    "    correct = 0\n",
    "    total = 0\n",
    "    with torch.no_grad():\n",
    "        for data in testloader:\n",
    "            images, labels = data[0].to(device), data[1].to(device)\n",
    "            outputs = net(images)\n",
    "            _, predicted = torch.max(outputs.data, 1)\n",
    "            total += labels.size(0)\n",
    "            correct += (predicted == labels).sum().item()\n",
    "\n",
    "    return correct / total"
   ]
  },
  {
   "cell_type": "code",
   "execution_count": 255,
   "id": "d681f096",
   "metadata": {},
   "outputs": [
    {
     "name": "stdout",
     "output_type": "stream",
     "text": [
      "Classifier accuracy on original test dataset: 0.9615\n"
     ]
    }
   ],
   "source": [
    "print('Classifier accuracy on original test dataset:', accuracy(net, testloader))"
   ]
  },
  {
   "cell_type": "markdown",
   "id": "26ceb29d",
   "metadata": {},
   "source": [
    "Implement FGSM Method:"
   ]
  },
  {
   "cell_type": "code",
   "execution_count": 256,
   "id": "f095acd9",
   "metadata": {},
   "outputs": [],
   "source": [
    "def FGSM(x, labels, net, eps):\n",
    "    '''\n",
    "    Given an input image X and its corresponding labels\n",
    "    LABELS, as well as a classifier NET, returns X\n",
    "    perturbed by EPS using the fast gradient sign method.\n",
    "    '''\n",
    "    net.zero_grad()    # Zero out any gradients from before\n",
    "    x.requires_grad=True    # Keep track of gradients\n",
    "    out = net(x)    # Output of classifier\n",
    "    criterion = nn.CrossEntropyLoss()\n",
    "    loss = criterion(out, labels)   # Classifier's loss\n",
    "    loss.backward()\n",
    "    grads = x.grad.data    # Gradient of loss w/r/t input\n",
    "    return x + eps*torch.sign(grads)"
   ]
  },
  {
   "cell_type": "markdown",
   "id": "0661e90e",
   "metadata": {},
   "source": [
    "Now we define an epsilon value for FGSM perturbation:"
   ]
  },
  {
   "cell_type": "code",
   "execution_count": 257,
   "id": "56a880d3",
   "metadata": {},
   "outputs": [],
   "source": [
    "eps = 0.05"
   ]
  },
  {
   "cell_type": "code",
   "execution_count": 258,
   "id": "7dee895e",
   "metadata": {},
   "outputs": [
    {
     "data": {
      "image/png": "[encoded data removed]",
      "text/plain": [
       "<Figure size 640x480 with 1 Axes>"
      ]
     },
     "metadata": {},
     "output_type": "display_data"
    },
    {
     "name": "stdout",
     "output_type": "stream",
     "text": [
      "Classifier output: tensor([[-13.2599, -13.6424,  -8.4648,  -6.9246, -12.2551, -10.8774, -22.4507,\n",
      "          -0.9266, -10.7396,  -5.8503]])\n",
      "Classifier prediction: 7\n"
     ]
    }
   ],
   "source": [
    "# We are using the same sample input x as before.\n",
    "x.requires_grad = True\n",
    "x_prime = FGSM(x, labels, net, eps)\n",
    "imshow(x_prime[0,0].cpu())\n",
    "out = net(x_prime)\n",
    "\n",
    "print('Classifier output:', out.data)\n",
    "print('Classifier prediction:', torch.argmax(out).item())"
   ]
  },
  {
   "cell_type": "code",
   "execution_count": 259,
   "id": "14e89790",
   "metadata": {},
   "outputs": [
    {
     "name": "stdout",
     "output_type": "stream",
     "text": [
      "0 12.33333969116211\n",
      "1 12.71578598022461\n",
      "2 7.5381903648376465\n",
      "3 5.998075008392334\n",
      "4 11.32849407196045\n",
      "5 9.950840950012207\n",
      "6 21.524147033691406\n",
      "8 9.81306266784668\n",
      "9 4.923775672912598\n"
     ]
    }
   ],
   "source": [
    "for i in range(10):\n",
    "    c = torch.zeros(10, 1).to(device)\n",
    "    if i != labels:\n",
    "        c[i] = -1\n",
    "        c[labels] = 1\n",
    "        print(i, (out @ c).item())"
   ]
  },
  {
   "cell_type": "code",
   "execution_count": 260,
   "id": "988e339c",
   "metadata": {},
   "outputs": [],
   "source": [
    "def accuracy_on_FGSM(net, testloader, eps):\n",
    "    '''\n",
    "    Returns the accuracy of classifier NET on test\n",
    "    data from TESTLOADER that has been perturbed by\n",
    "    EPS using FSGM.\n",
    "    '''\n",
    "    correct = 0\n",
    "    total = 0\n",
    "    for data in testloader:\n",
    "        x, labels = data[0].to(device), data[1].to(device)\n",
    "        x_prime = FGSM(x, labels, net, eps)\n",
    "        outputs = net(x_prime)\n",
    "        _, predicted = torch.max(outputs.data, 1)\n",
    "        total += labels.size(0)\n",
    "        correct += (predicted == labels).sum().item()\n",
    "\n",
    "    return correct / total"
   ]
  },
  {
   "cell_type": "code",
   "execution_count": 261,
   "id": "c224a172",
   "metadata": {},
   "outputs": [
    {
     "name": "stdout",
     "output_type": "stream",
     "text": [
      "Classifier accuracy on test dataset perturbed with FGSM: 0.8742\n"
     ]
    }
   ],
   "source": [
    "print('Classifier accuracy on test dataset perturbed with FGSM:', accuracy_on_FGSM(net, testloader, eps))"
   ]
  },
  {
   "cell_type": "markdown",
   "id": "f58d6284",
   "metadata": {},
   "source": [
    "# Dual Network"
   ]
  },
  {
   "cell_type": "code",
   "execution_count": 262,
   "id": "f3a885eb",
   "metadata": {},
   "outputs": [],
   "source": [
    "def dual_bounds(x, net, eps):\n",
    "    '''\n",
    "    Given a classifier NET, an input image X,\n",
    "    and the epsilon parameter EPS, returns the lower\n",
    "    and upper bounds L and U respectively, as well as\n",
    "    the corresponding sets S, S_MIN, S_PLUS.\n",
    "    '''\n",
    "    x = x[0].reshape(-1, 1)    # Reshape input to more convenient dimensions\n",
    "    W = [layer.weight for layer in net.layers]    # Array of network weights (W matrices)\n",
    "    b = [layer.bias.reshape(-1, 1) for layer in net.layers]    # Array of network biases (b vectors)\n",
    "    n = W[1].shape[1]    # Dimensionality of hidden layer\n",
    "\n",
    "    U = []\n",
    "    L = []\n",
    "    S = []\n",
    "    S_plus = []\n",
    "    S_min = []\n",
    "\n",
    "    for j in range(0, net.depth - 2):\n",
    "\n",
    "        u = torch.Tensor([W[0][i] @ x + b[j][i] + eps * torch.norm(W[0][i], 1) for i in range(0, n)])\n",
    "        l = torch.Tensor([W[0][i] @ x + b[j][i] - eps * torch.norm(W[0][i], 1) for i in range(0, n)])\n",
    "        #u = torch.Tensor([W[j][i] @ net.z[j-1] + b[j][i] + eps * torch.norm(W[j][i], 1) for i in range(0, n)])\n",
    "        #l = torch.Tensor([W[j][i] @ net.z[j-1] + b[j][i] - eps * torch.norm(W[j][i], 1) for i in range(0, n)])\n",
    "        \n",
    "        U.append(u)\n",
    "        L.append(l)\n",
    "\n",
    "        s = [i for i in range(0, n) if l[i] <= 0 and u[i] >= 0]\n",
    "        s_plus = [i for i in range(0, n) if l[i] <= u[i] and l[i] >= 0]\n",
    "        s_min = [i for i in range(0, n) if u[i] <= 0 and u[i] >= l[i]]\n",
    "        S.append(s)\n",
    "        S_plus.append(s_plus)\n",
    "        S_min.append(s_min)\n",
    "\n",
    "    return L, U, S, S_min, S_plus"
   ]
  },
  {
   "cell_type": "markdown",
   "id": "53882d78",
   "metadata": {},
   "source": [
    "Given the tuple $(l,u,S,S^-,S^+)$, we are ready to calculate the dual objective itself. This function should take in an input image, the classifier, a vector $c$, and the $(l,u,S,S^-,S^+)$ from the previous function in order to output \n",
    "$$\n",
    "d^*(\\vec{x}, \\vec{c}) = \\max_{\\vec{\\nu}}(-\\vec{\\hat{\\nu}}_1^T\\vec{x}-\\epsilon||\\vec{\\hat{\\nu}}_1||_1-\\sum_{i=1}^{n-1}\\vec{\\nu}_{i+1}^T\\vec{b}_i+\\sum_{i=2}^{n-1}\\sum_{j \\in S_i}l_{ij}ReLU(\\vec{\\nu}_{ij}))\n",
    "$$\n",
    "\n",
    "One efficient way to compute $\\vec{\\nu}_i$ is to rewrite it as\n",
    "$$\\vec{\\nu}_i= D\\vec{\\hat{\\nu}}_i,$$\n",
    "where $D$ is a diagonal matrix defined  by\n",
    "$$\n",
    "D_{jj}=\\begin{cases}\n",
    "0 & j\\in S^-\\\\\n",
    "\\hat{\\nu}_{ij} & j\\in S^+\\\\\n",
    "\\dfrac{u_{j}}{u_{j}-l_{j}}\\hat{\\nu}_{ij} & j\\in S.\n",
    "\\end{cases}\n",
    "$$"
   ]
  },
  {
   "cell_type": "code",
   "execution_count": 263,
   "id": "7fbd7687",
   "metadata": {},
   "outputs": [],
   "source": [
    "# Constructs the diagonal D matrix from the S sets, n (the dimensionality\n",
    "# of the hidden layer), u, and l.\n",
    "def StoD(S_min, S_plus, S, n, U, L):\n",
    "    '''\n",
    "    Given upper and lower bounds U and L, as well\n",
    "    as the corresponding sets S_MIN, S_PLUS, and S,\n",
    "    as well as the dimension of the hidden layer N,\n",
    "    returns the corresponding diagonal matrix D.\n",
    "    '''\n",
    "    D = []\n",
    "    for i in range(0, net.depth - 2):\n",
    "        d = []\n",
    "        for j in range(n):\n",
    "            if j in S[i]:\n",
    "                d.append((U[i][j] / (U[i][j] - L[i][j])).item())\n",
    "            elif j in S_plus[i]:\n",
    "                d.append(1)\n",
    "            elif j in S_min[i]:\n",
    "                d.append(0)\n",
    "            else:\n",
    "                assert False, 'StoD error.'\n",
    "        D.append(torch.diag(torch.Tensor(d)).to(device))\n",
    "    return D\n",
    "\n",
    "def dual_forward(x, net, c, eps, L, U, S, S_min, S_plus):\n",
    "    '''\n",
    "    Calculates the dual objective for classifier NET with input X\n",
    "    and dual input C and epsilon parameter S. Depends on lower\n",
    "    and upper bounds L and U, as well as the corresponding sets\n",
    "    S, S_MIN, S_PLUS.\n",
    "    '''\n",
    "    x = x[0].reshape(-1, 1)    # Reshape input to more convenient dimensions\n",
    "    W = [layer.weight for layer in net.layers]    # Array of network weights (W matrices)\n",
    "    b = [layer.bias.reshape(-1, 1) for layer in net.layers]    # Array of network biases (b vectors)\n",
    "    n = W[1].shape[1]    # Dimensionality of hidden layer\n",
    "    D = StoD(S_min, S_plus, S, n, U, L)\n",
    "    nu = []\n",
    "    nuh = []\n",
    "\n",
    "    for i in range(0, net.depth - 1):\n",
    "        if i == 0:\n",
    "            nu.append(-c)\n",
    "        else:\n",
    "            nu.append(D[net.depth - 2 - i] @ nuh[i - 1])\n",
    "        nuh.append(W[net.depth - 2 - i].T @ nu[i])\n",
    "    \n",
    "    nuh = nuh[::-1]\n",
    "    nu = nu[::-1]\n",
    "    \n",
    "    nu_sum = 0\n",
    "    for i in range(1, net.depth - 1):\n",
    "        nu_sum += nu[i].T @ b[i]\n",
    "    \n",
    "    relu_sum = 0\n",
    "    for i in range(0, net.depth - 2):\n",
    "        for j in range(len(nu[i])):\n",
    "            if j in S[i]:\n",
    "                relu_sum += L[i][j] * torch.relu(nu[i][j])\n",
    "    dual = -1 * (nuh[0].T @ x) - eps * (torch.norm(nuh[0], 1)) - nu_sum + relu_sum\n",
    "\n",
    "    return dual\n"
   ]
  },
  {
   "cell_type": "code",
   "execution_count": 264,
   "id": "a770ada9",
   "metadata": {},
   "outputs": [],
   "source": [
    "eps = 0.05"
   ]
  },
  {
   "cell_type": "code",
   "execution_count": 265,
   "id": "09899893",
   "metadata": {},
   "outputs": [
    {
     "name": "stdout",
     "output_type": "stream",
     "text": [
      "0 -1.3670995235443115\n",
      "1 -1.2832828760147095\n",
      "2 -0.7136061787605286\n",
      "3 -0.9312044978141785\n",
      "4 -1.9591467380523682\n",
      "5 -1.1742033958435059\n",
      "6 -1.000011682510376\n",
      "8 -1.29392671585083\n",
      "9 -2.1490113735198975\n"
     ]
    }
   ],
   "source": [
    "# We are still using the same sample input x as before.\n",
    "L, U, S, S_min, S_plus = dual_bounds(x, net, eps)\n",
    "\n",
    "# print(l, u, S, S_min, S_plus)\n",
    "# Here, we loop through each column c_j defined above, and output the \n",
    "# objective value for the dual function with input c.\n",
    "for i in range(10):\n",
    "    c = torch.zeros(10, 1).to(device)\n",
    "    if i != labels:\n",
    "        c[i] = -1\n",
    "        c[labels] = 1\n",
    "        print(i, dual_forward(x, net, c, 0.1, L, U, S, S_min, S_plus).item())"
   ]
  },
  {
   "cell_type": "code",
   "execution_count": 266,
   "id": "16b801c2",
   "metadata": {},
   "outputs": [],
   "source": [
    "def robust_loss(x, label, net, eps, criterion):\n",
    "    '''\n",
    "    Given a batch of input images X, its corresponding lables LABEL,\n",
    "    the classifier NET, epsilon value EPS, and original loss\n",
    "    function CRITERION, returns the robust loss of NET w/r/t\n",
    "    the original loss function, on the input image.\n",
    "    '''\n",
    "    l, u, S, S_min, S_plus = dual_bounds(x, net, eps)\n",
    "    # We assume there are 10 classes.\n",
    "    e_y = torch.zeros(10, 1)\n",
    "    e_y[label] = 1\n",
    "    c = e_y @ torch.ones(1, 10) - torch.eye(10)\n",
    "    J = dual_forward(x, net, c, 0.1, l, u, S, S_min, S_plus).unsqueeze(0)\n",
    "    try:\n",
    "        temp = criterion(-J, label.unsqueeze(0))\n",
    "    except:\n",
    "        temp = criterion(-J, label.unsqueeze(0).expand(1,10))\n",
    "    return temp"
   ]
  },
  {
   "cell_type": "code",
   "execution_count": 267,
   "id": "20e25dde",
   "metadata": {},
   "outputs": [],
   "source": [
    "def robust_train(net, criterion, trainloader, eps, lr=0.001):\n",
    "    '''\n",
    "    Trains the classifier NET using the robust version\n",
    "    of the original loss function CRITERION with paramater EPS,\n",
    "    using training data from TRAINLOADER and with learning rate LR.\n",
    "    \n",
    "    Note that we half the learning rate each epoch.\n",
    "    '''\n",
    "    optimizer = optim.Adam(net.parameters(), lr=lr)\n",
    "        \n",
    "    for epoch in range(1):\n",
    "        for i, data in enumerate(trainloader, 0):\n",
    "            for param_group in optimizer.param_groups:\n",
    "                param_group['lr'] = lr * 0.5 ** (epoch)\n",
    "\n",
    "            inputs, labels = data\n",
    "            optimizer.zero_grad()\n",
    "            loss = 0.0\n",
    "            for k in range(inputs.shape[0]):\n",
    "                x = inputs[k].unsqueeze(0)\n",
    "                label = labels[k].unsqueeze(0)\n",
    "                loss += robust_loss(x, label, net, eps, criterion)\n",
    "            loss.backward()\n",
    "            optimizer.step()\n",
    "            if i % 500 == 0:\n",
    "                print('Epoch', epoch, 'Iter:', i, 'Loss', loss.item())"
   ]
  },
  {
   "cell_type": "code",
   "execution_count": 268,
   "id": "c8df2282",
   "metadata": {},
   "outputs": [],
   "source": [
    "transform = transforms.Compose(\n",
    "    [transforms.ToTensor(),\n",
    "     transforms.Normalize((0.5,), (0.5,))])\n",
    "\n",
    "trainset = torchvision.datasets.MNIST(root='../data', train=True, download=True, transform=transform)\n",
    "\n",
    "trainloader = torch.utils.data.DataLoader(trainset, batch_size=4,\n",
    "                                          shuffle=True, num_workers=2)\n",
    "\n",
    "testset = torchvision.datasets.MNIST(root='../data', train=False,\n",
    "                                       download=True, transform=transform)\n",
    "\n",
    "testloader = torch.utils.data.DataLoader(testset, batch_size=4,\n",
    "                                         shuffle=False, num_workers=2)"
   ]
  },
  {
   "cell_type": "code",
   "execution_count": 269,
   "id": "603259b6",
   "metadata": {},
   "outputs": [
    {
     "name": "stdout",
     "output_type": "stream",
     "text": [
      "Epoch 0 Iter: 0 Loss 9.314839363098145\n",
      "Epoch 0 Iter: 500 Loss 3.744211435317993\n",
      "Epoch 0 Iter: 1000 Loss 1.9044350385665894\n",
      "Epoch 0 Iter: 1500 Loss 0.01411038264632225\n",
      "Epoch 0 Iter: 2000 Loss 1.2873350381851196\n",
      "Epoch 0 Iter: 2500 Loss 0.09556318074464798\n",
      "Epoch 0 Iter: 3000 Loss 4.67132568359375\n",
      "Epoch 0 Iter: 3500 Loss 1.1899360418319702\n",
      "Epoch 0 Iter: 4000 Loss 0.9404752850532532\n",
      "Epoch 0 Iter: 4500 Loss 1.9732692241668701\n",
      "Epoch 0 Iter: 5000 Loss 0.2283797711133957\n",
      "Epoch 0 Iter: 5500 Loss 0.6562962532043457\n",
      "Epoch 0 Iter: 6000 Loss 2.325472354888916\n",
      "Epoch 0 Iter: 6500 Loss 0.2754947543144226\n",
      "Epoch 0 Iter: 7000 Loss 4.907211780548096\n",
      "Epoch 0 Iter: 7500 Loss 0.09602998942136765\n",
      "Epoch 0 Iter: 8000 Loss 2.2070083618164062\n",
      "Epoch 0 Iter: 8500 Loss 2.8512778282165527\n",
      "Epoch 0 Iter: 9000 Loss 0.6221646666526794\n",
      "Epoch 0 Iter: 9500 Loss 0.6932966709136963\n",
      "Epoch 0 Iter: 10000 Loss 1.90590500831604\n",
      "Epoch 0 Iter: 10500 Loss 0.030862275511026382\n",
      "Epoch 0 Iter: 11000 Loss 0.019204840064048767\n",
      "Epoch 0 Iter: 11500 Loss 0.042853936553001404\n",
      "Epoch 0 Iter: 12000 Loss 0.01072734035551548\n",
      "Epoch 0 Iter: 12500 Loss 0.4162456691265106\n",
      "Epoch 0 Iter: 13000 Loss 0.4339964985847473\n",
      "Epoch 0 Iter: 13500 Loss 1.3714301586151123\n",
      "Epoch 0 Iter: 14000 Loss 0.048305410891771317\n",
      "Epoch 0 Iter: 14500 Loss 0.5860156416893005\n"
     ]
    }
   ],
   "source": [
    "net = Net(width=256, depth=6)\n",
    "net.to(device)\n",
    "\n",
    "eps = 0.05\n",
    "criterion = nn.CrossEntropyLoss()\n",
    "\n",
    "robust_train(net, criterion, trainloader, eps, 0.001)"
   ]
  },
  {
   "cell_type": "code",
   "execution_count": 270,
   "id": "f0648b19",
   "metadata": {},
   "outputs": [],
   "source": [
    "test_iter = iter(testloader)"
   ]
  },
  {
   "cell_type": "code",
   "execution_count": 271,
   "id": "a80cf4c2",
   "metadata": {},
   "outputs": [
    {
     "data": {
      "image/png": "[encoded data removed]",
      "text/plain": [
       "<Figure size 640x480 with 1 Axes>"
      ]
     },
     "metadata": {},
     "output_type": "display_data"
    },
    {
     "name": "stdout",
     "output_type": "stream",
     "text": [
      "Classifier output: tensor([[ -4.4405,   2.2486,  29.4472, -12.8132,   4.3104, -14.6299, -16.0580,\n",
      "          13.6417,  -6.1732,  -6.8608]])\n",
      "Classifier prediction: 2\n"
     ]
    }
   ],
   "source": [
    "x, labels = next(test_iter)\n",
    "x = x[0].unsqueeze(0)\n",
    "labels = labels[0].unsqueeze(0)\n",
    "imshow(x[0,0])\n",
    "\n",
    "x = x.to(device)\n",
    "labels = labels.to(device)\n",
    "\n",
    "out = net(x).data\n",
    "print('Classifier output:', out)\n",
    "print('Classifier prediction:', torch.argmax(out).item())"
   ]
  },
  {
   "cell_type": "code",
   "execution_count": 272,
   "id": "bb6c6bca",
   "metadata": {},
   "outputs": [
    {
     "data": {
      "image/png": "[encoded data removed]",
      "text/plain": [
       "<Figure size 640x480 with 1 Axes>"
      ]
     },
     "metadata": {},
     "output_type": "display_data"
    },
    {
     "name": "stdout",
     "output_type": "stream",
     "text": [
      "Classifier output: tensor([[-10.2132,   4.6576,  36.6753, -12.0437,   3.9140, -18.4304, -22.6044,\n",
      "          12.6634,  -8.7376,  -8.8701]])\n",
      "Classifier prediction: 2\n"
     ]
    }
   ],
   "source": [
    "# We are using the same sample input x as before.\n",
    "x.requires_grad = True\n",
    "x_prime = FGSM(x, labels, net, eps)\n",
    "imshow(x_prime[0,0].cpu())\n",
    "out = net(x_prime)\n",
    "\n",
    "print('Classifier output:', out.data)\n",
    "print('Classifier prediction:', torch.argmax(out).item())"
   ]
  },
  {
   "cell_type": "code",
   "execution_count": 273,
   "id": "bc3623c2",
   "metadata": {},
   "outputs": [],
   "source": [
    "def accuracy(net, testloader):\n",
    "    '''\n",
    "    Returns the accuracy of classifier NET\n",
    "    on test data from TESTLOADER.\n",
    "    '''\n",
    "    correct = 0\n",
    "    total = 0\n",
    "    with torch.no_grad():\n",
    "        for data in testloader:\n",
    "            images, labels = data[0].to(device), data[1].to(device)\n",
    "            outputs = net(images)\n",
    "            _, predicted = torch.max(outputs.data, 1)\n",
    "            total += labels.size(0)\n",
    "            correct += (predicted == labels).sum().item()\n",
    "\n",
    "    return correct / total"
   ]
  },
  {
   "cell_type": "code",
   "execution_count": 274,
   "id": "d24d1203",
   "metadata": {},
   "outputs": [
    {
     "name": "stdout",
     "output_type": "stream",
     "text": [
      "Classifier accuracy on original test dataset: 0.5063\n"
     ]
    }
   ],
   "source": [
    "print('Classifier accuracy on original test dataset:', accuracy(net, testloader))"
   ]
  },
  {
   "cell_type": "code",
   "execution_count": 275,
   "id": "aa645196",
   "metadata": {},
   "outputs": [],
   "source": [
    "def accuracy_on_FGSM(net, testloader, eps):\n",
    "    '''\n",
    "    Returns the accuracy of classifier NET on test\n",
    "    data from TESTLOADER that has been perturbed by\n",
    "    EPS using FSGM.\n",
    "    '''\n",
    "    correct = 0\n",
    "    total = 0\n",
    "    for data in testloader:\n",
    "        x, labels = data[0].to(device), data[1].to(device)\n",
    "        x_prime = FGSM(x, labels, net, eps)\n",
    "        outputs = net(x_prime)\n",
    "        _, predicted = torch.max(outputs.data, 1)\n",
    "        total += labels.size(0)\n",
    "        correct += (predicted == labels).sum().item()\n",
    "\n",
    "    return correct / total"
   ]
  },
  {
   "cell_type": "code",
   "execution_count": 276,
   "id": "e9596d7b",
   "metadata": {},
   "outputs": [
    {
     "name": "stdout",
     "output_type": "stream",
     "text": [
      "Classifier accuracy on test dataset perturbed with FGSM: 0.3928\n"
     ]
    }
   ],
   "source": [
    "print('Classifier accuracy on test dataset perturbed with FGSM:', accuracy_on_FGSM(net, testloader, eps))"
   ]
  },
  {
   "cell_type": "code",
   "execution_count": 283,
   "id": "7505da59",
   "metadata": {},
   "outputs": [
    {
     "data": {
      "image/png": "[encoded data removed]",
      "text/plain": [
       "<Figure size 640x640 with 1 Axes>"
      ]
     },
     "metadata": {},
     "output_type": "display_data"
    }
   ],
   "source": [
    "# Data gathered from multiple iterations, updated with each re-run of this script.  Plot below measures classifier accuracy on test dataset perturbed with FGSM \n",
    "# relative to width compared to a baseline of width 256 and depth 3.  All runs were with a network of depth 3.\n",
    "\n",
    "fig1 = plt.figure(figsize=(8,8), dpi=80, facecolor='w', edgecolor='k')\n",
    "plt.rcParams.update({'font.size':16})\n",
    "\n",
    "depth_data = [3, 4, 5, 6]\n",
    "robust_data = [0.83, 0.67, 0.47, 0.39]\n",
    "original_data = [0.89, 0.80, 0.86, 0.87]\n",
    "\n",
    "plt.xlim(2.5, 6.5)\n",
    "plt.ylim(0, 1)\n",
    "\n",
    "plt.plot(depth_data, robust_data)\n",
    "plt.plot(depth_data, original_data)\n",
    "plt.axhline(y=0.89, color='r')\n",
    "\n",
    "plt.legend(['Variable Depth Robust Loss', 'Variable Depth Primal Loss', 'Original Primal Loss Baseline (Depth=3)'])\n",
    "plt.title(\"Classifier Accuracy on Test Dataset Perturbed with FGSM \\nUsing Robust Loss vs. Network Depth with Width=256\\n\")\n",
    "plt.xlabel(\"Network Depth (Layers)\")\n",
    "plt.ylabel(\"Classifier Accuracy\")\n",
    "\n",
    "plt.show()"
   ]
  },
  {
   "cell_type": "code",
   "execution_count": 278,
   "id": "6158b459",
   "metadata": {},
   "outputs": [
    {
     "data": {
      "image/png": "[encoded data removed]",
      "text/plain": [
       "<Figure size 640x640 with 1 Axes>"
      ]
     },
     "metadata": {},
     "output_type": "display_data"
    }
   ],
   "source": [
    "# Data gathered from multiple iterations, updated with each re-run of this script.  Plot below measures classifier accuracy on test dataset perturbed with FGSM \n",
    "# relative to width compared to a baseline of width 256 and depth 3.  All runs were with a network of depth 3.\n",
    "\n",
    "fig1 = plt.figure(figsize=(8,8), dpi=80, facecolor='w', edgecolor='k')\n",
    "plt.rcParams.update({'font.size':16})\n",
    "\n",
    "depth_data = [150, 256, 512, 750]\n",
    "robust_data = [0.82, 0.83, 0.91, 0.88]\n",
    "original_data = [0.87, 0.89, 0.88, 0.85]\n",
    "\n",
    "plt.xlim(100, 800)\n",
    "plt.ylim(0, 1)\n",
    "\n",
    "plt.plot(depth_data, robust_data)\n",
    "plt.plot(depth_data, original_data)\n",
    "plt.axhline(y=0.89, color='r')\n",
    "\n",
    "plt.legend(['Variable Width Robust Loss', 'Variable Width Primal Loss', 'Original Primal Loss Baseline (Width=256)'])\n",
    "plt.title(\"Classifier Accuracy on Test Dataset Perturbed with FGSM \\nUsing Robust Loss vs. Network Width with Depth=3\\n\")\n",
    "plt.xlabel(\"Network Width (Nodes/Hidden Layer)\")\n",
    "plt.ylabel(\"Classifier Accuracy\")\n",
    "\n",
    "plt.show()"
   ]
  },
  {
   "cell_type": "code",
   "execution_count": null,
   "id": "39695f89",
   "metadata": {},
   "outputs": [],
   "source": []
  }
 ],
 "metadata": {
  "kernelspec": {
   "display_name": "Python 3 (ipykernel)",
   "language": "python",
   "name": "python3"
  },
  "language_info": {
   "codemirror_mode": {
    "name": "ipython",
    "version": 3
   },
   "file_extension": ".py",
   "mimetype": "text/x-python",
   "name": "python",
   "nbconvert_exporter": "python",
   "pygments_lexer": "ipython3",
   "version": "3.9.7"
  },
  "vscode": {
   "interpreter": {
    "hash": "916dbcbb3f70747c44a77c7bcd40155683ae19c65e1c03b4aa3499c5328201f1"
   }
  }
 },
 "nbformat": 4,
 "nbformat_minor": 5
}
